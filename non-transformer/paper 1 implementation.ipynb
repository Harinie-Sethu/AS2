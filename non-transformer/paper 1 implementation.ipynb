{
  "cells": [
    {
      "cell_type": "code",
      "source": [
        "# !pip install datasets"
      ],
      "metadata": {
        "id": "qHYVxMHTpnCM"
      },
      "execution_count": 1,
      "outputs": []
    },
    {
      "cell_type": "code",
      "execution_count": 2,
      "metadata": {
        "id": "QWgIYJNdUnJT"
      },
      "outputs": [],
      "source": [
        "import pickle\n",
        "import torch\n",
        "from tqdm import tqdm\n",
        "import numpy as np\n",
        "import pandas as pd\n",
        "import torch.nn as nn\n",
        "import torch.nn.functional as F"
      ]
    },
    {
      "cell_type": "code",
      "source": [
        "# from datasets import load_dataset\n",
        "# import spacy\n",
        "# import re\n",
        "# import nltk"
      ],
      "metadata": {
        "id": "EX5eJqYssMPh"
      },
      "execution_count": 3,
      "outputs": []
    },
    {
      "cell_type": "code",
      "source": [
        "# nltk.download('punkt')"
      ],
      "metadata": {
        "id": "WCBbCSUkqPkv"
      },
      "execution_count": 4,
      "outputs": []
    },
    {
      "cell_type": "code",
      "source": [
        "# nlp = spacy.load(\"en_core_web_sm\")"
      ],
      "metadata": {
        "id": "enmxNKy5pI24"
      },
      "execution_count": 5,
      "outputs": []
    },
    {
      "cell_type": "code",
      "source": [
        "# def preprocess_tokenize_sentence(sentence):\n",
        "#     if sentence == \"\":\n",
        "#         return sentence\n",
        "#     sentence = re.sub(r'\\n', \" \", sentence)\n",
        "#     sentence = re.sub(r'(((http|https):\\/\\/)|www\\.)([a-zA-Z0-9]+\\.){0,2}[a-zA-Z0-9]+([a-zA-Z0-9\\/#%&=\\?_\\.\\-\\+]+)', \"\", sentence)\n",
        "#     sentence = re.sub(r'(@[a-zA-Z0-9_]+)', \"\", sentence)\n",
        "#     sentence = re.sub(r'(#[a-zA-Z0-9_]+\\b)', \"\", sentence)\n",
        "#     sentence = re.sub(r'\\d+', \"\", sentence)\n",
        "#     sentence = re.sub(r'--', \" \", sentence)\n",
        "#     sentence = re.sub(r'[\\_\\$\\*\\^\\(\\)\\[\\]\\{\\}\\=\\+\\<\\>\",\\&\\%\\-\\—\\”\\“\\–\\\\\\.\\?\\!;]', \" \", sentence)\n",
        "#     sentence = re.sub(r'&lt;[^&]*&gt;', '', sentence)\n",
        "#     sentence = re.sub(r'——', \"...\", sentence)\n",
        "#     sentence = re.sub(r'—-?', r\", \", sentence)\n",
        "#     sentence = re.sub(r'_', \"\", sentence)\n",
        "#     sentence = re.sub(r'[“”]', \"\\\"\", sentence)\n",
        "#     sentence = re.sub(r'[‘’]', \"\\'\", sentence)\n",
        "#     sentence = re.sub(r'[.,\\'\"!?()\\[\\]{}\\-;:]+', \"\", sentence)\n",
        "#     sentence = re.sub(r'/', \" \", sentence)\n",
        "\n",
        "#     sentence = sentence.lower()\n",
        "#     sentence = nltk.word_tokenize(sentence)\n",
        "\n",
        "#     pattern = re.compile(r'\\b\\w+\\b')\n",
        "\n",
        "#     sentence = [word for word in sentence if pattern.match(word)]\n",
        "\n",
        "#     # pattern2 = r\"/\"\n",
        "\n",
        "#     return sentence"
      ],
      "metadata": {
        "id": "-RHqTbNRp5HL"
      },
      "execution_count": 6,
      "outputs": []
    },
    {
      "cell_type": "code",
      "source": [
        "# wiki_qa_dataset = load_dataset(\"wiki_qa\")"
      ],
      "metadata": {
        "id": "FYrdIeF-p_QE"
      },
      "execution_count": 7,
      "outputs": []
    },
    {
      "cell_type": "code",
      "source": [
        "# wiki_qa_dataset[\"train\"][11]"
      ],
      "metadata": {
        "id": "es3uBbTvqAkr"
      },
      "execution_count": 8,
      "outputs": []
    },
    {
      "cell_type": "code",
      "source": [
        "# wiki_qa_set = {\n",
        "#     \"train\" : {},\n",
        "#     \"validation\" : {},\n",
        "#     \"test\" : {}\n",
        "# }\n",
        "\n",
        "# for split in [\"train\", \"validation\", \"test\"]:\n",
        "#     for example in wiki_qa_dataset[split]:\n",
        "#         if example[\"question_id\"] not in wiki_qa_set[split]:\n",
        "#             wiki_qa_set[split][example[\"question_id\"]] = {\n",
        "#                 \"question\" : preprocess_tokenize_sentence(example[\"question\"]),\n",
        "#                 \"answers\" : [],\n",
        "#                 \"labels\" : [],\n",
        "#                 \"sum_labels\" : 0\n",
        "#             }\n",
        "#         wiki_qa_set[split][example[\"question_id\"]][\"answers\"].append(preprocess_tokenize_sentence(example[\"answer\"]))\n",
        "#         wiki_qa_set[split][example[\"question_id\"]][\"labels\"].append(example[\"label\"])\n",
        "#         wiki_qa_set[split][example[\"question_id\"]][\"sum_labels\"] += example[\"label\"]\n",
        "\n",
        "# wiki_qa_train = [{\"question\" : wiki_qa_set[\"train\"][qn][\"question\"],\n",
        "#                   \"answers\" : wiki_qa_set[\"train\"][qn][\"answers\"],\n",
        "#                   \"labels\" : wiki_qa_set[\"train\"][qn][\"labels\"]} for qn in wiki_qa_set[\"train\"] if wiki_qa_set[\"train\"][qn][\"sum_labels\"] > 0]\n",
        "\n",
        "# wiki_qa_validation = [{\"question\" : wiki_qa_set[\"validation\"][qn][\"question\"],\n",
        "#                     \"answers\" : wiki_qa_set[\"validation\"][qn][\"answers\"],\n",
        "#                     \"labels\" : wiki_qa_set[\"validation\"][qn][\"labels\"]} for qn in wiki_qa_set[\"validation\"] if wiki_qa_set[\"validation\"][qn][\"sum_labels\"] > 0]\n",
        "\n",
        "# wiki_qa_test = [{\"question\" : wiki_qa_set[\"test\"][qn][\"question\"],\n",
        "#                 \"answers\" : wiki_qa_set[\"test\"][qn][\"answers\"],\n",
        "#                 \"labels\" : wiki_qa_set[\"test\"][qn][\"labels\"]} for qn in wiki_qa_set[\"test\"] if wiki_qa_set[\"test\"][qn][\"sum_labels\"] > 0]"
      ],
      "metadata": {
        "id": "Dextdnu2qGvt"
      },
      "execution_count": 9,
      "outputs": []
    },
    {
      "cell_type": "code",
      "source": [
        "# for i in range(4):\n",
        "#     print(wiki_qa_train[i])"
      ],
      "metadata": {
        "id": "MfPWnh27qXIA"
      },
      "execution_count": 10,
      "outputs": []
    },
    {
      "cell_type": "code",
      "source": [
        "# print(len(wiki_qa_train))"
      ],
      "metadata": {
        "id": "xvKbGzSmqcCr"
      },
      "execution_count": 11,
      "outputs": []
    },
    {
      "cell_type": "code",
      "source": [
        "# with open(\"wiki_qa_train.pkl\", \"wb\") as f:\n",
        "#     pickle.dump(wiki_qa_train, f)\n",
        "\n",
        "# with open(\"wiki_qa_validation.pkl\", \"wb\") as f:\n",
        "#     pickle.dump(wiki_qa_validation, f)\n",
        "\n",
        "# with open(\"wiki_qa_test.pkl\", \"wb\") as f:\n",
        "#     pickle.dump(wiki_qa_test, f)"
      ],
      "metadata": {
        "id": "tvbMMd5oqhvz"
      },
      "execution_count": 12,
      "outputs": []
    },
    {
      "cell_type": "code",
      "execution_count": 13,
      "metadata": {
        "id": "lpp23CQVNWBr"
      },
      "outputs": [],
      "source": [
        "# loading the tokenized datasets\n",
        "train = pickle.load(open('wiki_qa_train.pkl', 'rb'))\n",
        "test = pickle.load(open('wiki_qa_test.pkl', 'rb'))\n",
        "val = pickle.load(open('wiki_qa_validation.pkl', 'rb'))"
      ]
    },
    {
      "cell_type": "code",
      "execution_count": 14,
      "metadata": {
        "colab": {
          "base_uri": "https://localhost:8080/"
        },
        "id": "cGtFq1N0QbCM",
        "outputId": "ae0695c9-3a15-47b0-ac33-aad4d9b9bbcf"
      },
      "outputs": [
        {
          "output_type": "execute_result",
          "data": {
            "text/plain": [
              "{'question': ['how',\n",
              "  'african',\n",
              "  'americans',\n",
              "  'were',\n",
              "  'immigrated',\n",
              "  'to',\n",
              "  'the',\n",
              "  'us'],\n",
              " 'answers': [['african',\n",
              "   'immigration',\n",
              "   'to',\n",
              "   'the',\n",
              "   'united',\n",
              "   'states',\n",
              "   'refers',\n",
              "   'to',\n",
              "   'immigrants',\n",
              "   'to',\n",
              "   'the',\n",
              "   'united',\n",
              "   'states',\n",
              "   'who',\n",
              "   'are',\n",
              "   'or',\n",
              "   'were',\n",
              "   'nationals',\n",
              "   'of',\n",
              "   'africa'],\n",
              "  ['the',\n",
              "   'term',\n",
              "   'african',\n",
              "   'in',\n",
              "   'the',\n",
              "   'scope',\n",
              "   'of',\n",
              "   'this',\n",
              "   'article',\n",
              "   'refers',\n",
              "   'to',\n",
              "   'geographical',\n",
              "   'or',\n",
              "   'national',\n",
              "   'origins',\n",
              "   'rather',\n",
              "   'than',\n",
              "   'racial',\n",
              "   'affiliation'],\n",
              "  ['from',\n",
              "   'the',\n",
              "   'immigration',\n",
              "   'and',\n",
              "   'nationality',\n",
              "   'act',\n",
              "   'of',\n",
              "   'to',\n",
              "   'an',\n",
              "   'estimated',\n",
              "   'total',\n",
              "   'of',\n",
              "   'to',\n",
              "   'million',\n",
              "   'africans',\n",
              "   'immigrated',\n",
              "   'to',\n",
              "   'the',\n",
              "   'united',\n",
              "   'states',\n",
              "   'accounting',\n",
              "   'for',\n",
              "   'roughly',\n",
              "   'of',\n",
              "   'total',\n",
              "   'immigration',\n",
              "   'to',\n",
              "   'the',\n",
              "   'united',\n",
              "   'states',\n",
              "   'during',\n",
              "   'this',\n",
              "   'period'],\n",
              "  ['african',\n",
              "   'immigrants',\n",
              "   'in',\n",
              "   'the',\n",
              "   'united',\n",
              "   'states',\n",
              "   'come',\n",
              "   'from',\n",
              "   'almost',\n",
              "   'all',\n",
              "   'regions',\n",
              "   'in',\n",
              "   'africa',\n",
              "   'and',\n",
              "   'do',\n",
              "   'not',\n",
              "   'constitute',\n",
              "   'a',\n",
              "   'homogeneous',\n",
              "   'group'],\n",
              "  ['they',\n",
              "   'include',\n",
              "   'people',\n",
              "   'from',\n",
              "   'different',\n",
              "   'national',\n",
              "   'linguistic',\n",
              "   'ethnic',\n",
              "   'racial',\n",
              "   'cultural',\n",
              "   'and',\n",
              "   'social',\n",
              "   'backgrounds'],\n",
              "  ['as',\n",
              "   'such',\n",
              "   'african',\n",
              "   'immigrants',\n",
              "   'are',\n",
              "   'to',\n",
              "   'be',\n",
              "   'distinguished',\n",
              "   'from',\n",
              "   'african',\n",
              "   'american',\n",
              "   'people',\n",
              "   'the',\n",
              "   'latter',\n",
              "   'of',\n",
              "   'whom',\n",
              "   'are',\n",
              "   'descendants',\n",
              "   'of',\n",
              "   'mostly',\n",
              "   'west',\n",
              "   'and',\n",
              "   'central',\n",
              "   'africans',\n",
              "   'who',\n",
              "   'were',\n",
              "   'involuntarily',\n",
              "   'brought',\n",
              "   'to',\n",
              "   'the',\n",
              "   'united',\n",
              "   'states',\n",
              "   'by',\n",
              "   'means',\n",
              "   'of',\n",
              "   'the',\n",
              "   'historic',\n",
              "   'atlantic',\n",
              "   'slave',\n",
              "   'trade']],\n",
              " 'labels': [0, 0, 0, 0, 0, 1]}"
            ]
          },
          "metadata": {},
          "execution_count": 14
        }
      ],
      "source": [
        "test[0]"
      ]
    },
    {
      "cell_type": "code",
      "execution_count": 15,
      "metadata": {
        "id": "QO-wgojkUcbR"
      },
      "outputs": [],
      "source": [
        "numberbatch_embeddings = pickle.load(open('/content/drive/MyDrive/numberbatch_embeddings.pkl', 'rb'))"
      ]
    },
    {
      "cell_type": "code",
      "execution_count": 16,
      "metadata": {
        "id": "mzUFiNFnUdlM"
      },
      "outputs": [],
      "source": [
        "wiki_qa_vocab = [\"<PAD>\", \"<UNK>\", \"<S>\", \"</S>\"]\n",
        "\n",
        "def add_to_vocab(data, vocab):\n",
        "    for datum in data:\n",
        "        # datum is the key of the dictionary\n",
        "        for words in datum[\"question\"]:\n",
        "            if words not in vocab:\n",
        "                vocab.append(words)\n",
        "\n",
        "        for answer in datum[\"answers\"]:\n",
        "            for words in answer:\n",
        "                if words not in vocab:\n",
        "                    vocab.append(words)\n",
        "    return"
      ]
    },
    {
      "cell_type": "code",
      "execution_count": 17,
      "metadata": {
        "id": "BEFmpVR2UfOf"
      },
      "outputs": [],
      "source": [
        "add_to_vocab(train, wiki_qa_vocab)\n",
        "add_to_vocab(test, wiki_qa_vocab)\n",
        "add_to_vocab(val, wiki_qa_vocab)"
      ]
    },
    {
      "cell_type": "code",
      "execution_count": 18,
      "metadata": {
        "id": "0KT8jTRdYEX9",
        "colab": {
          "base_uri": "https://localhost:8080/"
        },
        "outputId": "df8a64cb-be08-415e-e486-ba88373afbc9"
      },
      "outputs": [
        {
          "output_type": "stream",
          "name": "stdout",
          "text": [
            "22928\n"
          ]
        }
      ],
      "source": [
        "print(len(wiki_qa_vocab))"
      ]
    },
    {
      "cell_type": "code",
      "execution_count": 19,
      "metadata": {
        "id": "P4HfB1v8Ugpm"
      },
      "outputs": [],
      "source": [
        "wiki_qa_vocab2id = {word: i for i, word in enumerate(wiki_qa_vocab)}"
      ]
    },
    {
      "cell_type": "code",
      "execution_count": 20,
      "metadata": {
        "id": "f30w4GstUh7f"
      },
      "outputs": [],
      "source": [
        "def get_missing_embedding(word, word_embeddings):\n",
        "    possible_matches = []\n",
        "\n",
        "    index = len(word) - 1\n",
        "\n",
        "    while(index > 0):\n",
        "        for known_word in word_embeddings.keys():\n",
        "            if known_word.startswith(word[:index]):\n",
        "                possible_matches.append(known_word)\n",
        "\n",
        "        if possible_matches:\n",
        "            avg_embedding = np.mean([word_embeddings[word] for word in possible_matches], axis=0)\n",
        "            return avg_embedding\n",
        "\n",
        "        index -= 1\n",
        "\n",
        "    return None"
      ]
    },
    {
      "cell_type": "code",
      "execution_count": 21,
      "metadata": {
        "id": "Gqe1FipuUjL2",
        "colab": {
          "base_uri": "https://localhost:8080/"
        },
        "outputId": "e19dd1cf-c079-4ec1-b2f2-91a79d12e6d4"
      },
      "outputs": [
        {
          "output_type": "stream",
          "name": "stderr",
          "text": [
            "100%|██████████| 22928/22928 [20:50<00:00, 18.34it/s]\n"
          ]
        }
      ],
      "source": [
        "wiki_qa_embeddings = []\n",
        "index = 0\n",
        "for i in tqdm(range(len(wiki_qa_vocab))):\n",
        "   word = wiki_qa_vocab[i]\n",
        "   if(word==\"<PAD>\"):\n",
        "      wiki_qa_embeddings.append(torch.Tensor([0.0] * 300))\n",
        "   elif(word==\"<S>\"):\n",
        "      wiki_qa_embeddings.append(torch.Tensor([1.0] * 300))\n",
        "   elif(word==\"</S>\"):\n",
        "      wiki_qa_embeddings.append(torch.Tensor([-1.0] * 300))\n",
        "   elif(word==\"<UNK>\"):\n",
        "      wiki_qa_embeddings.append(torch.Tensor([0.0] * 300))\n",
        "   else:\n",
        "      if word in numberbatch_embeddings:\n",
        "         wiki_qa_embeddings.append(torch.Tensor(numberbatch_embeddings[word]))\n",
        "      else:\n",
        "         if(get_missing_embedding(word, numberbatch_embeddings) is not None):\n",
        "            wiki_qa_embeddings.append(torch.Tensor(get_missing_embedding(word, numberbatch_embeddings)))\n",
        "         else:\n",
        "            wiki_qa_embeddings.append(torch.Tensor([0.0] * 300))\n",
        "   index += 1"
      ]
    },
    {
      "cell_type": "code",
      "source": [
        "# save the embeddings\n",
        "pickle.dump(wiki_qa_embeddings, open('wiki_qa_embeddings.pkl', 'wb'))\n",
        "\n",
        "# save the wiki_qa_vocab2id\n",
        "pickle.dump(wiki_qa_vocab2id, open('wiki_qa_vocab2id.pkl', 'wb'))"
      ],
      "metadata": {
        "id": "B2pp03g4gr9M"
      },
      "execution_count": 22,
      "outputs": []
    },
    {
      "cell_type": "code",
      "source": [
        "# # load the embeddings\n",
        "# wiki_qa_embeddings = pickle.load(open('wiki_qa_embeddings.pkl', 'rb'))\n",
        "\n",
        "# # load the wiki_qa_vocab2id\n",
        "# wiki_qa_vocab2id = pickle.load(open('wiki_qa_vocab2id.pkl', 'rb'))"
      ],
      "metadata": {
        "id": "i4tsnYWljTmR"
      },
      "execution_count": 23,
      "outputs": []
    },
    {
      "cell_type": "code",
      "source": [
        "def pad_sequence(data, min_length):\n",
        "    for datum in data:\n",
        "        if len(datum[\"question\"]) < min_length:\n",
        "            print(\"question\", datum[\"question\"])\n",
        "            datum[\"question\"] += [\"<PAD>\"] * (min_length - len(datum[\"question\"]))\n",
        "\n",
        "        for i in range(len(datum[\"answers\"])):\n",
        "            if len(datum[\"answers\"][i]) < min_length:\n",
        "                print(\"answer\", datum[\"answers\"][i])\n",
        "                datum[\"answers\"][i] += [\"<PAD>\"] * (min_length - len(datum[\"answers\"][i]))\n",
        "    return\n",
        "\n",
        "pad_sequence(train, 5)\n",
        "pad_sequence(test, 5)\n",
        "pad_sequence(val, 5)"
      ],
      "metadata": {
        "colab": {
          "base_uri": "https://localhost:8080/"
        },
        "id": "2EaOmjjab1Cz",
        "outputId": "5d94079a-e557-47ee-9fca-e0702a95193c"
      },
      "execution_count": 24,
      "outputs": [
        {
          "output_type": "stream",
          "name": "stdout",
          "text": [
            "answer ['measuring', 'spoons']\n",
            "answer ['viking', 'c', 'rocket', 'engine']\n",
            "answer ['nassau']\n",
            "answer ['freeport', 'bahamas']\n",
            "answer ['ibid']\n",
            "question ['what', 'continent', 'is', 'australia']\n",
            "answer ['a', 'grab', 'dredge']\n",
            "question ['what', 'area', 'code', 'is']\n",
            "question ['what', 'does', 'arraignment', 'mean']\n",
            "question ['what', 'did', 'chaucer', 'do']\n",
            "question ['how', 'do', 'pineapples', 'grow']\n",
            "answer ['url', 'http']\n",
            "answer ['moroccan', 'wine', 'kasher', 'label']\n",
            "answer ['districts', 'of', 'west', 'bengal']\n",
            "answer ['typical', 'eukaryotic', 'cell']\n",
            "question ['how', 'fire', 'extinguisher', 'works']\n",
            "answer ['may']\n",
            "question ['what', 'do', 'porcupines', 'eat']\n",
            "answer ['effective', 'nuclear', 'charge', 'diagram']\n",
            "question ['what', 'domain', 'is', 'eu']\n",
            "question ['how', 'many', 'seasons', 'heroes']\n",
            "answer ['infobox', 'holiday']\n",
            "answer ['chinese', 'new', 'year']\n",
            "answer ['february', 'vietnam']\n",
            "answer ['a', 'modern', 'backpack']\n",
            "answer ['swiss', 'army', 'backpack', 'ca']\n",
            "answer ['integrated', 'bearer', 'frame']\n",
            "answer ['goat', 'cheese']\n",
            "answer ['the', 'betsy', 'ross', 'flag']\n",
            "question ['what', 'caused', 'ww']\n",
            "answer ['skeletal', 'muscles', 'homo', 'sapiens']\n",
            "answer ['examples', 'range', 'from', 'to']\n",
            "question ['what', 'chili', 'wants', 'wiki']\n",
            "question ['what', 'do', 'uas', 'detect']\n",
            "answer ['amphetamines', 'including', 'methamphetamine']\n",
            "answer ['barbiturates']\n",
            "answer ['benzodiazepines']\n",
            "answer ['cannabinoids', 'thc']\n",
            "answer ['cocaine']\n",
            "answer ['methadone']\n",
            "answer ['methaqualone']\n",
            "answer ['phencyclidine', 'pcp']\n",
            "answer ['propoxyphene']\n",
            "answer ['for', 'example']\n",
            "answer ['reagan', 'left', 'office', 'in']\n",
            "question ['what', 'does', 'oklahoma', 'produce']\n",
            "question ['what', 'area', 'code', 'is']\n",
            "answer ['in', 'jennings', 'won', 'jeopardy']\n",
            "answer ['winnings']\n",
            "answer ['record']\n",
            "answer ['ddr', 'sdram', 'based', 'ssd']\n",
            "answer ['max', 'and']\n",
            "question ['what', 'creates', 'sonic', 'boom']\n",
            "answer ['mach', 'cone', 'angle']\n",
            "question ['what', 'does', 'sic', 'mean']\n",
            "answer ['shetland', 'islands', 'council']\n",
            "answer ['px']\n",
            "answer ['this', 'illustrates', 'the', 'relationship']\n",
            "answer ['expressed', 'algebraically']\n",
            "answer ['its', 'value', 'is']\n",
            "question ['what', 'countries', 'legalize', 'marijuana']\n",
            "question ['what', 'do', 'biologists', 'do']\n",
            "answer ['to', 'view', 'labels']\n",
            "question ['what', 'does', 'gringo', 'mean']\n",
            "answer ['nissan', 'intelligent', 'key®']\n",
            "answer ['from', 'meyers', 'konversations', 'lexikon']\n",
            "question ['what', 'do', 'cyberstalkers', 'do']\n",
            "answer ['both', 'are', 'criminal', 'offenses']\n",
            "question ['how', 'is', 'today', 'special']\n",
            "question ['what', 'causes', 'brain', 'freeze']\n",
            "answer ['no']\n",
            "answer ['hollow', 'lacedaemon']\n",
            "answer ['skeletal', 'muscles', 'homo', 'sapiens']\n",
            "answer ['examples', 'range', 'from', 'to']\n",
            "answer ['human', 'lungs']\n",
            "question ['what', 'a', 'margarita', 'contains']\n",
            "question ['what', 'color', 'is', 'burgundy']\n",
            "answer ['with', 'fat', 'joe']\n",
            "question ['what', 'does', 'xylem', 'transport']\n",
            "question ['how', 'is', 'hydrogen', 'produced']\n",
            "answer ['bp']\n",
            "answer ['bp']\n",
            "question ['what', 'causes', 'rogue', 'waves']\n",
            "question ['what', 'do', 'pigs', 'eat']\n",
            "answer ['philosopher', 'plato', 'by', 'silanion']\n",
            "question ['how', 'is', 'schizophrenia', 'diagnosed']\n",
            "question ['how', 'does', 'weather', 'happen']\n",
            "answer ['thunderstorm', 'near', 'garajau', 'madeira']\n",
            "question ['what', 'causes', 'the', 'seasons']\n",
            "answer ['the', 'six', 'ecological', 'seasons']\n",
            "question ['what', 'does', 'fidelity', 'do']\n",
            "question ['what', 'causes', 'thunder', 'sound']\n",
            "question ['what', 'area', 'code', 'is']\n",
            "answer ['area', 'codes', 'in', 'michigan']\n",
            "question ['what', 'are', 'corporation', 'balance']\n",
            "question ['what', 'is', 'hmr', 'caliber']\n",
            "question ['who', 'killed', 'julius', 'caesar']\n",
            "question ['who', 'wrote', 'white', 'christmas']\n",
            "answer ['thumb']\n",
            "question ['what', 'are', 'use', 'taxes']\n",
            "question ['who', 'pulmonary', 'hypertension']\n",
            "question ['who', 'created', 'facebook']\n",
            "question ['what', 'are', 'the', 'sulfas']\n",
            "answer ['sulfonamide', 'functional', 'group']\n",
            "answer ['lr', 'alkaline', 'cell']\n",
            "answer ['lr', 'lrg', 'lrgd', 'lrh']\n",
            "answer ['nsn']\n",
            "answer ['a']\n",
            "answer []\n",
            "answer ['sr', 'srw', 'srsw']\n",
            "answer ['nsn']\n",
            "answer ['sr']\n",
            "answer ['so']\n",
            "answer ['sop']\n",
            "answer ['sg']\n",
            "answer ['s']\n",
            "answer ['epx', 'energizer']\n",
            "answer ['dh']\n",
            "answer ['typical', 'strip', 'of', 'bacon']\n",
            "answer ['carl', 'jung', 'in']\n",
            "question ['what', 'are', 'superannuation', 'contributions']\n",
            "question ['what', 'are', 'spoilers', 'for']\n",
            "answer ['lobby', 'of', 'jambo', 'house']\n",
            "answer ['it', 'opened', 'on', 'april']\n",
            "question ['who', 'owns', 'land', 'rover']\n",
            "question ['when', 'president', 'nixon', 'resigns']\n",
            "question ['when', 'did', 'secretariat', 'win']\n",
            "answer ['maya', 'numerals']\n",
            "question ['who', 'founded', 'walmart']\n",
            "question ['who', 'won', 'antm', 'cycle']\n",
            "answer ['it', 'premiered', 'on', 'march']\n",
            "question ['who', 'owns', 'exxon', 'mobil']\n",
            "question ['who', 'built', 'the', 'globe']\n",
            "answer ['data', 'warehouse', 'overview']\n",
            "answer ['marchantia', 'a', 'liverwort']\n",
            "question ['when', 'did', 'xbox', 'release']\n",
            "answer ['a', 'prank', 'stink', 'bomb']\n",
            "answer ['newspaper', 'advertisement']\n",
            "question ['who', 'does', 'afge', 'represent']\n",
            "question ['what', 'are', 'rocker', 'arms']\n",
            "answer ['rocker', 'arm']\n",
            "question ['what', 'is', 'amoxicillin', 'for']\n",
            "answer ['amoxicillin', 'bp']\n",
            "answer ['sata', 'io', 'serialata', 'org']\n",
            "question ['who', 'invented', 'the', 'internet']\n",
            "question ['what', 'produces', 'calcitonin']\n",
            "answer ['december', 'implosion']\n",
            "question ['who', 'makes', 'nexen', 'tires']\n",
            "answer ['nasa']\n",
            "answer ['ca']\n",
            "question ['who', 'shot', 'franz', 'ferdinand']\n",
            "question ['when', 'does', 'v', 'start']\n",
            "answer ['cashmere', 'scarves']\n",
            "question ['who', 'invented', 'egg', 'rolls']\n",
            "question ['what', 'zones', 'are', 'tropical']\n",
            "question ['when', 'did', 'wwi', 'begin']\n",
            "question ['who', 'owns', 'smirnoff']\n",
            "question ['who', 'wrote', 'serenity', 'prayer']\n",
            "answer ['uncooked', 'rouladen']\n",
            "answer ['typical', 'eukaryotic', 'cell']\n",
            "answer ['second', 'for', 'time']\n",
            "answer ['ampere', 'for', 'electric', 'current']\n",
            "answer ['kelvin', 'for', 'temperature']\n",
            "answer ['candela', 'for', 'luminous', 'intensity']\n",
            "question ['what', 'is', 'bombings']\n",
            "question ['who', 'shot', 'john', 'lennon']\n",
            "answer ['kurts', 'signature']\n",
            "answer ['stührling', 'tourbillon', 'movement']\n",
            "question ['who', 'killed', 'robert', 'kennedy']\n",
            "question ['who', 'owns', 'hamburger', 'helper']\n",
            "answer ['px']\n",
            "answer ['makemake', 'artists', 'conception']\n",
            "answer ['photo', 'of', 'total', 'eclipse']\n",
            "answer ['a', 'comparison']\n",
            "question ['who', 'owns', 'popeyes', 'chicken']\n",
            "answer ['theodore', 't', 'r']\n",
            "question ['who', 'starred', 'in', 'webster']\n",
            "question ['what', 'is', 'adem', 'disease']\n",
            "question ['who', 'created', 'bing']\n",
            "question ['who', 'made', 'hubble', 'telescope']\n",
            "question ['what', 'are', 'anti', 'inflammatories']\n",
            "answer ['ss', 'andrea', 'doria']\n",
            "question ['what', 'are', 'dialysis', 'tubes']\n",
            "answer ['dialysis', 'tubing']\n",
            "answer ['four', 'thirds', 'logo']\n",
            "question ['who', 'wrote', 'nature', 'boy']\n",
            "answer ['they', 'number', 'around', 'million']\n",
            "question ['what', 'are', 'add', 'ons']\n",
            "answer ['add', 'on', 'might', 'mean']\n",
            "question ['what', 'are', 'club', 'seats']\n",
            "question ['who', 'rules', 'communism', 'government']\n",
            "question ['what', 'are', 'k', 'cups']\n",
            "answer ['five', 'k', 'cups']\n",
            "question ['who', 'invented', 'the', 'television']\n",
            "question ['who', 'made', 'facebook']\n",
            "question ['what', 'are', 'lobbying', 'groups']\n",
            "question ['who', 'sang', 'cool', 'jerk']\n",
            "question ['what', 'are', 'loan', 'originations']\n",
            "question ['when', 'slavery', 'abolished']\n",
            "question ['what', 'produces', 'primary', 'xylem']\n",
            "question ['what', 'is', 'a', 'ti']\n",
            "question ['who', 'sang', 'sun', 'city']\n",
            "question ['what', 'are', 'the', 'continents']\n",
            "question ['when', 'monopoly', 'came', 'out']\n",
            "question ['what', 'state', 'is', 'mn']\n",
            "answer ['standard', 'atomic', 'mass', 'u']\n",
            "answer ['who', 'moved', 'my', 'cheese']\n",
            "question ['who', 'replaced', 'nikita', 'khrushchev']\n",
            "question ['what', 'are', 'mnemonic', 'devices']\n",
            "answer ['surveyors', 'wheel']\n",
            "question ['who', 'makes', 'blackberry']\n",
            "answer ['bmw', 'il']\n",
            "answer ['buick', 'roadmaster']\n",
            "answer ['hydraulic', 'fluid', 'being', 'poured']\n",
            "answer ['mahindra', 'tractor']\n",
            "question ['what', 'is', 'firebird', 'server']\n",
            "question ['what', 'is', 'sims', 'language']\n",
            "answer ['written', 'simlish']\n",
            "question ['when', 'was', 'raphael', 'born']\n",
            "question ['what', 'is', 'lung', 'effusion']\n",
            "question ['what', 'is', 'spelt', 'flour']\n",
            "question ['what', 'is', 'cubic', 'ft']\n",
            "question ['what', 'is', 'sanskrit', 'shri']\n",
            "answer ['sri', 'sinhala']\n",
            "question ['what', 'is', 'bones', 'job']\n",
            "question ['where', 'are', 'facial', 'sinuses']\n",
            "question ['what', 'was', 'freedom', 'summer']\n",
            "answer ['anita', 'mk', 'viii']\n",
            "question ['what', 'is', 'in', 'milk']\n",
            "answer ['propolis', 'as', 'hive', 'sealing']\n",
            "answer ['was', 'released', 'on', 'november']\n",
            "question ['what', 'is', 'blood', 'urea']\n",
            "answer ['corpus', 'christi', 'procession']\n",
            "answer ['corpus', 'domini', 'redirects', 'here']\n",
            "answer ['portugal', 'colonized', 'brazil']\n",
            "question ['where', 'is', 'testosterone', 'produced']\n",
            "question ['when', 'was', 'jamestown', 'colonized']\n",
            "answer ['see', 'also', 'algoma', 'disambiguation']\n",
            "question ['what', 'is', 'renaissance', 'english']\n",
            "question ['where', 'is', 'kj', 'from']\n",
            "question ['what', 'is', 'el', 'mate']\n",
            "question ['what', 'is', 'dmitri', 'mendeleev']\n",
            "question ['where', 'is', 'modesto', 'california']\n",
            "question ['when', 'was', 'srv', 'born']\n",
            "question ['what', 'is', 'ethernet', 'gigabit']\n",
            "answer ['gige', 'redirects', 'here']\n",
            "answer ['eric', 'e']\n",
            "question ['what', 'is', 'endodontic', 'dentistry']\n",
            "question ['what', 'is', 'primary', 'medicine']\n",
            "question ['where', 'is', 'shropshire', 'uk']\n",
            "question ['what', 'is', 'vat', 'tax']\n",
            "question ['when', 'is', 'passover', 'over']\n",
            "question ['what', 'is', 'captcha', 'code']\n",
            "answer ['mary', 'dont', 'you', 'weep']\n",
            "answer ['valley', 'village', 'parkvalley']\n",
            "answer ['many', 'species', 'are', 'threatened']\n",
            "question ['what', 'is', 'non', 'binding']\n",
            "question ['what', 'is', 'pci', 'interface']\n",
            "question ['where', 'is', 'chayanne', 'from']\n",
            "answer ['evan', 'williams', 'bourbon', 'whiskey']\n",
            "question ['what', 'is', 'singapores', 'currency']\n",
            "answer ['red', 'cardinal', 'redirects', 'here']\n",
            "question ['what', 'is', 'hydrogen', 'in']\n",
            "answer ['key']\n",
            "question ['where', 'is', 'kos', 'from']\n",
            "answer ['his', 'fourth', 'album', 'yes']\n",
            "answer ['was', 'released', 'in']\n",
            "question ['what', 'is', 'scurvy', 'disease']\n",
            "question ['what', 'is', 'lockton', 'affinity']\n",
            "question ['where', 'is', 'basque', 'spoken']\n",
            "question ['what', 'is', 'human', 'chorionic']\n",
            "question ['where', 'is', 'osaka', 'japan']\n",
            "answer ['osaka', 'castle']\n",
            "answer ['median', 'us', 'household', 'income']\n",
            "answer ['lactose']\n",
            "question ['what', 'causes', 'heart', 'disease']\n",
            "answer ['thumb']\n",
            "question ['what', 'can', 'sql', 'do']\n",
            "question ['what', 'does', 'righteousness', 'mean']\n",
            "question ['how', 'is', 'jerky', 'made']\n",
            "answer ['spiced', 'strips', 'of', 'jerky']\n",
            "answer ['aerial', 'view', 'in']\n",
            "answer ['px']\n",
            "answer ['amphetamines', 'including', 'methamphetamine']\n",
            "answer ['barbiturates']\n",
            "answer ['benzodiazepines']\n",
            "answer ['cannabinoids', 'thc']\n",
            "answer ['cocaine']\n",
            "answer ['methadone']\n",
            "answer ['methaqualone']\n",
            "answer ['phencyclidine', 'pcp']\n",
            "answer ['propoxyphene']\n",
            "answer ['the', 'th', 'stanza', 'is']\n",
            "question ['what', 'creates', 'a', 'cloud']\n",
            "answer ['stratocumulus', 'stratiformis', 'cumulogenitus']\n",
            "question ['how', 'kimberlite', 'pipes', 'form']\n",
            "answer ['volcanic', 'pipe']\n",
            "answer ['gertrude', 'stein']\n",
            "answer ['im', 'no', 'fool']\n",
            "answer ['four', 'in', 'america']\n",
            "answer ['coordinate', 'measuring', 'machine']\n",
            "answer ['coordinate', 'measuring', 'machine']\n",
            "answer ['plasma', 'of', 'extracellular', 'fluid']\n",
            "answer ['some', 'flea', 'species', 'include']\n",
            "answer ['cat', 'flea', 'ctenocephalides', 'felis']\n",
            "answer ['dog', 'flea', 'ctenocephalides', 'canis']\n",
            "answer ['human', 'flea', 'pulex', 'irritans']\n",
            "answer ['moorhen', 'flea', 'dasypsyllus', 'gallinulae']\n",
            "question ['where', 'do', 'crocodiles', 'live']\n",
            "question ['what', 'relates', 'to', 'erosion']\n",
            "question ['when', 'to', 'use', 'semicolon']\n",
            "question ['who', 'sang', 'black', 'velvet']\n",
            "question ['what', 'are', 'heritable', 'traits']\n",
            "answer ['storage', 'of', 'nutrients']\n",
            "question ['who', 'owns', 'youtube']\n",
            "question ['who', 'made', 'the', 'matrix']\n",
            "question ['who', 'created', 'massey', 'ferguson']\n",
            "answer ['a', 'wallis']\n",
            "question ['when', 'did', 'proof', 'die']\n",
            "question ['when', 'did', 'ww', 'end']\n",
            "answer ['right']\n",
            "question ['who', 'did', 'mr', 'bojangles']\n",
            "question ['who', 'wrote', 'second', 'corinthians']\n",
            "question ['who', 'first', 'synthesized', 'heroin']\n",
            "answer ['religious', 'distribution', 'in', 'africa']\n",
            "question ['when', 'did', 'marlins', 'start']\n",
            "answer []\n",
            "answer ['a', 'googol', 'is', 'approximately']\n",
            "answer ['factorial', 'of']\n",
            "answer []\n",
            "question ['who', 'makes', 'skittles']\n",
            "question ['who', 'make', 'airbus']\n",
            "question ['what', 'are', 'private', 'labels']\n",
            "question ['what', 'are', 'circumpolar', 'constellations']\n",
            "answer ['ce', 'world', 'map']\n",
            "question ['what', 'are', 'land', 'parcels']\n",
            "answer ['parcel', 'may', 'refer', 'to']\n",
            "answer ['parcel', 'consignment']\n",
            "question ['where', 'elephants', 'live']\n",
            "question ['what', 'is', 'petit', 'lemans']\n",
            "question ['where', 'is', 'humboldt', 'ks']\n",
            "question ['what', 'is', 'chep', 'pallet']\n",
            "answer ['it', 'premiered', 'on', 'february']\n",
            "question ['who', 'is', 'suicide', 'tna']\n",
            "answer ['the', 'video', 'game']\n",
            "question ['who', 'is', 'st', 'patty']\n",
            "question ['what', 'is', 'stent', 'surgery']\n",
            "question ['what', 'is', 'sado', 'masochism']\n",
            "answer ['these', 'principles', 'are']\n",
            "answer ['generic', 'mg', 'doxycycline', 'capsules']\n",
            "question ['what', 'is', 'brown', 'flax']\n",
            "question ['what', 'is', 'google', 'openid']\n",
            "answer ['the', 'openid', 'logo']\n",
            "question ['what', 'is', 'in', 'fruitcake']\n",
            "answer ['cherry', 'cake']\n",
            "question ['what', 'is', 'preciosa', 'crystal']\n",
            "answer ['the', 'estimated', 'population', 'was']\n",
            "question ['what', 'forms', 'seasons']\n",
            "answer ['the', 'six', 'ecological', 'seasons']\n",
            "question ['whatever', 'happened', 'clint', 'walker']\n",
            "question ['what', 'hormones', 'produce', 'thyroid']\n",
            "question ['how', 'works', 'diaphragm', 'pump']\n",
            "answer ['diaphragm', 'pump', 'schematic']\n",
            "question ['what', 'area', 'code', 'is']\n",
            "question ['who', 'sang', 'proud', 'mary']\n",
            "answer ['plasma', 'of', 'extracellular', 'fluid']\n",
            "answer ['subtractive', 'color', 'mixing']\n",
            "answer ['medicine']\n",
            "answer ['military']\n",
            "answer ['politics']\n",
            "answer ['architecture']\n",
            "answer ['science', 'technology', 'and', 'engineering']\n",
            "answer ['arbitrary', 'unit']\n",
            "answer ['transportation', 'and', 'geography']\n",
            "answer ['arab', 'states', 'unesco', 'region']\n",
            "answer ['government']\n",
            "question ['where', 'scottsdale']\n",
            "question ['what', 'is', 'am']\n",
            "answer ['most', 'are', 'created', 'collaboratively']\n",
            "answer ['season', 'premiered', 'on', 'september']\n",
            "question ['who', 'makes', 'triumph', 'motorcycles']\n",
            "answer ['olmec', 'jadeite', 'mask', 'bce']\n",
            "question ['what', 'are', 'garnishments']\n",
            "answer ['casey', 'did', 'not', 'testify']\n",
            "question ['what', 'are', 'arizonas', 'symbols']\n",
            "question ['what', 'are', 'slr', 'cameras']\n",
            "answer ['night', 'view']\n",
            "question ['where', 'was', 'jfk', 'buried']\n",
            "question ['what', 'is', 'baklava', 'recipe']\n",
            "answer ['production', 'began', 'on', 'january']\n",
            "question ['what', 'is', 'article', 'about']\n",
            "question ['what', 'is', 'jagger', 'bombs']\n",
            "answer ['instant', 'gravy', 'granules']\n",
            "question ['what', 'is', 'ibrix']\n",
            "question ['what', 'is', 'bilirubin', 'total']\n",
            "answer ['it', 'opened', 'on', 'october']\n",
            "answer ['eliot', 'spitzer', 'in']\n"
          ]
        }
      ]
    },
    {
      "cell_type": "code",
      "execution_count": 25,
      "metadata": {
        "colab": {
          "base_uri": "https://localhost:8080/"
        },
        "id": "e_HaCVlDUkq4",
        "outputId": "23a3a638-02f2-4f76-9df1-1f10ff38335d"
      },
      "outputs": [
        {
          "output_type": "stream",
          "name": "stderr",
          "text": [
            "100%|██████████| 873/873 [00:00<00:00, 12403.84it/s]\n",
            "100%|██████████| 243/243 [00:00<00:00, 9855.11it/s]\n",
            "100%|██████████| 126/126 [00:00<00:00, 12096.46it/s]\n"
          ]
        }
      ],
      "source": [
        "# getting the embeddings for the questions and candidate answers\n",
        "def get_embeddings(data):\n",
        "    new_data = []\n",
        "    for datum in tqdm(data):\n",
        "        new_datum = {}\n",
        "        new_datum[\"question\"] = []\n",
        "        new_datum[\"answers\"] = []\n",
        "        for word in datum[\"question\"]:\n",
        "            new_datum[\"question\"].append(wiki_qa_embeddings[wiki_qa_vocab2id[word]])\n",
        "        for answer in datum[\"answers\"]:\n",
        "            new_datum[\"answers\"].append([])\n",
        "            for word in answer:\n",
        "                new_datum[\"answers\"][-1].append(wiki_qa_embeddings[wiki_qa_vocab2id[word]])\n",
        "        new_datum[\"labels\"] = datum[\"labels\"]\n",
        "        new_data.append(new_datum)\n",
        "    return new_data\n",
        "\n",
        "embed_train = get_embeddings(train)\n",
        "embed_test = get_embeddings(test)\n",
        "embed_val = get_embeddings(val)"
      ]
    },
    {
      "cell_type": "code",
      "execution_count": 26,
      "metadata": {
        "colab": {
          "base_uri": "https://localhost:8080/"
        },
        "id": "bP_7KJv4yRPs",
        "outputId": "c541b222-9d54-4d0f-bcce-40794c32c705"
      },
      "outputs": [
        {
          "output_type": "execute_result",
          "data": {
            "text/plain": [
              "[tensor([-1.3980e-01, -1.1030e-01, -3.5900e-02,  1.8500e-02,  2.3000e-03,\n",
              "          2.4700e-02,  6.3900e-02, -6.6400e-02,  1.6940e-01, -3.5200e-02,\n",
              "         -3.7100e-02,  8.8200e-02, -8.8500e-02, -7.5500e-02,  9.3300e-02,\n",
              "          4.9000e-02,  6.8200e-02,  8.3300e-02,  1.0400e-02,  7.2100e-02,\n",
              "          3.2800e-02, -9.5000e-02,  1.0430e-01,  3.8900e-02,  9.5000e-03,\n",
              "         -6.8100e-02,  3.1300e-02,  4.0500e-02, -1.9900e-02,  6.1100e-02,\n",
              "         -5.8900e-02,  7.6200e-02,  7.8900e-02,  6.0900e-02, -2.2000e-03,\n",
              "          2.8600e-02,  5.6400e-02,  3.6300e-02, -1.6720e-01, -2.9800e-02,\n",
              "         -4.8600e-02, -5.0200e-02,  7.4000e-03,  3.8200e-02, -3.1800e-02,\n",
              "         -3.5600e-02,  5.8900e-02, -5.2000e-02, -2.6200e-02, -1.3750e-01,\n",
              "         -2.7600e-02,  8.2000e-03,  1.6500e-02,  1.2100e-02,  2.2300e-02,\n",
              "          1.7200e-02, -3.5900e-02, -3.4400e-02,  1.4500e-02, -9.6100e-02,\n",
              "         -1.6070e-01,  2.0400e-02, -1.0900e-01, -1.0000e-04, -7.6800e-02,\n",
              "          7.2800e-02,  3.1900e-02,  5.7600e-02,  1.0440e-01, -3.6600e-02,\n",
              "         -4.4000e-03, -3.8700e-02,  1.2220e-01, -8.2000e-03, -6.8900e-02,\n",
              "          8.4000e-02,  2.4000e-03,  2.0100e-02,  1.0500e-02, -1.1160e-01,\n",
              "         -2.2700e-02, -2.9000e-03, -7.1200e-02,  7.8400e-02,  5.9000e-03,\n",
              "          3.5400e-02,  1.2070e-01,  1.2700e-02,  3.4500e-02, -3.3500e-02,\n",
              "         -4.9900e-02, -5.5000e-03,  5.8100e-02,  1.7000e-03,  2.7100e-02,\n",
              "          4.0300e-02, -6.2200e-02,  5.7000e-02, -5.4600e-02, -3.5900e-02,\n",
              "         -1.8700e-02, -4.0900e-02,  8.7800e-02, -2.5300e-02, -1.6600e-02,\n",
              "          8.2200e-02,  4.8800e-02,  5.1600e-02,  3.9900e-02,  1.9500e-02,\n",
              "         -1.0000e-04,  1.1820e-01,  2.1100e-02,  2.3800e-02, -5.1800e-02,\n",
              "         -8.5100e-02,  4.5000e-02, -5.0000e-04,  6.5200e-02,  3.6400e-02,\n",
              "         -4.1000e-02,  5.8100e-02,  4.9200e-02,  1.6900e-02,  4.0500e-02,\n",
              "          1.1100e-02, -4.1500e-02,  4.0100e-02,  2.1200e-02,  3.8400e-02,\n",
              "         -8.5800e-02, -1.2840e-01,  2.5100e-02, -1.9900e-02, -5.5800e-02,\n",
              "         -1.1360e-01,  1.7100e-02,  1.0880e-01,  3.4600e-02,  7.6900e-02,\n",
              "          9.7100e-02, -2.4300e-02,  4.9500e-02,  1.3900e-02,  2.5600e-02,\n",
              "         -8.0000e-04,  6.6900e-02,  1.8400e-02,  3.0000e-02, -2.9400e-02,\n",
              "         -2.5800e-02, -4.6700e-02,  9.9600e-02, -7.0900e-02, -1.6000e-03,\n",
              "         -3.4900e-02, -4.7600e-02, -2.4100e-02,  8.7400e-02,  8.3600e-02,\n",
              "         -1.6200e-02, -6.3500e-02,  2.5700e-02,  7.0800e-02, -3.4900e-02,\n",
              "         -3.6100e-02, -4.8400e-02, -5.3700e-02, -6.5000e-02,  2.8800e-02,\n",
              "          2.7200e-02, -1.3000e-02, -1.6000e-03,  7.3000e-02, -5.5000e-03,\n",
              "          5.9300e-02,  9.5200e-02, -1.3400e-02,  1.1120e-01, -4.7500e-02,\n",
              "         -3.5700e-02, -1.5600e-02, -1.6200e-02, -9.6100e-02, -5.2000e-02,\n",
              "          4.0700e-02,  3.5200e-02, -2.3900e-02, -7.5400e-02, -8.1000e-03,\n",
              "         -3.0700e-02, -1.3450e-01,  6.6000e-03,  7.9900e-02,  1.3700e-02,\n",
              "         -7.7500e-02,  2.7800e-02, -3.8600e-02, -5.1200e-02,  9.3800e-02,\n",
              "          2.4000e-03, -3.3000e-02, -7.3100e-02, -5.6000e-02,  1.0100e-02,\n",
              "         -3.1300e-02, -4.5900e-02,  5.8400e-02,  8.4300e-02,  6.7300e-02,\n",
              "          2.1500e-02,  3.1000e-02,  7.7400e-02, -7.1400e-02,  5.2400e-02,\n",
              "         -3.1600e-02,  4.3700e-02,  3.1900e-02,  5.4500e-02,  1.8800e-02,\n",
              "         -1.7200e-02,  4.6800e-02,  1.0790e-01,  4.1300e-02, -1.0200e-02,\n",
              "          3.7200e-02, -4.4900e-02,  4.3300e-02, -2.1300e-02,  1.8700e-02,\n",
              "         -2.2800e-02, -4.4700e-02, -4.2500e-02, -1.3820e-01,  6.8000e-03,\n",
              "          1.3890e-01, -7.5600e-02, -3.8000e-03, -4.0600e-02,  2.7500e-02,\n",
              "         -2.6700e-02, -6.4100e-02,  1.0330e-01,  1.7000e-03, -1.4300e-02,\n",
              "         -9.2200e-02,  7.5000e-03,  3.6300e-02, -2.3800e-02,  4.7000e-02,\n",
              "         -2.5800e-02,  2.9500e-02, -6.2300e-02,  4.1800e-02,  8.8000e-03,\n",
              "         -9.7000e-03, -7.6100e-02, -5.8700e-02, -8.3000e-03, -4.8100e-02,\n",
              "         -5.7000e-03,  1.7800e-02,  4.4100e-02,  2.7500e-02, -1.4420e-01,\n",
              "          1.0560e-01, -2.8700e-02, -5.3400e-02,  7.1400e-02, -1.7700e-02,\n",
              "         -7.8800e-02,  5.2000e-03,  7.2300e-02,  4.4900e-02,  3.1400e-02,\n",
              "          2.4200e-02, -3.1800e-02,  7.7000e-03,  9.9000e-03, -5.3800e-02,\n",
              "         -7.0000e-04, -1.0100e-02,  6.3900e-02, -8.8000e-03,  3.6000e-03,\n",
              "         -6.6400e-02, -5.0700e-02, -8.5100e-02, -4.6300e-02, -5.9000e-02,\n",
              "         -3.8100e-02,  7.5000e-03,  7.0000e-04, -7.0000e-03,  2.5000e-03,\n",
              "          1.2300e-02, -3.4100e-02, -5.7700e-02,  1.7800e-02,  8.3700e-02]),\n",
              " tensor([ 1.3910e-01,  4.7000e-02,  2.6100e-02, -7.1000e-03, -1.0690e-01,\n",
              "          8.2000e-02, -3.9700e-02,  8.0700e-02,  7.5600e-02, -5.0900e-02,\n",
              "         -5.9500e-02,  4.7900e-02, -1.4620e-01, -3.0300e-02,  1.3200e-02,\n",
              "         -1.6890e-01,  5.5000e-02, -1.0210e-01,  5.9500e-02,  4.6700e-02,\n",
              "         -1.6770e-01,  2.2900e-02,  2.8800e-02, -8.8100e-02, -3.2500e-02,\n",
              "         -2.8700e-02, -8.2100e-02,  4.0200e-02,  5.0000e-04, -4.2000e-03,\n",
              "         -4.0000e-03,  3.8000e-03, -5.9300e-02, -6.3800e-02, -5.4900e-02,\n",
              "          7.2000e-03,  4.2000e-03,  3.2900e-02, -8.0400e-02,  1.1860e-01,\n",
              "         -9.7700e-02,  1.6200e-02,  9.5000e-02, -1.1000e-02, -4.7000e-03,\n",
              "          1.0550e-01,  1.2350e-01,  1.0400e-02,  1.7500e-02, -4.9200e-02,\n",
              "         -8.8000e-03, -1.8900e-02, -4.3700e-02,  2.5600e-02,  1.2970e-01,\n",
              "         -7.5600e-02, -6.9800e-02, -4.1500e-02, -4.5900e-02, -9.8000e-03,\n",
              "          1.3200e-02, -7.8300e-02,  1.0610e-01, -6.0800e-02, -4.5700e-02,\n",
              "          1.1790e-01, -3.0600e-02, -8.3000e-03, -5.4900e-02,  1.9900e-02,\n",
              "          4.4300e-02, -8.7400e-02, -3.9500e-02, -1.5800e-02,  7.0700e-02,\n",
              "          1.1490e-01,  5.8900e-02, -5.7000e-02, -6.1900e-02,  4.0800e-02,\n",
              "         -2.5700e-02, -8.2100e-02,  1.4330e-01,  3.5100e-02,  1.1600e-02,\n",
              "          5.7500e-02, -7.0000e-04,  9.6700e-02, -7.9700e-02,  9.5900e-02,\n",
              "         -9.5200e-02, -1.5500e-02,  6.7500e-02, -5.1000e-02, -3.1500e-02,\n",
              "          2.8000e-02, -2.0700e-02, -3.8600e-02, -1.6600e-02, -1.0700e-02,\n",
              "         -5.4900e-02,  1.0100e-02, -4.6000e-02,  5.8100e-02, -4.2100e-02,\n",
              "          4.3500e-02,  4.1600e-02, -1.2180e-01,  9.2800e-02,  1.0640e-01,\n",
              "          1.2600e-02, -6.0700e-02, -9.2700e-02,  5.9500e-02, -7.4700e-02,\n",
              "          5.8000e-03, -3.7600e-02,  4.2100e-02,  1.6200e-02,  3.8800e-02,\n",
              "          7.1400e-02, -3.5700e-02, -1.1200e-02, -9.9600e-02, -3.7000e-02,\n",
              "          2.2000e-03, -4.1700e-02, -2.9700e-02, -1.2700e-02,  5.9000e-03,\n",
              "          4.5000e-02, -7.4000e-02,  2.9600e-02,  1.5630e-01, -1.2200e-02,\n",
              "          3.6500e-02, -3.5800e-02, -1.0280e-01, -1.0300e-02,  1.4000e-02,\n",
              "         -1.1400e-01, -1.0120e-01, -2.4500e-02, -4.2900e-02, -5.3800e-02,\n",
              "          8.9200e-02, -1.4600e-02, -9.3300e-02, -2.9700e-02,  5.1000e-03,\n",
              "         -7.3400e-02,  1.2860e-01,  6.8700e-02, -1.4500e-02,  1.6200e-02,\n",
              "         -4.4600e-02, -3.1000e-03, -6.8000e-03,  5.4000e-03,  3.0500e-02,\n",
              "          1.1200e-02,  5.0300e-02,  4.9300e-02,  1.3300e-02, -3.0000e-02,\n",
              "          5.3200e-02,  4.9800e-02, -4.0500e-02,  9.8900e-02,  4.4100e-02,\n",
              "         -6.4300e-02, -5.2600e-02, -3.7100e-02, -1.5500e-02,  2.8000e-02,\n",
              "          2.4400e-02,  6.5900e-02, -3.8100e-02,  1.8400e-02,  1.0600e-02,\n",
              "         -0.0000e+00, -2.5900e-02,  2.6900e-02, -1.2940e-01, -1.1650e-01,\n",
              "          8.4000e-03,  3.0000e-04, -8.6200e-02,  5.9600e-02, -1.2100e-02,\n",
              "          8.7000e-03, -5.3000e-03,  2.0100e-02,  3.4000e-03, -5.2800e-02,\n",
              "         -6.4400e-02, -1.5100e-01,  6.4500e-02,  8.3000e-03, -4.8400e-02,\n",
              "          5.5500e-02, -2.0900e-02, -2.4600e-02, -8.1200e-02,  2.5400e-02,\n",
              "         -4.1400e-02,  9.1400e-02,  5.9400e-02, -4.3000e-03, -4.1300e-02,\n",
              "         -4.0000e-04, -8.0000e-04,  1.0660e-01, -1.2000e-02, -1.8000e-02,\n",
              "         -2.5900e-02,  4.3000e-03,  9.9300e-02,  1.7800e-02, -6.9200e-02,\n",
              "         -9.6000e-03, -4.5600e-02, -4.3300e-02,  8.7000e-03, -3.5000e-03,\n",
              "          2.8300e-02,  1.0000e-04, -2.4100e-02,  6.6400e-02, -3.5600e-02,\n",
              "         -8.5000e-02, -2.9200e-02, -5.3800e-02, -3.1000e-03, -2.2000e-02,\n",
              "         -9.4200e-02, -3.1000e-03,  9.0000e-03,  1.7600e-02, -5.2300e-02,\n",
              "         -7.4500e-02, -2.0300e-02,  9.8000e-03,  1.9900e-02,  5.9300e-02,\n",
              "          6.5200e-02, -2.1800e-02,  1.6000e-03, -5.4400e-02,  6.7900e-02,\n",
              "          3.2700e-02, -1.0170e-01, -4.0100e-02,  2.7000e-03, -5.1600e-02,\n",
              "         -1.1700e-02,  7.8000e-03, -7.2700e-02, -2.1800e-02,  3.7000e-02,\n",
              "          5.9300e-02,  3.3400e-02,  7.9300e-02,  4.0200e-02,  4.4400e-02,\n",
              "         -5.7800e-02, -6.8400e-02, -8.1700e-02,  2.1700e-02,  2.7400e-02,\n",
              "          6.1800e-02, -6.9900e-02,  3.3400e-02,  2.3400e-02,  3.6100e-02,\n",
              "          5.2100e-02, -5.1200e-02, -3.2000e-03, -6.1800e-02, -2.3500e-02,\n",
              "         -1.8500e-02,  2.7000e-02,  6.0100e-02,  5.6000e-03,  2.4000e-02,\n",
              "          5.9000e-03,  1.6300e-02,  4.8000e-03, -6.4000e-03,  5.0000e-04,\n",
              "          1.3000e-03,  2.3300e-02, -3.6200e-02, -2.8700e-02, -4.2800e-02,\n",
              "         -5.3800e-02,  1.0800e-02,  6.6600e-02,  5.1000e-03,  1.2100e-02]),\n",
              " tensor([ 5.1500e-02, -3.4300e-02, -8.0000e-03, -5.2000e-03, -4.4600e-02,\n",
              "          1.0050e-01, -3.9800e-02,  2.9300e-02,  4.4600e-02,  4.8700e-02,\n",
              "         -5.4400e-02,  1.4580e-01, -1.1430e-01,  2.5000e-02,  4.4000e-02,\n",
              "         -1.1700e-01,  7.9900e-02, -1.8000e-03, -5.0000e-03,  6.7800e-02,\n",
              "         -7.2000e-02, -9.0000e-04,  1.3000e-02, -4.9000e-03, -1.7900e-02,\n",
              "         -3.0600e-02, -1.8000e-02,  8.6100e-02,  3.4700e-02,  2.7800e-02,\n",
              "          7.6300e-02,  9.2000e-02, -3.3400e-02,  3.3500e-02, -1.3160e-01,\n",
              "         -1.3270e-01, -2.4000e-02,  3.8000e-03, -2.7200e-02,  7.5600e-02,\n",
              "          4.5900e-02,  2.4900e-02,  3.4300e-02, -2.5700e-02,  3.2600e-02,\n",
              "          2.1200e-02,  6.4300e-02, -1.7880e-01,  1.5600e-02, -5.1000e-03,\n",
              "          1.1000e-02,  3.7000e-02,  3.8800e-02,  4.3700e-02,  1.0470e-01,\n",
              "          7.5000e-02, -8.1700e-02, -9.0000e-03,  4.9200e-02,  1.4500e-02,\n",
              "         -2.9300e-02, -1.6720e-01, -6.3400e-02, -1.3680e-01, -1.6510e-01,\n",
              "          7.6300e-02,  7.0500e-02,  8.3800e-02,  4.6700e-02, -4.9700e-02,\n",
              "         -6.5700e-02, -5.0000e-03,  7.1900e-02, -6.1500e-02,  2.6800e-02,\n",
              "          6.2500e-02,  3.5800e-02,  1.2400e-02, -5.3000e-02,  4.4600e-02,\n",
              "         -1.4590e-01, -3.8300e-02, -3.3600e-02, -4.8600e-02, -5.8500e-02,\n",
              "          4.1400e-02,  1.0000e-04,  8.1200e-02,  8.7000e-03,  3.0000e-02,\n",
              "          6.0300e-02, -4.0400e-02,  1.9500e-02, -6.9600e-02,  2.9800e-02,\n",
              "          5.8000e-02,  4.1500e-02, -4.2000e-02, -2.9300e-02,  5.1500e-02,\n",
              "         -9.9000e-02, -2.1200e-02, -1.1940e-01,  4.9700e-02, -7.8100e-02,\n",
              "          4.7400e-02,  2.3100e-02, -3.1800e-02,  2.6600e-02,  1.5900e-02,\n",
              "          4.3400e-02, -1.5300e-02, -8.4900e-02, -6.0900e-02, -3.6100e-02,\n",
              "          6.0000e-03, -5.0300e-02,  7.2900e-02, -3.5200e-02,  4.6400e-02,\n",
              "          3.1700e-02,  4.9700e-02,  5.4600e-02, -3.8800e-02,  8.2000e-03,\n",
              "          7.4800e-02, -7.5000e-03, -5.0000e-04, -4.9600e-02,  7.4900e-02,\n",
              "         -1.3900e-02, -2.4100e-02,  6.6000e-02, -8.7900e-02, -2.8200e-02,\n",
              "          3.1600e-02, -9.2800e-02,  6.7400e-02, -8.5000e-02, -4.1100e-02,\n",
              "          3.8600e-02, -6.8500e-02,  1.2200e-02,  4.3400e-02,  4.0000e-02,\n",
              "          1.7970e-01, -2.5000e-03, -6.0200e-02,  3.9500e-02,  1.5000e-03,\n",
              "          9.7700e-02, -1.0250e-01,  2.0800e-02, -1.3900e-02,  2.7500e-02,\n",
              "          1.5400e-02, -5.0700e-02,  3.2300e-02,  3.9200e-02,  2.3000e-03,\n",
              "         -2.6300e-02,  5.6600e-02, -7.2000e-03,  8.2100e-02, -4.9800e-02,\n",
              "          3.6600e-02,  4.0000e-03,  2.9200e-02, -1.0060e-01,  2.2500e-02,\n",
              "         -2.2100e-02, -3.2500e-02,  4.0500e-02,  6.2000e-03, -3.8300e-02,\n",
              "          1.4140e-01, -6.8000e-03,  3.9400e-02, -1.8900e-02,  2.6800e-02,\n",
              "          6.0700e-02, -1.6500e-02,  5.8700e-02, -4.7000e-03,  3.4000e-02,\n",
              "         -3.5600e-02, -6.0300e-02,  1.0300e-02,  1.0730e-01,  6.9900e-02,\n",
              "          4.6200e-02, -3.4200e-02, -5.5800e-02,  3.1100e-02,  6.9800e-02,\n",
              "         -4.1400e-02,  7.7600e-02,  7.0600e-02,  8.3000e-03, -5.2200e-02,\n",
              "         -2.3000e-03, -7.0000e-02,  4.0200e-02, -9.9000e-03,  3.7100e-02,\n",
              "          5.6800e-02,  7.1100e-02, -2.9000e-02, -2.5900e-02,  6.0000e-03,\n",
              "         -8.6000e-03,  3.9400e-02, -9.8700e-02, -8.4400e-02,  2.3200e-02,\n",
              "         -1.2510e-01, -3.5000e-02, -1.6000e-03, -5.7400e-02, -1.1390e-01,\n",
              "         -7.5000e-03, -3.2300e-02, -1.4540e-01, -1.8100e-02,  8.6400e-02,\n",
              "          1.3000e-03, -5.1900e-02,  2.4600e-02,  8.5400e-02, -5.1900e-02,\n",
              "         -2.1600e-02,  7.9200e-02, -3.8100e-02,  1.0540e-01,  3.1800e-02,\n",
              "          1.4400e-02,  3.5100e-02,  4.5000e-03, -9.5000e-03,  3.6700e-02,\n",
              "         -4.2700e-02,  2.5800e-02,  5.5600e-02, -7.7000e-03, -8.1800e-02,\n",
              "          7.8000e-03, -4.3800e-02, -1.1900e-02,  4.9900e-02, -1.3700e-02,\n",
              "         -1.7000e-02, -1.9200e-02,  5.5400e-02, -3.4400e-02,  4.5400e-02,\n",
              "         -3.2200e-02, -4.6200e-02,  1.0170e-01, -3.9100e-02,  2.9500e-02,\n",
              "          7.4300e-02,  6.2500e-02, -1.7500e-02,  2.2000e-02,  4.1000e-02,\n",
              "          4.4200e-02,  1.2260e-01,  2.8700e-02,  9.6900e-02, -2.0500e-02,\n",
              "          7.7000e-03, -4.8300e-02,  4.7000e-02,  2.8000e-03, -6.5300e-02,\n",
              "          3.1200e-02,  1.3600e-02,  3.4200e-02, -9.6400e-02,  3.5000e-02,\n",
              "         -3.8200e-02,  1.3300e-02, -4.9500e-02,  4.4000e-03, -6.2100e-02,\n",
              "          3.0100e-02,  7.2000e-03,  3.2000e-03, -7.5800e-02,  8.0200e-02,\n",
              "          6.7400e-02, -5.1000e-03, -8.7000e-03, -5.6000e-03,  4.1900e-02,\n",
              "         -6.9000e-03,  6.4700e-02,  3.4900e-02, -1.1200e-02, -1.6900e-02]),\n",
              " tensor([-0.0619, -0.0980, -0.0042,  0.0088, -0.0019,  0.0663,  0.0130,  0.0633,\n",
              "          0.1140,  0.0207, -0.0655,  0.1079, -0.1603, -0.1484,  0.1178,  0.0736,\n",
              "          0.0521,  0.0605,  0.0455, -0.0018,  0.0978, -0.0193,  0.0277, -0.0864,\n",
              "          0.0605, -0.0841,  0.0583,  0.0689,  0.0386,  0.0652, -0.0949, -0.0346,\n",
              "          0.0010, -0.0228, -0.0620, -0.0538,  0.0193,  0.0429, -0.0856, -0.0051,\n",
              "         -0.0644, -0.0269, -0.0134,  0.0423, -0.0299, -0.0073,  0.0677, -0.0100,\n",
              "         -0.1171, -0.0278,  0.0184,  0.0008, -0.0262, -0.0133,  0.0140,  0.0552,\n",
              "          0.0910, -0.0086,  0.0519, -0.0424, -0.1510, -0.0326, -0.0877, -0.0085,\n",
              "          0.0705, -0.0354,  0.0282, -0.0342,  0.0090, -0.0343, -0.0508, -0.0124,\n",
              "         -0.0344, -0.0250, -0.0099,  0.0040, -0.0262, -0.0468, -0.0276, -0.0608,\n",
              "         -0.0487,  0.0533,  0.0248,  0.0013, -0.0764,  0.0166, -0.0355, -0.0448,\n",
              "          0.0397, -0.0127,  0.0502,  0.0326,  0.0314,  0.0206, -0.0198, -0.0226,\n",
              "         -0.0781,  0.0058, -0.1090,  0.0215, -0.1105,  0.0174,  0.0760,  0.0436,\n",
              "         -0.0796, -0.0517,  0.0256, -0.0158,  0.0294, -0.0600, -0.0122, -0.0032,\n",
              "          0.0387, -0.0355,  0.0167,  0.1073, -0.0195, -0.0731,  0.0614, -0.0365,\n",
              "         -0.0388,  0.0249,  0.0801, -0.0005,  0.0146, -0.0669,  0.0028,  0.0072,\n",
              "         -0.0358,  0.0215, -0.1175, -0.0058, -0.0020, -0.0258,  0.0306,  0.0267,\n",
              "         -0.0482, -0.0289,  0.0055, -0.0041,  0.0051, -0.0560, -0.0811,  0.0822,\n",
              "         -0.1334, -0.0074,  0.0150,  0.0203,  0.0090,  0.0318, -0.0041, -0.1320,\n",
              "         -0.0305,  0.0553, -0.1183, -0.0240, -0.0626,  0.0623,  0.0518,  0.0557,\n",
              "          0.0510, -0.0879,  0.0080,  0.0512,  0.0571, -0.0762,  0.0098, -0.0363,\n",
              "         -0.0141, -0.0599, -0.0730, -0.0775, -0.0182, -0.0320, -0.0028,  0.0642,\n",
              "         -0.0315, -0.0220, -0.0100, -0.0162, -0.0311, -0.0598,  0.0112,  0.0265,\n",
              "          0.0919, -0.0324,  0.1175, -0.0227,  0.1244, -0.0080, -0.0378, -0.0600,\n",
              "         -0.0239,  0.0430, -0.0250, -0.0475,  0.0422,  0.1066,  0.0404, -0.0056,\n",
              "          0.0056, -0.0307,  0.0048,  0.0350,  0.0498,  0.0891, -0.0410,  0.0865,\n",
              "         -0.0353,  0.0304, -0.0248, -0.0549, -0.0108, -0.0445,  0.0602,  0.0194,\n",
              "         -0.1470,  0.0725,  0.0811,  0.0053,  0.0022,  0.0721,  0.0404,  0.0373,\n",
              "          0.1156, -0.0657, -0.0914,  0.0561,  0.1506,  0.0542, -0.1019,  0.0260,\n",
              "          0.0047, -0.0019,  0.0203,  0.0090, -0.0598,  0.0483, -0.0412, -0.1656,\n",
              "         -0.0426,  0.0409,  0.0120,  0.0137, -0.0571,  0.0991,  0.0173,  0.0449,\n",
              "          0.0777,  0.0209, -0.0524, -0.0599, -0.0021,  0.0405, -0.0270, -0.0023,\n",
              "         -0.0234, -0.0438, -0.0142, -0.0111,  0.1294,  0.0094,  0.0029,  0.1125,\n",
              "         -0.0442, -0.0371,  0.0777,  0.1127,  0.0024, -0.0560,  0.0225, -0.0016,\n",
              "         -0.0611,  0.1632,  0.0042, -0.0215,  0.0231, -0.0259,  0.0819,  0.0210,\n",
              "         -0.0212,  0.0034, -0.0110, -0.0066, -0.0423,  0.0127, -0.0911, -0.0403,\n",
              "         -0.0925,  0.0064, -0.0533,  0.0947, -0.0303,  0.0747,  0.0746,  0.0236,\n",
              "          0.0364,  0.0883,  0.0734, -0.0155]),\n",
              " tensor([ 4.5900e-02, -1.5500e-02, -1.3400e-02,  3.8900e-02, -9.2000e-03,\n",
              "          1.0330e-01, -1.0900e-01,  3.1300e-02,  9.6200e-02, -3.1000e-02,\n",
              "          1.9300e-02, -2.4900e-02, -8.2900e-02,  1.9600e-02,  2.0000e-04,\n",
              "         -1.0400e-02,  3.6900e-02,  2.8500e-02,  1.4440e-01, -2.1600e-02,\n",
              "         -6.3700e-02,  2.6000e-02,  5.7000e-02, -3.9000e-03, -1.1970e-01,\n",
              "          7.4000e-02, -5.0600e-02,  7.6700e-02, -1.8450e-01,  4.4800e-02,\n",
              "          6.6700e-02, -4.8000e-02,  7.9300e-02,  5.2800e-02, -6.0400e-02,\n",
              "         -1.0230e-01, -1.1000e-02, -5.0000e-02, -9.6000e-02,  2.8000e-03,\n",
              "          4.3400e-02, -4.0000e-04,  7.1400e-02, -1.8000e-02,  5.8900e-02,\n",
              "          1.4930e-01,  5.4500e-02,  1.0000e-03,  7.9200e-02,  4.5900e-02,\n",
              "          1.0230e-01,  8.4900e-02,  1.0020e-01, -7.0000e-04, -9.5000e-02,\n",
              "         -1.3000e-03, -1.0300e-02, -3.7000e-02, -2.3000e-02, -4.5400e-02,\n",
              "         -2.5700e-02,  1.0470e-01,  6.5000e-03, -6.5400e-02, -1.5970e-01,\n",
              "         -4.9700e-02, -1.2660e-01,  4.2700e-02, -4.3700e-02,  4.0100e-02,\n",
              "          2.6400e-02,  6.6300e-02,  7.1900e-02,  2.9800e-02, -3.2000e-03,\n",
              "          1.0000e-03,  4.5800e-02,  7.0700e-02, -5.2800e-02,  4.9500e-02,\n",
              "         -4.0000e-04,  9.0000e-03, -8.7000e-02, -1.5600e-01, -7.2700e-02,\n",
              "         -3.8600e-02,  1.1600e-01,  9.0700e-02, -5.5700e-02, -7.8800e-02,\n",
              "          6.0000e-02, -1.3430e-01,  5.1100e-02, -2.1700e-02,  6.2500e-02,\n",
              "         -4.0600e-02, -4.5000e-03,  1.5000e-02,  3.3200e-02,  8.0200e-02,\n",
              "         -7.0900e-02, -8.8100e-02, -6.3000e-03,  1.0810e-01,  2.2500e-02,\n",
              "         -7.7000e-03, -9.8400e-02,  2.6100e-02, -5.9200e-02,  2.1000e-03,\n",
              "          2.3400e-02,  3.5000e-02,  1.8400e-02, -2.0700e-02,  3.9500e-02,\n",
              "          6.5000e-03, -3.8600e-02,  4.6700e-02, -2.1300e-02,  1.1300e-02,\n",
              "         -1.0200e-02, -3.5200e-02,  3.6900e-02, -1.8700e-02,  4.8100e-02,\n",
              "          1.5970e-01,  7.6600e-02,  6.3300e-02, -5.3500e-02,  8.9000e-03,\n",
              "          5.0500e-02,  6.8000e-02,  5.9300e-02, -1.0300e-01, -2.8900e-02,\n",
              "          1.2100e-02, -5.8000e-02,  1.1800e-02,  3.5600e-02,  1.0300e-02,\n",
              "          1.3510e-01,  3.3500e-02, -6.1500e-02,  2.4500e-02,  2.0300e-02,\n",
              "         -1.2950e-01, -6.3000e-02, -1.1400e-02, -3.3600e-02,  3.4900e-02,\n",
              "          7.6600e-02, -9.0400e-02, -9.7800e-02, -8.6100e-02,  4.7500e-02,\n",
              "          4.4500e-02, -6.8000e-03, -5.7000e-02, -1.1500e-02,  3.4400e-02,\n",
              "          2.2800e-02,  5.2300e-02, -1.5300e-02, -5.5900e-02,  2.5300e-02,\n",
              "         -5.1800e-02,  1.3100e-02,  7.2600e-02, -4.1600e-02,  7.5400e-02,\n",
              "          4.4800e-02,  2.4600e-02, -4.8700e-02,  9.1600e-02,  5.1000e-03,\n",
              "          4.2500e-02,  6.2400e-02, -5.0900e-02, -7.6000e-02,  6.5000e-03,\n",
              "          3.0000e-02, -5.5400e-02, -1.2960e-01,  7.5300e-02,  3.6900e-02,\n",
              "          2.3600e-02,  2.0800e-02,  8.0700e-02,  4.0300e-02, -4.6800e-02,\n",
              "          1.3600e-02, -3.3800e-02, -4.0800e-02, -3.6800e-02,  2.3700e-02,\n",
              "         -3.2400e-02, -4.8000e-02,  6.6100e-02,  1.3420e-01,  2.0800e-02,\n",
              "          1.3300e-02,  4.2000e-03,  1.1100e-02, -7.9000e-02, -3.4200e-02,\n",
              "          2.1900e-02, -9.2500e-02, -7.8100e-02, -1.0000e-04,  3.6200e-02,\n",
              "          2.2800e-02, -2.7800e-02, -2.2800e-02, -4.9600e-02,  1.4600e-02,\n",
              "          3.4200e-02,  1.6100e-02, -2.3000e-03,  7.3800e-02,  4.5500e-02,\n",
              "         -4.4800e-02,  1.1470e-01, -1.2130e-01,  4.9000e-02,  1.2500e-02,\n",
              "         -7.7000e-03, -2.8700e-02,  2.3700e-02,  8.0000e-04,  3.5000e-02,\n",
              "          2.4900e-02,  3.3900e-02,  6.8200e-02,  6.5900e-02,  4.4700e-02,\n",
              "          5.3000e-02,  2.0300e-02,  2.0500e-02, -4.5700e-02,  1.9000e-03,\n",
              "          2.2500e-02, -4.7200e-02,  4.1600e-02,  1.4500e-02,  1.0500e-02,\n",
              "         -6.8000e-03,  8.7000e-03,  7.6300e-02,  5.5300e-02, -1.8100e-02,\n",
              "         -5.9500e-02,  3.5700e-02,  4.8500e-02, -6.5000e-03,  1.5500e-02,\n",
              "         -4.6200e-02, -9.1000e-03,  4.0900e-02,  3.8100e-02, -2.0200e-02,\n",
              "          1.0300e-01, -7.6000e-03, -9.6800e-02,  2.4900e-02,  3.3200e-02,\n",
              "          4.6000e-03,  1.8200e-02,  2.0000e-02,  3.8700e-02,  4.0700e-02,\n",
              "         -2.7800e-02, -4.6400e-02,  2.8200e-02, -9.5000e-03,  2.7900e-02,\n",
              "          3.3400e-02, -7.1100e-02,  2.5700e-02,  5.9700e-02, -7.2000e-03,\n",
              "         -2.0500e-02, -8.2100e-02, -2.3200e-02,  3.7700e-02, -4.3300e-02,\n",
              "         -3.8400e-02,  7.5300e-02, -7.4300e-02, -1.0040e-01, -1.4000e-03,\n",
              "          4.1000e-02,  5.0000e-04, -1.3600e-02,  3.8000e-03, -7.5500e-02,\n",
              "         -3.5900e-02, -2.5200e-02,  6.5600e-02, -2.3900e-02, -3.4800e-02]),\n",
              " tensor([-1.4580e-01, -1.8120e-01, -2.5500e-02,  1.3070e-01,  1.0390e-01,\n",
              "          3.3500e-02, -7.2000e-03, -6.0000e-03,  1.8680e-01, -1.2320e-01,\n",
              "         -2.6900e-02,  6.6700e-02, -1.9460e-01, -9.6000e-02, -6.0000e-03,\n",
              "          5.6100e-02,  1.7600e-02, -4.0300e-02,  6.7500e-02, -3.1400e-02,\n",
              "          4.0300e-02,  8.4000e-03,  2.4900e-02,  4.4300e-02,  5.4200e-02,\n",
              "         -7.0000e-02,  4.5700e-02,  4.0000e-02,  1.6800e-02, -1.1000e-02,\n",
              "         -1.9000e-03,  3.6200e-02,  9.7500e-02,  4.8000e-03, -1.5300e-02,\n",
              "          2.9000e-02, -2.5300e-02,  9.4000e-03, -7.2100e-02, -5.1600e-02,\n",
              "         -2.7000e-02,  1.7500e-02,  1.9800e-02,  8.9300e-02, -1.8500e-02,\n",
              "          2.6900e-02,  8.5700e-02, -3.1900e-02,  1.9500e-02, -2.4100e-02,\n",
              "         -3.4300e-02,  1.8100e-02,  4.2900e-02,  7.9800e-02, -6.3800e-02,\n",
              "          1.3200e-02, -1.5400e-02,  8.6000e-03, -3.2200e-02, -9.4000e-03,\n",
              "         -1.1650e-01, -9.6000e-03, -5.1000e-02,  2.9800e-02, -2.6900e-02,\n",
              "          7.9500e-02,  7.1900e-02,  2.1400e-02,  2.4600e-02,  3.1400e-02,\n",
              "         -2.0000e-04, -5.1200e-02, -1.0700e-02, -1.7300e-02,  2.0400e-02,\n",
              "          2.2600e-02,  1.1000e-03,  5.9400e-02,  4.5400e-02, -8.0400e-02,\n",
              "          3.1600e-02,  4.0000e-04, -7.4000e-03, -2.9000e-03, -1.0900e-02,\n",
              "         -2.6400e-02,  3.0000e-02,  3.5300e-02,  2.2600e-02, -3.9200e-02,\n",
              "          2.9400e-02,  6.4400e-02, -3.8600e-02,  2.4800e-02, -6.4700e-02,\n",
              "          5.0500e-02, -2.0000e-04, -6.1700e-02, -6.2300e-02, -5.1200e-02,\n",
              "         -1.4230e-01,  7.3400e-02,  2.3700e-02,  1.6600e-02,  5.9600e-02,\n",
              "          1.5040e-01,  4.5500e-02,  2.5100e-02,  4.6100e-02, -1.3500e-02,\n",
              "          4.4900e-02,  4.7300e-02,  1.4500e-02,  1.8600e-02, -3.1400e-02,\n",
              "         -2.1400e-02,  2.2500e-02,  6.7600e-02,  1.2500e-02,  8.4100e-02,\n",
              "         -1.7100e-02,  8.2100e-02,  3.1400e-02, -3.1400e-02, -5.4200e-02,\n",
              "         -8.5000e-03, -3.4800e-02, -1.3800e-02,  6.3100e-02,  9.2000e-03,\n",
              "         -1.2400e-02, -2.1300e-02,  1.0210e-01, -3.7900e-02, -5.0400e-02,\n",
              "         -4.9700e-02,  2.4600e-02,  8.4300e-02, -5.1200e-02, -4.1700e-02,\n",
              "          1.9400e-02,  3.1500e-02,  5.1400e-02,  7.1000e-02, -9.4600e-02,\n",
              "          4.0600e-02, -3.4000e-03,  2.0600e-02, -2.6800e-02, -2.1000e-02,\n",
              "         -5.0000e-04,  3.1100e-02,  3.8100e-02, -2.8400e-02,  3.0900e-02,\n",
              "         -8.4000e-03, -5.7900e-02,  1.6100e-02, -8.3000e-03,  2.7200e-02,\n",
              "          2.5300e-02,  7.3500e-02, -1.6400e-02, -3.4000e-02, -1.4000e-03,\n",
              "          2.9800e-02, -1.0060e-01, -1.0600e-02, -4.6400e-02,  6.2300e-02,\n",
              "          2.4200e-02,  6.8500e-02,  4.2800e-02,  2.1900e-02,  2.2000e-03,\n",
              "         -5.6000e-02,  6.6200e-02, -9.4000e-03,  4.1500e-02,  5.6500e-02,\n",
              "          9.6000e-03, -4.0700e-02, -3.5300e-02, -5.8600e-02, -7.0500e-02,\n",
              "         -2.1000e-03, -0.0000e+00, -3.8100e-02, -2.5900e-02, -3.3500e-02,\n",
              "         -4.2000e-02, -4.7500e-02,  3.3000e-02,  6.6400e-02, -7.3900e-02,\n",
              "          3.3900e-02,  6.4700e-02, -3.1000e-02,  4.2000e-03,  6.4000e-02,\n",
              "         -5.2900e-02,  1.7700e-02, -2.3400e-02, -6.1600e-02,  4.9500e-02,\n",
              "         -3.8500e-02, -1.2960e-01, -2.5100e-02, -1.5000e-03,  3.1000e-02,\n",
              "         -1.3600e-02, -3.0400e-02, -7.7000e-03, -9.0000e-03,  6.4000e-03,\n",
              "         -2.5700e-02,  8.3400e-02, -9.0000e-04,  2.6300e-02, -4.2500e-02,\n",
              "          2.8800e-02, -1.3400e-02, -6.3600e-02,  3.7200e-02, -2.9700e-02,\n",
              "         -1.7000e-03, -1.2280e-01,  6.2000e-03, -7.0600e-02,  8.0000e-03,\n",
              "         -1.1100e-02, -1.4080e-01,  5.4800e-02,  4.7000e-03,  9.9000e-02,\n",
              "          7.0800e-02, -7.9100e-02, -1.6400e-02, -4.4900e-02, -2.6400e-02,\n",
              "         -5.0300e-02, -6.9000e-03, -6.8900e-02, -9.2100e-02, -3.6000e-02,\n",
              "         -7.1000e-02,  8.6100e-02, -3.7000e-03, -1.7800e-02,  5.9200e-02,\n",
              "          1.5300e-02, -3.3900e-02,  8.7200e-02,  1.5000e-02, -1.3800e-02,\n",
              "          3.1400e-02, -6.7100e-02, -4.8500e-02, -8.9900e-02, -2.5200e-02,\n",
              "          1.7800e-02, -9.4500e-02,  1.0100e-02, -4.4400e-02, -2.0500e-01,\n",
              "          2.1500e-02,  6.6900e-02, -7.9600e-02, -5.7500e-02, -3.7600e-02,\n",
              "          3.6900e-02,  1.0360e-01, -8.3400e-02,  7.2500e-02,  8.0900e-02,\n",
              "          5.0200e-02, -1.4400e-02,  3.4000e-03,  1.7500e-02, -9.1300e-02,\n",
              "         -9.4800e-02,  1.1300e-02,  7.1100e-02,  6.1900e-02,  3.3800e-02,\n",
              "          3.7000e-02,  1.1700e-01, -3.7400e-02, -1.6950e-01,  2.3600e-02,\n",
              "         -1.5300e-02, -3.0300e-02,  1.4830e-01, -5.3400e-02,  2.7900e-02,\n",
              "          9.2400e-02, -4.6900e-02, -1.5330e-01, -2.4700e-02, -4.9900e-02]),\n",
              " tensor([-0.0633, -0.1084, -0.0381,  0.1395, -0.0341, -0.0047,  0.0229,  0.0632,\n",
              "          0.1107, -0.0113, -0.1308,  0.1043, -0.1937, -0.0217,  0.1024,  0.0378,\n",
              "          0.0154, -0.0263, -0.0619, -0.0091,  0.0881, -0.0323, -0.0313, -0.0702,\n",
              "          0.0881, -0.0997, -0.0138,  0.0758,  0.0638, -0.0318, -0.0413,  0.0651,\n",
              "          0.0634, -0.0716,  0.0036,  0.0196, -0.0023, -0.0294, -0.0972, -0.0755,\n",
              "         -0.0377,  0.0276, -0.0169,  0.0900,  0.0194,  0.0521,  0.0629, -0.0330,\n",
              "         -0.0333,  0.0279, -0.0445, -0.0543, -0.0004,  0.0101,  0.0377,  0.0620,\n",
              "         -0.0721,  0.0352, -0.0263,  0.0003, -0.0987,  0.0091, -0.0209, -0.0188,\n",
              "          0.0092,  0.0118,  0.1033, -0.0261,  0.0222,  0.0511, -0.0566, -0.0242,\n",
              "         -0.0083,  0.0116,  0.0142,  0.0302, -0.0176,  0.0203, -0.0025, -0.0332,\n",
              "          0.0040,  0.0094,  0.0107, -0.0706,  0.0736,  0.0776,  0.0031,  0.0918,\n",
              "         -0.0090,  0.0269, -0.0213,  0.0478,  0.0354, -0.0140, -0.0876,  0.0584,\n",
              "         -0.0162, -0.0112, -0.0476, -0.0060, -0.0744,  0.0271,  0.0736,  0.0194,\n",
              "         -0.0147,  0.0479,  0.0287, -0.0100,  0.0093,  0.0245,  0.0735,  0.0097,\n",
              "          0.0392, -0.0046,  0.0375,  0.0057,  0.0141,  0.0731, -0.0079,  0.0881,\n",
              "         -0.0783,  0.1130,  0.0300,  0.0236, -0.0149, -0.0522, -0.0285,  0.0138,\n",
              "          0.0474, -0.0369, -0.0998, -0.0894, -0.0489,  0.0148,  0.0165,  0.0005,\n",
              "         -0.0256,  0.0448, -0.0067,  0.0453, -0.0392, -0.0789,  0.0918,  0.1022,\n",
              "         -0.0511,  0.0591,  0.0044,  0.0205,  0.0618,  0.0188,  0.0068, -0.0380,\n",
              "          0.0446,  0.0528,  0.0126, -0.0439, -0.0486,  0.0157, -0.0563,  0.0069,\n",
              "          0.0103,  0.0042,  0.0472,  0.0725,  0.0348,  0.0207, -0.0919, -0.0374,\n",
              "         -0.0440,  0.0720,  0.0069, -0.0251, -0.0357, -0.0150,  0.0586,  0.1130,\n",
              "          0.0206, -0.0570,  0.1143,  0.1290,  0.0499,  0.0359, -0.0784, -0.0750,\n",
              "          0.0594, -0.0701,  0.0045,  0.0459, -0.0490,  0.0282, -0.0692,  0.0179,\n",
              "          0.0476, -0.0938, -0.0297, -0.0734,  0.1065,  0.0979,  0.0221,  0.0783,\n",
              "         -0.0376,  0.0687, -0.0316, -0.0519,  0.0283, -0.0222, -0.0308, -0.0691,\n",
              "          0.0896,  0.0151,  0.0072, -0.0230,  0.0768,  0.0605,  0.0161, -0.0520,\n",
              "          0.0838,  0.1177,  0.0335, -0.0318, -0.0638,  0.0357,  0.0691,  0.0402,\n",
              "         -0.0644,  0.0327, -0.0313,  0.0440, -0.1061, -0.0304,  0.0321, -0.0066,\n",
              "          0.0565, -0.0189,  0.0900,  0.0299, -0.0413,  0.0568, -0.1384,  0.0317,\n",
              "         -0.0089, -0.0481, -0.0549, -0.1189, -0.0568, -0.0213,  0.0876,  0.1320,\n",
              "         -0.0503,  0.0874, -0.0202, -0.1135,  0.0856,  0.0209,  0.0107, -0.1171,\n",
              "          0.0377, -0.0563,  0.0450,  0.0274, -0.0358,  0.0184,  0.0647,  0.0048,\n",
              "         -0.0811, -0.0110, -0.0544, -0.0591,  0.0017, -0.0910,  0.1072,  0.0511,\n",
              "         -0.0848, -0.0134,  0.0104,  0.0124,  0.0179, -0.0037,  0.0342,  0.0041,\n",
              "         -0.1128, -0.0070,  0.1063, -0.0602, -0.0208, -0.0799,  0.0793, -0.0253,\n",
              "          0.0388,  0.0091, -0.1340,  0.0546, -0.0507, -0.0927,  0.0067,  0.0727,\n",
              "          0.0621,  0.0032, -0.0486,  0.0561]),\n",
              " tensor([-0.0471, -0.1114,  0.0311,  0.0861, -0.0393,  0.0915,  0.0066, -0.0188,\n",
              "          0.0953,  0.0088, -0.0476,  0.1718, -0.1570, -0.0432,  0.0229,  0.0272,\n",
              "         -0.0059,  0.0108, -0.0121, -0.0375,  0.0290, -0.0204,  0.0312,  0.1104,\n",
              "          0.0430, -0.0385, -0.0189,  0.0622, -0.0093,  0.0541, -0.0154,  0.1187,\n",
              "          0.0440,  0.0353,  0.0527, -0.0580, -0.0424, -0.0009, -0.0238,  0.0354,\n",
              "         -0.0842,  0.0091,  0.0264,  0.0312, -0.0320,  0.0476,  0.0777, -0.0645,\n",
              "          0.0252, -0.0713,  0.0384,  0.0291,  0.0602,  0.0624,  0.0543,  0.0398,\n",
              "         -0.0199, -0.0142,  0.0473, -0.0478, -0.1064, -0.0311,  0.0199, -0.0118,\n",
              "         -0.0411,  0.0822,  0.0539,  0.0769, -0.0032, -0.0433,  0.0096,  0.0020,\n",
              "          0.0404, -0.0503,  0.0160,  0.0472, -0.0092,  0.0197,  0.0477, -0.0639,\n",
              "         -0.0731, -0.0085, -0.0379,  0.0227, -0.0202,  0.0059, -0.0247,  0.0599,\n",
              "         -0.0328,  0.0402,  0.0112, -0.0647,  0.0006,  0.0509,  0.0338,  0.0858,\n",
              "          0.0604, -0.0269, -0.0352, -0.0312, -0.0585,  0.0467,  0.0004,  0.0540,\n",
              "         -0.0267,  0.1577, -0.0350,  0.0686,  0.0436,  0.0756,  0.0607,  0.0495,\n",
              "         -0.0955, -0.0128, -0.0602,  0.0358, -0.0410,  0.0262,  0.0226,  0.0227,\n",
              "          0.0714,  0.0639,  0.0432, -0.0033,  0.0208,  0.0246,  0.0274, -0.1274,\n",
              "         -0.0313,  0.0037, -0.0841,  0.0500, -0.0343, -0.0037, -0.0024, -0.0691,\n",
              "         -0.0797,  0.0735, -0.0874, -0.0438, -0.0541,  0.0257, -0.0257,  0.0056,\n",
              "          0.0597,  0.0668, -0.0305,  0.0092,  0.0193, -0.0686,  0.0300, -0.1340,\n",
              "          0.0168,  0.0234, -0.0150,  0.0044,  0.0126,  0.0055, -0.0222,  0.0616,\n",
              "          0.1049,  0.0253, -0.0269, -0.0096, -0.1215, -0.0141, -0.0231, -0.0060,\n",
              "         -0.0487,  0.0592, -0.0203,  0.0377, -0.0299,  0.0072, -0.0769,  0.1504,\n",
              "          0.0006,  0.1571, -0.0012,  0.1242, -0.0435, -0.0423, -0.0651,  0.0738,\n",
              "          0.0007,  0.0265, -0.0345,  0.0305, -0.0493, -0.0266,  0.0132, -0.0046,\n",
              "          0.0289,  0.0457, -0.0144,  0.0319,  0.0437,  0.0158,  0.0628,  0.0554,\n",
              "         -0.0584,  0.0154,  0.0822, -0.0089, -0.0042, -0.1402,  0.0092, -0.1281,\n",
              "         -0.0114,  0.0788, -0.0204,  0.0024, -0.1338,  0.0827,  0.1177, -0.0764,\n",
              "         -0.0582, -0.0201,  0.0141,  0.0048, -0.0180, -0.0281, -0.1128,  0.0545,\n",
              "          0.1037,  0.0307, -0.0605,  0.0098, -0.0185, -0.1369,  0.0042,  0.0178,\n",
              "          0.0713,  0.1004,  0.0517, -0.0190, -0.0355,  0.0321,  0.0468, -0.0321,\n",
              "          0.0070, -0.0349,  0.0318, -0.0254, -0.1162, -0.0379, -0.0028, -0.0508,\n",
              "         -0.0194,  0.0308, -0.0499,  0.0827,  0.0345, -0.0576, -0.0326,  0.1072,\n",
              "          0.0694,  0.0266, -0.0486,  0.0128,  0.0213, -0.0917,  0.0077,  0.0016,\n",
              "         -0.0354,  0.0252, -0.0372, -0.0346, -0.0122, -0.1227, -0.0617, -0.0099,\n",
              "         -0.0024, -0.0742, -0.1420,  0.0194, -0.1348,  0.0459, -0.1586, -0.0775,\n",
              "          0.0377, -0.0302, -0.0020,  0.0684, -0.0667,  0.0464,  0.0322,  0.0964,\n",
              "         -0.0182, -0.0263, -0.0091,  0.0311,  0.0425,  0.0405,  0.0385,  0.0738,\n",
              "          0.0013,  0.0020,  0.0283, -0.1199])]"
            ]
          },
          "metadata": {},
          "execution_count": 26
        }
      ],
      "source": [
        "embed_test[0][\"question\"]"
      ]
    },
    {
      "cell_type": "code",
      "execution_count": 27,
      "metadata": {
        "id": "IxUuAxcyZVmu"
      },
      "outputs": [],
      "source": [
        "# structuring it to be question-answer pairs\n",
        "def get_qa_pairs(data):\n",
        "    qa_pairs = []\n",
        "    for datum in data:\n",
        "        one_question = []\n",
        "        for answer in datum[\"answers\"]:\n",
        "            one_question.append((datum[\"question\"], answer))\n",
        "        qa_pairs.append(one_question)\n",
        "    return qa_pairs\n",
        "\n",
        "qa_pairs_train = get_qa_pairs(embed_train)\n",
        "qa_pairs_test = get_qa_pairs(embed_test)\n",
        "qa_pairs_val = get_qa_pairs(embed_val)"
      ]
    },
    {
      "cell_type": "code",
      "execution_count": 28,
      "metadata": {
        "colab": {
          "base_uri": "https://localhost:8080/"
        },
        "id": "GP4sYqZVZXBX",
        "outputId": "1e6d83d7-61b1-45c2-d25c-a765d99d5e6f"
      },
      "outputs": [
        {
          "output_type": "execute_result",
          "data": {
            "text/plain": [
              "[tensor([-1.3980e-01, -1.1030e-01, -3.5900e-02,  1.8500e-02,  2.3000e-03,\n",
              "          2.4700e-02,  6.3900e-02, -6.6400e-02,  1.6940e-01, -3.5200e-02,\n",
              "         -3.7100e-02,  8.8200e-02, -8.8500e-02, -7.5500e-02,  9.3300e-02,\n",
              "          4.9000e-02,  6.8200e-02,  8.3300e-02,  1.0400e-02,  7.2100e-02,\n",
              "          3.2800e-02, -9.5000e-02,  1.0430e-01,  3.8900e-02,  9.5000e-03,\n",
              "         -6.8100e-02,  3.1300e-02,  4.0500e-02, -1.9900e-02,  6.1100e-02,\n",
              "         -5.8900e-02,  7.6200e-02,  7.8900e-02,  6.0900e-02, -2.2000e-03,\n",
              "          2.8600e-02,  5.6400e-02,  3.6300e-02, -1.6720e-01, -2.9800e-02,\n",
              "         -4.8600e-02, -5.0200e-02,  7.4000e-03,  3.8200e-02, -3.1800e-02,\n",
              "         -3.5600e-02,  5.8900e-02, -5.2000e-02, -2.6200e-02, -1.3750e-01,\n",
              "         -2.7600e-02,  8.2000e-03,  1.6500e-02,  1.2100e-02,  2.2300e-02,\n",
              "          1.7200e-02, -3.5900e-02, -3.4400e-02,  1.4500e-02, -9.6100e-02,\n",
              "         -1.6070e-01,  2.0400e-02, -1.0900e-01, -1.0000e-04, -7.6800e-02,\n",
              "          7.2800e-02,  3.1900e-02,  5.7600e-02,  1.0440e-01, -3.6600e-02,\n",
              "         -4.4000e-03, -3.8700e-02,  1.2220e-01, -8.2000e-03, -6.8900e-02,\n",
              "          8.4000e-02,  2.4000e-03,  2.0100e-02,  1.0500e-02, -1.1160e-01,\n",
              "         -2.2700e-02, -2.9000e-03, -7.1200e-02,  7.8400e-02,  5.9000e-03,\n",
              "          3.5400e-02,  1.2070e-01,  1.2700e-02,  3.4500e-02, -3.3500e-02,\n",
              "         -4.9900e-02, -5.5000e-03,  5.8100e-02,  1.7000e-03,  2.7100e-02,\n",
              "          4.0300e-02, -6.2200e-02,  5.7000e-02, -5.4600e-02, -3.5900e-02,\n",
              "         -1.8700e-02, -4.0900e-02,  8.7800e-02, -2.5300e-02, -1.6600e-02,\n",
              "          8.2200e-02,  4.8800e-02,  5.1600e-02,  3.9900e-02,  1.9500e-02,\n",
              "         -1.0000e-04,  1.1820e-01,  2.1100e-02,  2.3800e-02, -5.1800e-02,\n",
              "         -8.5100e-02,  4.5000e-02, -5.0000e-04,  6.5200e-02,  3.6400e-02,\n",
              "         -4.1000e-02,  5.8100e-02,  4.9200e-02,  1.6900e-02,  4.0500e-02,\n",
              "          1.1100e-02, -4.1500e-02,  4.0100e-02,  2.1200e-02,  3.8400e-02,\n",
              "         -8.5800e-02, -1.2840e-01,  2.5100e-02, -1.9900e-02, -5.5800e-02,\n",
              "         -1.1360e-01,  1.7100e-02,  1.0880e-01,  3.4600e-02,  7.6900e-02,\n",
              "          9.7100e-02, -2.4300e-02,  4.9500e-02,  1.3900e-02,  2.5600e-02,\n",
              "         -8.0000e-04,  6.6900e-02,  1.8400e-02,  3.0000e-02, -2.9400e-02,\n",
              "         -2.5800e-02, -4.6700e-02,  9.9600e-02, -7.0900e-02, -1.6000e-03,\n",
              "         -3.4900e-02, -4.7600e-02, -2.4100e-02,  8.7400e-02,  8.3600e-02,\n",
              "         -1.6200e-02, -6.3500e-02,  2.5700e-02,  7.0800e-02, -3.4900e-02,\n",
              "         -3.6100e-02, -4.8400e-02, -5.3700e-02, -6.5000e-02,  2.8800e-02,\n",
              "          2.7200e-02, -1.3000e-02, -1.6000e-03,  7.3000e-02, -5.5000e-03,\n",
              "          5.9300e-02,  9.5200e-02, -1.3400e-02,  1.1120e-01, -4.7500e-02,\n",
              "         -3.5700e-02, -1.5600e-02, -1.6200e-02, -9.6100e-02, -5.2000e-02,\n",
              "          4.0700e-02,  3.5200e-02, -2.3900e-02, -7.5400e-02, -8.1000e-03,\n",
              "         -3.0700e-02, -1.3450e-01,  6.6000e-03,  7.9900e-02,  1.3700e-02,\n",
              "         -7.7500e-02,  2.7800e-02, -3.8600e-02, -5.1200e-02,  9.3800e-02,\n",
              "          2.4000e-03, -3.3000e-02, -7.3100e-02, -5.6000e-02,  1.0100e-02,\n",
              "         -3.1300e-02, -4.5900e-02,  5.8400e-02,  8.4300e-02,  6.7300e-02,\n",
              "          2.1500e-02,  3.1000e-02,  7.7400e-02, -7.1400e-02,  5.2400e-02,\n",
              "         -3.1600e-02,  4.3700e-02,  3.1900e-02,  5.4500e-02,  1.8800e-02,\n",
              "         -1.7200e-02,  4.6800e-02,  1.0790e-01,  4.1300e-02, -1.0200e-02,\n",
              "          3.7200e-02, -4.4900e-02,  4.3300e-02, -2.1300e-02,  1.8700e-02,\n",
              "         -2.2800e-02, -4.4700e-02, -4.2500e-02, -1.3820e-01,  6.8000e-03,\n",
              "          1.3890e-01, -7.5600e-02, -3.8000e-03, -4.0600e-02,  2.7500e-02,\n",
              "         -2.6700e-02, -6.4100e-02,  1.0330e-01,  1.7000e-03, -1.4300e-02,\n",
              "         -9.2200e-02,  7.5000e-03,  3.6300e-02, -2.3800e-02,  4.7000e-02,\n",
              "         -2.5800e-02,  2.9500e-02, -6.2300e-02,  4.1800e-02,  8.8000e-03,\n",
              "         -9.7000e-03, -7.6100e-02, -5.8700e-02, -8.3000e-03, -4.8100e-02,\n",
              "         -5.7000e-03,  1.7800e-02,  4.4100e-02,  2.7500e-02, -1.4420e-01,\n",
              "          1.0560e-01, -2.8700e-02, -5.3400e-02,  7.1400e-02, -1.7700e-02,\n",
              "         -7.8800e-02,  5.2000e-03,  7.2300e-02,  4.4900e-02,  3.1400e-02,\n",
              "          2.4200e-02, -3.1800e-02,  7.7000e-03,  9.9000e-03, -5.3800e-02,\n",
              "         -7.0000e-04, -1.0100e-02,  6.3900e-02, -8.8000e-03,  3.6000e-03,\n",
              "         -6.6400e-02, -5.0700e-02, -8.5100e-02, -4.6300e-02, -5.9000e-02,\n",
              "         -3.8100e-02,  7.5000e-03,  7.0000e-04, -7.0000e-03,  2.5000e-03,\n",
              "          1.2300e-02, -3.4100e-02, -5.7700e-02,  1.7800e-02,  8.3700e-02]),\n",
              " tensor([ 1.3910e-01,  4.7000e-02,  2.6100e-02, -7.1000e-03, -1.0690e-01,\n",
              "          8.2000e-02, -3.9700e-02,  8.0700e-02,  7.5600e-02, -5.0900e-02,\n",
              "         -5.9500e-02,  4.7900e-02, -1.4620e-01, -3.0300e-02,  1.3200e-02,\n",
              "         -1.6890e-01,  5.5000e-02, -1.0210e-01,  5.9500e-02,  4.6700e-02,\n",
              "         -1.6770e-01,  2.2900e-02,  2.8800e-02, -8.8100e-02, -3.2500e-02,\n",
              "         -2.8700e-02, -8.2100e-02,  4.0200e-02,  5.0000e-04, -4.2000e-03,\n",
              "         -4.0000e-03,  3.8000e-03, -5.9300e-02, -6.3800e-02, -5.4900e-02,\n",
              "          7.2000e-03,  4.2000e-03,  3.2900e-02, -8.0400e-02,  1.1860e-01,\n",
              "         -9.7700e-02,  1.6200e-02,  9.5000e-02, -1.1000e-02, -4.7000e-03,\n",
              "          1.0550e-01,  1.2350e-01,  1.0400e-02,  1.7500e-02, -4.9200e-02,\n",
              "         -8.8000e-03, -1.8900e-02, -4.3700e-02,  2.5600e-02,  1.2970e-01,\n",
              "         -7.5600e-02, -6.9800e-02, -4.1500e-02, -4.5900e-02, -9.8000e-03,\n",
              "          1.3200e-02, -7.8300e-02,  1.0610e-01, -6.0800e-02, -4.5700e-02,\n",
              "          1.1790e-01, -3.0600e-02, -8.3000e-03, -5.4900e-02,  1.9900e-02,\n",
              "          4.4300e-02, -8.7400e-02, -3.9500e-02, -1.5800e-02,  7.0700e-02,\n",
              "          1.1490e-01,  5.8900e-02, -5.7000e-02, -6.1900e-02,  4.0800e-02,\n",
              "         -2.5700e-02, -8.2100e-02,  1.4330e-01,  3.5100e-02,  1.1600e-02,\n",
              "          5.7500e-02, -7.0000e-04,  9.6700e-02, -7.9700e-02,  9.5900e-02,\n",
              "         -9.5200e-02, -1.5500e-02,  6.7500e-02, -5.1000e-02, -3.1500e-02,\n",
              "          2.8000e-02, -2.0700e-02, -3.8600e-02, -1.6600e-02, -1.0700e-02,\n",
              "         -5.4900e-02,  1.0100e-02, -4.6000e-02,  5.8100e-02, -4.2100e-02,\n",
              "          4.3500e-02,  4.1600e-02, -1.2180e-01,  9.2800e-02,  1.0640e-01,\n",
              "          1.2600e-02, -6.0700e-02, -9.2700e-02,  5.9500e-02, -7.4700e-02,\n",
              "          5.8000e-03, -3.7600e-02,  4.2100e-02,  1.6200e-02,  3.8800e-02,\n",
              "          7.1400e-02, -3.5700e-02, -1.1200e-02, -9.9600e-02, -3.7000e-02,\n",
              "          2.2000e-03, -4.1700e-02, -2.9700e-02, -1.2700e-02,  5.9000e-03,\n",
              "          4.5000e-02, -7.4000e-02,  2.9600e-02,  1.5630e-01, -1.2200e-02,\n",
              "          3.6500e-02, -3.5800e-02, -1.0280e-01, -1.0300e-02,  1.4000e-02,\n",
              "         -1.1400e-01, -1.0120e-01, -2.4500e-02, -4.2900e-02, -5.3800e-02,\n",
              "          8.9200e-02, -1.4600e-02, -9.3300e-02, -2.9700e-02,  5.1000e-03,\n",
              "         -7.3400e-02,  1.2860e-01,  6.8700e-02, -1.4500e-02,  1.6200e-02,\n",
              "         -4.4600e-02, -3.1000e-03, -6.8000e-03,  5.4000e-03,  3.0500e-02,\n",
              "          1.1200e-02,  5.0300e-02,  4.9300e-02,  1.3300e-02, -3.0000e-02,\n",
              "          5.3200e-02,  4.9800e-02, -4.0500e-02,  9.8900e-02,  4.4100e-02,\n",
              "         -6.4300e-02, -5.2600e-02, -3.7100e-02, -1.5500e-02,  2.8000e-02,\n",
              "          2.4400e-02,  6.5900e-02, -3.8100e-02,  1.8400e-02,  1.0600e-02,\n",
              "         -0.0000e+00, -2.5900e-02,  2.6900e-02, -1.2940e-01, -1.1650e-01,\n",
              "          8.4000e-03,  3.0000e-04, -8.6200e-02,  5.9600e-02, -1.2100e-02,\n",
              "          8.7000e-03, -5.3000e-03,  2.0100e-02,  3.4000e-03, -5.2800e-02,\n",
              "         -6.4400e-02, -1.5100e-01,  6.4500e-02,  8.3000e-03, -4.8400e-02,\n",
              "          5.5500e-02, -2.0900e-02, -2.4600e-02, -8.1200e-02,  2.5400e-02,\n",
              "         -4.1400e-02,  9.1400e-02,  5.9400e-02, -4.3000e-03, -4.1300e-02,\n",
              "         -4.0000e-04, -8.0000e-04,  1.0660e-01, -1.2000e-02, -1.8000e-02,\n",
              "         -2.5900e-02,  4.3000e-03,  9.9300e-02,  1.7800e-02, -6.9200e-02,\n",
              "         -9.6000e-03, -4.5600e-02, -4.3300e-02,  8.7000e-03, -3.5000e-03,\n",
              "          2.8300e-02,  1.0000e-04, -2.4100e-02,  6.6400e-02, -3.5600e-02,\n",
              "         -8.5000e-02, -2.9200e-02, -5.3800e-02, -3.1000e-03, -2.2000e-02,\n",
              "         -9.4200e-02, -3.1000e-03,  9.0000e-03,  1.7600e-02, -5.2300e-02,\n",
              "         -7.4500e-02, -2.0300e-02,  9.8000e-03,  1.9900e-02,  5.9300e-02,\n",
              "          6.5200e-02, -2.1800e-02,  1.6000e-03, -5.4400e-02,  6.7900e-02,\n",
              "          3.2700e-02, -1.0170e-01, -4.0100e-02,  2.7000e-03, -5.1600e-02,\n",
              "         -1.1700e-02,  7.8000e-03, -7.2700e-02, -2.1800e-02,  3.7000e-02,\n",
              "          5.9300e-02,  3.3400e-02,  7.9300e-02,  4.0200e-02,  4.4400e-02,\n",
              "         -5.7800e-02, -6.8400e-02, -8.1700e-02,  2.1700e-02,  2.7400e-02,\n",
              "          6.1800e-02, -6.9900e-02,  3.3400e-02,  2.3400e-02,  3.6100e-02,\n",
              "          5.2100e-02, -5.1200e-02, -3.2000e-03, -6.1800e-02, -2.3500e-02,\n",
              "         -1.8500e-02,  2.7000e-02,  6.0100e-02,  5.6000e-03,  2.4000e-02,\n",
              "          5.9000e-03,  1.6300e-02,  4.8000e-03, -6.4000e-03,  5.0000e-04,\n",
              "          1.3000e-03,  2.3300e-02, -3.6200e-02, -2.8700e-02, -4.2800e-02,\n",
              "         -5.3800e-02,  1.0800e-02,  6.6600e-02,  5.1000e-03,  1.2100e-02]),\n",
              " tensor([ 5.1500e-02, -3.4300e-02, -8.0000e-03, -5.2000e-03, -4.4600e-02,\n",
              "          1.0050e-01, -3.9800e-02,  2.9300e-02,  4.4600e-02,  4.8700e-02,\n",
              "         -5.4400e-02,  1.4580e-01, -1.1430e-01,  2.5000e-02,  4.4000e-02,\n",
              "         -1.1700e-01,  7.9900e-02, -1.8000e-03, -5.0000e-03,  6.7800e-02,\n",
              "         -7.2000e-02, -9.0000e-04,  1.3000e-02, -4.9000e-03, -1.7900e-02,\n",
              "         -3.0600e-02, -1.8000e-02,  8.6100e-02,  3.4700e-02,  2.7800e-02,\n",
              "          7.6300e-02,  9.2000e-02, -3.3400e-02,  3.3500e-02, -1.3160e-01,\n",
              "         -1.3270e-01, -2.4000e-02,  3.8000e-03, -2.7200e-02,  7.5600e-02,\n",
              "          4.5900e-02,  2.4900e-02,  3.4300e-02, -2.5700e-02,  3.2600e-02,\n",
              "          2.1200e-02,  6.4300e-02, -1.7880e-01,  1.5600e-02, -5.1000e-03,\n",
              "          1.1000e-02,  3.7000e-02,  3.8800e-02,  4.3700e-02,  1.0470e-01,\n",
              "          7.5000e-02, -8.1700e-02, -9.0000e-03,  4.9200e-02,  1.4500e-02,\n",
              "         -2.9300e-02, -1.6720e-01, -6.3400e-02, -1.3680e-01, -1.6510e-01,\n",
              "          7.6300e-02,  7.0500e-02,  8.3800e-02,  4.6700e-02, -4.9700e-02,\n",
              "         -6.5700e-02, -5.0000e-03,  7.1900e-02, -6.1500e-02,  2.6800e-02,\n",
              "          6.2500e-02,  3.5800e-02,  1.2400e-02, -5.3000e-02,  4.4600e-02,\n",
              "         -1.4590e-01, -3.8300e-02, -3.3600e-02, -4.8600e-02, -5.8500e-02,\n",
              "          4.1400e-02,  1.0000e-04,  8.1200e-02,  8.7000e-03,  3.0000e-02,\n",
              "          6.0300e-02, -4.0400e-02,  1.9500e-02, -6.9600e-02,  2.9800e-02,\n",
              "          5.8000e-02,  4.1500e-02, -4.2000e-02, -2.9300e-02,  5.1500e-02,\n",
              "         -9.9000e-02, -2.1200e-02, -1.1940e-01,  4.9700e-02, -7.8100e-02,\n",
              "          4.7400e-02,  2.3100e-02, -3.1800e-02,  2.6600e-02,  1.5900e-02,\n",
              "          4.3400e-02, -1.5300e-02, -8.4900e-02, -6.0900e-02, -3.6100e-02,\n",
              "          6.0000e-03, -5.0300e-02,  7.2900e-02, -3.5200e-02,  4.6400e-02,\n",
              "          3.1700e-02,  4.9700e-02,  5.4600e-02, -3.8800e-02,  8.2000e-03,\n",
              "          7.4800e-02, -7.5000e-03, -5.0000e-04, -4.9600e-02,  7.4900e-02,\n",
              "         -1.3900e-02, -2.4100e-02,  6.6000e-02, -8.7900e-02, -2.8200e-02,\n",
              "          3.1600e-02, -9.2800e-02,  6.7400e-02, -8.5000e-02, -4.1100e-02,\n",
              "          3.8600e-02, -6.8500e-02,  1.2200e-02,  4.3400e-02,  4.0000e-02,\n",
              "          1.7970e-01, -2.5000e-03, -6.0200e-02,  3.9500e-02,  1.5000e-03,\n",
              "          9.7700e-02, -1.0250e-01,  2.0800e-02, -1.3900e-02,  2.7500e-02,\n",
              "          1.5400e-02, -5.0700e-02,  3.2300e-02,  3.9200e-02,  2.3000e-03,\n",
              "         -2.6300e-02,  5.6600e-02, -7.2000e-03,  8.2100e-02, -4.9800e-02,\n",
              "          3.6600e-02,  4.0000e-03,  2.9200e-02, -1.0060e-01,  2.2500e-02,\n",
              "         -2.2100e-02, -3.2500e-02,  4.0500e-02,  6.2000e-03, -3.8300e-02,\n",
              "          1.4140e-01, -6.8000e-03,  3.9400e-02, -1.8900e-02,  2.6800e-02,\n",
              "          6.0700e-02, -1.6500e-02,  5.8700e-02, -4.7000e-03,  3.4000e-02,\n",
              "         -3.5600e-02, -6.0300e-02,  1.0300e-02,  1.0730e-01,  6.9900e-02,\n",
              "          4.6200e-02, -3.4200e-02, -5.5800e-02,  3.1100e-02,  6.9800e-02,\n",
              "         -4.1400e-02,  7.7600e-02,  7.0600e-02,  8.3000e-03, -5.2200e-02,\n",
              "         -2.3000e-03, -7.0000e-02,  4.0200e-02, -9.9000e-03,  3.7100e-02,\n",
              "          5.6800e-02,  7.1100e-02, -2.9000e-02, -2.5900e-02,  6.0000e-03,\n",
              "         -8.6000e-03,  3.9400e-02, -9.8700e-02, -8.4400e-02,  2.3200e-02,\n",
              "         -1.2510e-01, -3.5000e-02, -1.6000e-03, -5.7400e-02, -1.1390e-01,\n",
              "         -7.5000e-03, -3.2300e-02, -1.4540e-01, -1.8100e-02,  8.6400e-02,\n",
              "          1.3000e-03, -5.1900e-02,  2.4600e-02,  8.5400e-02, -5.1900e-02,\n",
              "         -2.1600e-02,  7.9200e-02, -3.8100e-02,  1.0540e-01,  3.1800e-02,\n",
              "          1.4400e-02,  3.5100e-02,  4.5000e-03, -9.5000e-03,  3.6700e-02,\n",
              "         -4.2700e-02,  2.5800e-02,  5.5600e-02, -7.7000e-03, -8.1800e-02,\n",
              "          7.8000e-03, -4.3800e-02, -1.1900e-02,  4.9900e-02, -1.3700e-02,\n",
              "         -1.7000e-02, -1.9200e-02,  5.5400e-02, -3.4400e-02,  4.5400e-02,\n",
              "         -3.2200e-02, -4.6200e-02,  1.0170e-01, -3.9100e-02,  2.9500e-02,\n",
              "          7.4300e-02,  6.2500e-02, -1.7500e-02,  2.2000e-02,  4.1000e-02,\n",
              "          4.4200e-02,  1.2260e-01,  2.8700e-02,  9.6900e-02, -2.0500e-02,\n",
              "          7.7000e-03, -4.8300e-02,  4.7000e-02,  2.8000e-03, -6.5300e-02,\n",
              "          3.1200e-02,  1.3600e-02,  3.4200e-02, -9.6400e-02,  3.5000e-02,\n",
              "         -3.8200e-02,  1.3300e-02, -4.9500e-02,  4.4000e-03, -6.2100e-02,\n",
              "          3.0100e-02,  7.2000e-03,  3.2000e-03, -7.5800e-02,  8.0200e-02,\n",
              "          6.7400e-02, -5.1000e-03, -8.7000e-03, -5.6000e-03,  4.1900e-02,\n",
              "         -6.9000e-03,  6.4700e-02,  3.4900e-02, -1.1200e-02, -1.6900e-02]),\n",
              " tensor([-0.0619, -0.0980, -0.0042,  0.0088, -0.0019,  0.0663,  0.0130,  0.0633,\n",
              "          0.1140,  0.0207, -0.0655,  0.1079, -0.1603, -0.1484,  0.1178,  0.0736,\n",
              "          0.0521,  0.0605,  0.0455, -0.0018,  0.0978, -0.0193,  0.0277, -0.0864,\n",
              "          0.0605, -0.0841,  0.0583,  0.0689,  0.0386,  0.0652, -0.0949, -0.0346,\n",
              "          0.0010, -0.0228, -0.0620, -0.0538,  0.0193,  0.0429, -0.0856, -0.0051,\n",
              "         -0.0644, -0.0269, -0.0134,  0.0423, -0.0299, -0.0073,  0.0677, -0.0100,\n",
              "         -0.1171, -0.0278,  0.0184,  0.0008, -0.0262, -0.0133,  0.0140,  0.0552,\n",
              "          0.0910, -0.0086,  0.0519, -0.0424, -0.1510, -0.0326, -0.0877, -0.0085,\n",
              "          0.0705, -0.0354,  0.0282, -0.0342,  0.0090, -0.0343, -0.0508, -0.0124,\n",
              "         -0.0344, -0.0250, -0.0099,  0.0040, -0.0262, -0.0468, -0.0276, -0.0608,\n",
              "         -0.0487,  0.0533,  0.0248,  0.0013, -0.0764,  0.0166, -0.0355, -0.0448,\n",
              "          0.0397, -0.0127,  0.0502,  0.0326,  0.0314,  0.0206, -0.0198, -0.0226,\n",
              "         -0.0781,  0.0058, -0.1090,  0.0215, -0.1105,  0.0174,  0.0760,  0.0436,\n",
              "         -0.0796, -0.0517,  0.0256, -0.0158,  0.0294, -0.0600, -0.0122, -0.0032,\n",
              "          0.0387, -0.0355,  0.0167,  0.1073, -0.0195, -0.0731,  0.0614, -0.0365,\n",
              "         -0.0388,  0.0249,  0.0801, -0.0005,  0.0146, -0.0669,  0.0028,  0.0072,\n",
              "         -0.0358,  0.0215, -0.1175, -0.0058, -0.0020, -0.0258,  0.0306,  0.0267,\n",
              "         -0.0482, -0.0289,  0.0055, -0.0041,  0.0051, -0.0560, -0.0811,  0.0822,\n",
              "         -0.1334, -0.0074,  0.0150,  0.0203,  0.0090,  0.0318, -0.0041, -0.1320,\n",
              "         -0.0305,  0.0553, -0.1183, -0.0240, -0.0626,  0.0623,  0.0518,  0.0557,\n",
              "          0.0510, -0.0879,  0.0080,  0.0512,  0.0571, -0.0762,  0.0098, -0.0363,\n",
              "         -0.0141, -0.0599, -0.0730, -0.0775, -0.0182, -0.0320, -0.0028,  0.0642,\n",
              "         -0.0315, -0.0220, -0.0100, -0.0162, -0.0311, -0.0598,  0.0112,  0.0265,\n",
              "          0.0919, -0.0324,  0.1175, -0.0227,  0.1244, -0.0080, -0.0378, -0.0600,\n",
              "         -0.0239,  0.0430, -0.0250, -0.0475,  0.0422,  0.1066,  0.0404, -0.0056,\n",
              "          0.0056, -0.0307,  0.0048,  0.0350,  0.0498,  0.0891, -0.0410,  0.0865,\n",
              "         -0.0353,  0.0304, -0.0248, -0.0549, -0.0108, -0.0445,  0.0602,  0.0194,\n",
              "         -0.1470,  0.0725,  0.0811,  0.0053,  0.0022,  0.0721,  0.0404,  0.0373,\n",
              "          0.1156, -0.0657, -0.0914,  0.0561,  0.1506,  0.0542, -0.1019,  0.0260,\n",
              "          0.0047, -0.0019,  0.0203,  0.0090, -0.0598,  0.0483, -0.0412, -0.1656,\n",
              "         -0.0426,  0.0409,  0.0120,  0.0137, -0.0571,  0.0991,  0.0173,  0.0449,\n",
              "          0.0777,  0.0209, -0.0524, -0.0599, -0.0021,  0.0405, -0.0270, -0.0023,\n",
              "         -0.0234, -0.0438, -0.0142, -0.0111,  0.1294,  0.0094,  0.0029,  0.1125,\n",
              "         -0.0442, -0.0371,  0.0777,  0.1127,  0.0024, -0.0560,  0.0225, -0.0016,\n",
              "         -0.0611,  0.1632,  0.0042, -0.0215,  0.0231, -0.0259,  0.0819,  0.0210,\n",
              "         -0.0212,  0.0034, -0.0110, -0.0066, -0.0423,  0.0127, -0.0911, -0.0403,\n",
              "         -0.0925,  0.0064, -0.0533,  0.0947, -0.0303,  0.0747,  0.0746,  0.0236,\n",
              "          0.0364,  0.0883,  0.0734, -0.0155]),\n",
              " tensor([ 4.5900e-02, -1.5500e-02, -1.3400e-02,  3.8900e-02, -9.2000e-03,\n",
              "          1.0330e-01, -1.0900e-01,  3.1300e-02,  9.6200e-02, -3.1000e-02,\n",
              "          1.9300e-02, -2.4900e-02, -8.2900e-02,  1.9600e-02,  2.0000e-04,\n",
              "         -1.0400e-02,  3.6900e-02,  2.8500e-02,  1.4440e-01, -2.1600e-02,\n",
              "         -6.3700e-02,  2.6000e-02,  5.7000e-02, -3.9000e-03, -1.1970e-01,\n",
              "          7.4000e-02, -5.0600e-02,  7.6700e-02, -1.8450e-01,  4.4800e-02,\n",
              "          6.6700e-02, -4.8000e-02,  7.9300e-02,  5.2800e-02, -6.0400e-02,\n",
              "         -1.0230e-01, -1.1000e-02, -5.0000e-02, -9.6000e-02,  2.8000e-03,\n",
              "          4.3400e-02, -4.0000e-04,  7.1400e-02, -1.8000e-02,  5.8900e-02,\n",
              "          1.4930e-01,  5.4500e-02,  1.0000e-03,  7.9200e-02,  4.5900e-02,\n",
              "          1.0230e-01,  8.4900e-02,  1.0020e-01, -7.0000e-04, -9.5000e-02,\n",
              "         -1.3000e-03, -1.0300e-02, -3.7000e-02, -2.3000e-02, -4.5400e-02,\n",
              "         -2.5700e-02,  1.0470e-01,  6.5000e-03, -6.5400e-02, -1.5970e-01,\n",
              "         -4.9700e-02, -1.2660e-01,  4.2700e-02, -4.3700e-02,  4.0100e-02,\n",
              "          2.6400e-02,  6.6300e-02,  7.1900e-02,  2.9800e-02, -3.2000e-03,\n",
              "          1.0000e-03,  4.5800e-02,  7.0700e-02, -5.2800e-02,  4.9500e-02,\n",
              "         -4.0000e-04,  9.0000e-03, -8.7000e-02, -1.5600e-01, -7.2700e-02,\n",
              "         -3.8600e-02,  1.1600e-01,  9.0700e-02, -5.5700e-02, -7.8800e-02,\n",
              "          6.0000e-02, -1.3430e-01,  5.1100e-02, -2.1700e-02,  6.2500e-02,\n",
              "         -4.0600e-02, -4.5000e-03,  1.5000e-02,  3.3200e-02,  8.0200e-02,\n",
              "         -7.0900e-02, -8.8100e-02, -6.3000e-03,  1.0810e-01,  2.2500e-02,\n",
              "         -7.7000e-03, -9.8400e-02,  2.6100e-02, -5.9200e-02,  2.1000e-03,\n",
              "          2.3400e-02,  3.5000e-02,  1.8400e-02, -2.0700e-02,  3.9500e-02,\n",
              "          6.5000e-03, -3.8600e-02,  4.6700e-02, -2.1300e-02,  1.1300e-02,\n",
              "         -1.0200e-02, -3.5200e-02,  3.6900e-02, -1.8700e-02,  4.8100e-02,\n",
              "          1.5970e-01,  7.6600e-02,  6.3300e-02, -5.3500e-02,  8.9000e-03,\n",
              "          5.0500e-02,  6.8000e-02,  5.9300e-02, -1.0300e-01, -2.8900e-02,\n",
              "          1.2100e-02, -5.8000e-02,  1.1800e-02,  3.5600e-02,  1.0300e-02,\n",
              "          1.3510e-01,  3.3500e-02, -6.1500e-02,  2.4500e-02,  2.0300e-02,\n",
              "         -1.2950e-01, -6.3000e-02, -1.1400e-02, -3.3600e-02,  3.4900e-02,\n",
              "          7.6600e-02, -9.0400e-02, -9.7800e-02, -8.6100e-02,  4.7500e-02,\n",
              "          4.4500e-02, -6.8000e-03, -5.7000e-02, -1.1500e-02,  3.4400e-02,\n",
              "          2.2800e-02,  5.2300e-02, -1.5300e-02, -5.5900e-02,  2.5300e-02,\n",
              "         -5.1800e-02,  1.3100e-02,  7.2600e-02, -4.1600e-02,  7.5400e-02,\n",
              "          4.4800e-02,  2.4600e-02, -4.8700e-02,  9.1600e-02,  5.1000e-03,\n",
              "          4.2500e-02,  6.2400e-02, -5.0900e-02, -7.6000e-02,  6.5000e-03,\n",
              "          3.0000e-02, -5.5400e-02, -1.2960e-01,  7.5300e-02,  3.6900e-02,\n",
              "          2.3600e-02,  2.0800e-02,  8.0700e-02,  4.0300e-02, -4.6800e-02,\n",
              "          1.3600e-02, -3.3800e-02, -4.0800e-02, -3.6800e-02,  2.3700e-02,\n",
              "         -3.2400e-02, -4.8000e-02,  6.6100e-02,  1.3420e-01,  2.0800e-02,\n",
              "          1.3300e-02,  4.2000e-03,  1.1100e-02, -7.9000e-02, -3.4200e-02,\n",
              "          2.1900e-02, -9.2500e-02, -7.8100e-02, -1.0000e-04,  3.6200e-02,\n",
              "          2.2800e-02, -2.7800e-02, -2.2800e-02, -4.9600e-02,  1.4600e-02,\n",
              "          3.4200e-02,  1.6100e-02, -2.3000e-03,  7.3800e-02,  4.5500e-02,\n",
              "         -4.4800e-02,  1.1470e-01, -1.2130e-01,  4.9000e-02,  1.2500e-02,\n",
              "         -7.7000e-03, -2.8700e-02,  2.3700e-02,  8.0000e-04,  3.5000e-02,\n",
              "          2.4900e-02,  3.3900e-02,  6.8200e-02,  6.5900e-02,  4.4700e-02,\n",
              "          5.3000e-02,  2.0300e-02,  2.0500e-02, -4.5700e-02,  1.9000e-03,\n",
              "          2.2500e-02, -4.7200e-02,  4.1600e-02,  1.4500e-02,  1.0500e-02,\n",
              "         -6.8000e-03,  8.7000e-03,  7.6300e-02,  5.5300e-02, -1.8100e-02,\n",
              "         -5.9500e-02,  3.5700e-02,  4.8500e-02, -6.5000e-03,  1.5500e-02,\n",
              "         -4.6200e-02, -9.1000e-03,  4.0900e-02,  3.8100e-02, -2.0200e-02,\n",
              "          1.0300e-01, -7.6000e-03, -9.6800e-02,  2.4900e-02,  3.3200e-02,\n",
              "          4.6000e-03,  1.8200e-02,  2.0000e-02,  3.8700e-02,  4.0700e-02,\n",
              "         -2.7800e-02, -4.6400e-02,  2.8200e-02, -9.5000e-03,  2.7900e-02,\n",
              "          3.3400e-02, -7.1100e-02,  2.5700e-02,  5.9700e-02, -7.2000e-03,\n",
              "         -2.0500e-02, -8.2100e-02, -2.3200e-02,  3.7700e-02, -4.3300e-02,\n",
              "         -3.8400e-02,  7.5300e-02, -7.4300e-02, -1.0040e-01, -1.4000e-03,\n",
              "          4.1000e-02,  5.0000e-04, -1.3600e-02,  3.8000e-03, -7.5500e-02,\n",
              "         -3.5900e-02, -2.5200e-02,  6.5600e-02, -2.3900e-02, -3.4800e-02]),\n",
              " tensor([-1.4580e-01, -1.8120e-01, -2.5500e-02,  1.3070e-01,  1.0390e-01,\n",
              "          3.3500e-02, -7.2000e-03, -6.0000e-03,  1.8680e-01, -1.2320e-01,\n",
              "         -2.6900e-02,  6.6700e-02, -1.9460e-01, -9.6000e-02, -6.0000e-03,\n",
              "          5.6100e-02,  1.7600e-02, -4.0300e-02,  6.7500e-02, -3.1400e-02,\n",
              "          4.0300e-02,  8.4000e-03,  2.4900e-02,  4.4300e-02,  5.4200e-02,\n",
              "         -7.0000e-02,  4.5700e-02,  4.0000e-02,  1.6800e-02, -1.1000e-02,\n",
              "         -1.9000e-03,  3.6200e-02,  9.7500e-02,  4.8000e-03, -1.5300e-02,\n",
              "          2.9000e-02, -2.5300e-02,  9.4000e-03, -7.2100e-02, -5.1600e-02,\n",
              "         -2.7000e-02,  1.7500e-02,  1.9800e-02,  8.9300e-02, -1.8500e-02,\n",
              "          2.6900e-02,  8.5700e-02, -3.1900e-02,  1.9500e-02, -2.4100e-02,\n",
              "         -3.4300e-02,  1.8100e-02,  4.2900e-02,  7.9800e-02, -6.3800e-02,\n",
              "          1.3200e-02, -1.5400e-02,  8.6000e-03, -3.2200e-02, -9.4000e-03,\n",
              "         -1.1650e-01, -9.6000e-03, -5.1000e-02,  2.9800e-02, -2.6900e-02,\n",
              "          7.9500e-02,  7.1900e-02,  2.1400e-02,  2.4600e-02,  3.1400e-02,\n",
              "         -2.0000e-04, -5.1200e-02, -1.0700e-02, -1.7300e-02,  2.0400e-02,\n",
              "          2.2600e-02,  1.1000e-03,  5.9400e-02,  4.5400e-02, -8.0400e-02,\n",
              "          3.1600e-02,  4.0000e-04, -7.4000e-03, -2.9000e-03, -1.0900e-02,\n",
              "         -2.6400e-02,  3.0000e-02,  3.5300e-02,  2.2600e-02, -3.9200e-02,\n",
              "          2.9400e-02,  6.4400e-02, -3.8600e-02,  2.4800e-02, -6.4700e-02,\n",
              "          5.0500e-02, -2.0000e-04, -6.1700e-02, -6.2300e-02, -5.1200e-02,\n",
              "         -1.4230e-01,  7.3400e-02,  2.3700e-02,  1.6600e-02,  5.9600e-02,\n",
              "          1.5040e-01,  4.5500e-02,  2.5100e-02,  4.6100e-02, -1.3500e-02,\n",
              "          4.4900e-02,  4.7300e-02,  1.4500e-02,  1.8600e-02, -3.1400e-02,\n",
              "         -2.1400e-02,  2.2500e-02,  6.7600e-02,  1.2500e-02,  8.4100e-02,\n",
              "         -1.7100e-02,  8.2100e-02,  3.1400e-02, -3.1400e-02, -5.4200e-02,\n",
              "         -8.5000e-03, -3.4800e-02, -1.3800e-02,  6.3100e-02,  9.2000e-03,\n",
              "         -1.2400e-02, -2.1300e-02,  1.0210e-01, -3.7900e-02, -5.0400e-02,\n",
              "         -4.9700e-02,  2.4600e-02,  8.4300e-02, -5.1200e-02, -4.1700e-02,\n",
              "          1.9400e-02,  3.1500e-02,  5.1400e-02,  7.1000e-02, -9.4600e-02,\n",
              "          4.0600e-02, -3.4000e-03,  2.0600e-02, -2.6800e-02, -2.1000e-02,\n",
              "         -5.0000e-04,  3.1100e-02,  3.8100e-02, -2.8400e-02,  3.0900e-02,\n",
              "         -8.4000e-03, -5.7900e-02,  1.6100e-02, -8.3000e-03,  2.7200e-02,\n",
              "          2.5300e-02,  7.3500e-02, -1.6400e-02, -3.4000e-02, -1.4000e-03,\n",
              "          2.9800e-02, -1.0060e-01, -1.0600e-02, -4.6400e-02,  6.2300e-02,\n",
              "          2.4200e-02,  6.8500e-02,  4.2800e-02,  2.1900e-02,  2.2000e-03,\n",
              "         -5.6000e-02,  6.6200e-02, -9.4000e-03,  4.1500e-02,  5.6500e-02,\n",
              "          9.6000e-03, -4.0700e-02, -3.5300e-02, -5.8600e-02, -7.0500e-02,\n",
              "         -2.1000e-03, -0.0000e+00, -3.8100e-02, -2.5900e-02, -3.3500e-02,\n",
              "         -4.2000e-02, -4.7500e-02,  3.3000e-02,  6.6400e-02, -7.3900e-02,\n",
              "          3.3900e-02,  6.4700e-02, -3.1000e-02,  4.2000e-03,  6.4000e-02,\n",
              "         -5.2900e-02,  1.7700e-02, -2.3400e-02, -6.1600e-02,  4.9500e-02,\n",
              "         -3.8500e-02, -1.2960e-01, -2.5100e-02, -1.5000e-03,  3.1000e-02,\n",
              "         -1.3600e-02, -3.0400e-02, -7.7000e-03, -9.0000e-03,  6.4000e-03,\n",
              "         -2.5700e-02,  8.3400e-02, -9.0000e-04,  2.6300e-02, -4.2500e-02,\n",
              "          2.8800e-02, -1.3400e-02, -6.3600e-02,  3.7200e-02, -2.9700e-02,\n",
              "         -1.7000e-03, -1.2280e-01,  6.2000e-03, -7.0600e-02,  8.0000e-03,\n",
              "         -1.1100e-02, -1.4080e-01,  5.4800e-02,  4.7000e-03,  9.9000e-02,\n",
              "          7.0800e-02, -7.9100e-02, -1.6400e-02, -4.4900e-02, -2.6400e-02,\n",
              "         -5.0300e-02, -6.9000e-03, -6.8900e-02, -9.2100e-02, -3.6000e-02,\n",
              "         -7.1000e-02,  8.6100e-02, -3.7000e-03, -1.7800e-02,  5.9200e-02,\n",
              "          1.5300e-02, -3.3900e-02,  8.7200e-02,  1.5000e-02, -1.3800e-02,\n",
              "          3.1400e-02, -6.7100e-02, -4.8500e-02, -8.9900e-02, -2.5200e-02,\n",
              "          1.7800e-02, -9.4500e-02,  1.0100e-02, -4.4400e-02, -2.0500e-01,\n",
              "          2.1500e-02,  6.6900e-02, -7.9600e-02, -5.7500e-02, -3.7600e-02,\n",
              "          3.6900e-02,  1.0360e-01, -8.3400e-02,  7.2500e-02,  8.0900e-02,\n",
              "          5.0200e-02, -1.4400e-02,  3.4000e-03,  1.7500e-02, -9.1300e-02,\n",
              "         -9.4800e-02,  1.1300e-02,  7.1100e-02,  6.1900e-02,  3.3800e-02,\n",
              "          3.7000e-02,  1.1700e-01, -3.7400e-02, -1.6950e-01,  2.3600e-02,\n",
              "         -1.5300e-02, -3.0300e-02,  1.4830e-01, -5.3400e-02,  2.7900e-02,\n",
              "          9.2400e-02, -4.6900e-02, -1.5330e-01, -2.4700e-02, -4.9900e-02]),\n",
              " tensor([-0.0633, -0.1084, -0.0381,  0.1395, -0.0341, -0.0047,  0.0229,  0.0632,\n",
              "          0.1107, -0.0113, -0.1308,  0.1043, -0.1937, -0.0217,  0.1024,  0.0378,\n",
              "          0.0154, -0.0263, -0.0619, -0.0091,  0.0881, -0.0323, -0.0313, -0.0702,\n",
              "          0.0881, -0.0997, -0.0138,  0.0758,  0.0638, -0.0318, -0.0413,  0.0651,\n",
              "          0.0634, -0.0716,  0.0036,  0.0196, -0.0023, -0.0294, -0.0972, -0.0755,\n",
              "         -0.0377,  0.0276, -0.0169,  0.0900,  0.0194,  0.0521,  0.0629, -0.0330,\n",
              "         -0.0333,  0.0279, -0.0445, -0.0543, -0.0004,  0.0101,  0.0377,  0.0620,\n",
              "         -0.0721,  0.0352, -0.0263,  0.0003, -0.0987,  0.0091, -0.0209, -0.0188,\n",
              "          0.0092,  0.0118,  0.1033, -0.0261,  0.0222,  0.0511, -0.0566, -0.0242,\n",
              "         -0.0083,  0.0116,  0.0142,  0.0302, -0.0176,  0.0203, -0.0025, -0.0332,\n",
              "          0.0040,  0.0094,  0.0107, -0.0706,  0.0736,  0.0776,  0.0031,  0.0918,\n",
              "         -0.0090,  0.0269, -0.0213,  0.0478,  0.0354, -0.0140, -0.0876,  0.0584,\n",
              "         -0.0162, -0.0112, -0.0476, -0.0060, -0.0744,  0.0271,  0.0736,  0.0194,\n",
              "         -0.0147,  0.0479,  0.0287, -0.0100,  0.0093,  0.0245,  0.0735,  0.0097,\n",
              "          0.0392, -0.0046,  0.0375,  0.0057,  0.0141,  0.0731, -0.0079,  0.0881,\n",
              "         -0.0783,  0.1130,  0.0300,  0.0236, -0.0149, -0.0522, -0.0285,  0.0138,\n",
              "          0.0474, -0.0369, -0.0998, -0.0894, -0.0489,  0.0148,  0.0165,  0.0005,\n",
              "         -0.0256,  0.0448, -0.0067,  0.0453, -0.0392, -0.0789,  0.0918,  0.1022,\n",
              "         -0.0511,  0.0591,  0.0044,  0.0205,  0.0618,  0.0188,  0.0068, -0.0380,\n",
              "          0.0446,  0.0528,  0.0126, -0.0439, -0.0486,  0.0157, -0.0563,  0.0069,\n",
              "          0.0103,  0.0042,  0.0472,  0.0725,  0.0348,  0.0207, -0.0919, -0.0374,\n",
              "         -0.0440,  0.0720,  0.0069, -0.0251, -0.0357, -0.0150,  0.0586,  0.1130,\n",
              "          0.0206, -0.0570,  0.1143,  0.1290,  0.0499,  0.0359, -0.0784, -0.0750,\n",
              "          0.0594, -0.0701,  0.0045,  0.0459, -0.0490,  0.0282, -0.0692,  0.0179,\n",
              "          0.0476, -0.0938, -0.0297, -0.0734,  0.1065,  0.0979,  0.0221,  0.0783,\n",
              "         -0.0376,  0.0687, -0.0316, -0.0519,  0.0283, -0.0222, -0.0308, -0.0691,\n",
              "          0.0896,  0.0151,  0.0072, -0.0230,  0.0768,  0.0605,  0.0161, -0.0520,\n",
              "          0.0838,  0.1177,  0.0335, -0.0318, -0.0638,  0.0357,  0.0691,  0.0402,\n",
              "         -0.0644,  0.0327, -0.0313,  0.0440, -0.1061, -0.0304,  0.0321, -0.0066,\n",
              "          0.0565, -0.0189,  0.0900,  0.0299, -0.0413,  0.0568, -0.1384,  0.0317,\n",
              "         -0.0089, -0.0481, -0.0549, -0.1189, -0.0568, -0.0213,  0.0876,  0.1320,\n",
              "         -0.0503,  0.0874, -0.0202, -0.1135,  0.0856,  0.0209,  0.0107, -0.1171,\n",
              "          0.0377, -0.0563,  0.0450,  0.0274, -0.0358,  0.0184,  0.0647,  0.0048,\n",
              "         -0.0811, -0.0110, -0.0544, -0.0591,  0.0017, -0.0910,  0.1072,  0.0511,\n",
              "         -0.0848, -0.0134,  0.0104,  0.0124,  0.0179, -0.0037,  0.0342,  0.0041,\n",
              "         -0.1128, -0.0070,  0.1063, -0.0602, -0.0208, -0.0799,  0.0793, -0.0253,\n",
              "          0.0388,  0.0091, -0.1340,  0.0546, -0.0507, -0.0927,  0.0067,  0.0727,\n",
              "          0.0621,  0.0032, -0.0486,  0.0561]),\n",
              " tensor([-0.0471, -0.1114,  0.0311,  0.0861, -0.0393,  0.0915,  0.0066, -0.0188,\n",
              "          0.0953,  0.0088, -0.0476,  0.1718, -0.1570, -0.0432,  0.0229,  0.0272,\n",
              "         -0.0059,  0.0108, -0.0121, -0.0375,  0.0290, -0.0204,  0.0312,  0.1104,\n",
              "          0.0430, -0.0385, -0.0189,  0.0622, -0.0093,  0.0541, -0.0154,  0.1187,\n",
              "          0.0440,  0.0353,  0.0527, -0.0580, -0.0424, -0.0009, -0.0238,  0.0354,\n",
              "         -0.0842,  0.0091,  0.0264,  0.0312, -0.0320,  0.0476,  0.0777, -0.0645,\n",
              "          0.0252, -0.0713,  0.0384,  0.0291,  0.0602,  0.0624,  0.0543,  0.0398,\n",
              "         -0.0199, -0.0142,  0.0473, -0.0478, -0.1064, -0.0311,  0.0199, -0.0118,\n",
              "         -0.0411,  0.0822,  0.0539,  0.0769, -0.0032, -0.0433,  0.0096,  0.0020,\n",
              "          0.0404, -0.0503,  0.0160,  0.0472, -0.0092,  0.0197,  0.0477, -0.0639,\n",
              "         -0.0731, -0.0085, -0.0379,  0.0227, -0.0202,  0.0059, -0.0247,  0.0599,\n",
              "         -0.0328,  0.0402,  0.0112, -0.0647,  0.0006,  0.0509,  0.0338,  0.0858,\n",
              "          0.0604, -0.0269, -0.0352, -0.0312, -0.0585,  0.0467,  0.0004,  0.0540,\n",
              "         -0.0267,  0.1577, -0.0350,  0.0686,  0.0436,  0.0756,  0.0607,  0.0495,\n",
              "         -0.0955, -0.0128, -0.0602,  0.0358, -0.0410,  0.0262,  0.0226,  0.0227,\n",
              "          0.0714,  0.0639,  0.0432, -0.0033,  0.0208,  0.0246,  0.0274, -0.1274,\n",
              "         -0.0313,  0.0037, -0.0841,  0.0500, -0.0343, -0.0037, -0.0024, -0.0691,\n",
              "         -0.0797,  0.0735, -0.0874, -0.0438, -0.0541,  0.0257, -0.0257,  0.0056,\n",
              "          0.0597,  0.0668, -0.0305,  0.0092,  0.0193, -0.0686,  0.0300, -0.1340,\n",
              "          0.0168,  0.0234, -0.0150,  0.0044,  0.0126,  0.0055, -0.0222,  0.0616,\n",
              "          0.1049,  0.0253, -0.0269, -0.0096, -0.1215, -0.0141, -0.0231, -0.0060,\n",
              "         -0.0487,  0.0592, -0.0203,  0.0377, -0.0299,  0.0072, -0.0769,  0.1504,\n",
              "          0.0006,  0.1571, -0.0012,  0.1242, -0.0435, -0.0423, -0.0651,  0.0738,\n",
              "          0.0007,  0.0265, -0.0345,  0.0305, -0.0493, -0.0266,  0.0132, -0.0046,\n",
              "          0.0289,  0.0457, -0.0144,  0.0319,  0.0437,  0.0158,  0.0628,  0.0554,\n",
              "         -0.0584,  0.0154,  0.0822, -0.0089, -0.0042, -0.1402,  0.0092, -0.1281,\n",
              "         -0.0114,  0.0788, -0.0204,  0.0024, -0.1338,  0.0827,  0.1177, -0.0764,\n",
              "         -0.0582, -0.0201,  0.0141,  0.0048, -0.0180, -0.0281, -0.1128,  0.0545,\n",
              "          0.1037,  0.0307, -0.0605,  0.0098, -0.0185, -0.1369,  0.0042,  0.0178,\n",
              "          0.0713,  0.1004,  0.0517, -0.0190, -0.0355,  0.0321,  0.0468, -0.0321,\n",
              "          0.0070, -0.0349,  0.0318, -0.0254, -0.1162, -0.0379, -0.0028, -0.0508,\n",
              "         -0.0194,  0.0308, -0.0499,  0.0827,  0.0345, -0.0576, -0.0326,  0.1072,\n",
              "          0.0694,  0.0266, -0.0486,  0.0128,  0.0213, -0.0917,  0.0077,  0.0016,\n",
              "         -0.0354,  0.0252, -0.0372, -0.0346, -0.0122, -0.1227, -0.0617, -0.0099,\n",
              "         -0.0024, -0.0742, -0.1420,  0.0194, -0.1348,  0.0459, -0.1586, -0.0775,\n",
              "          0.0377, -0.0302, -0.0020,  0.0684, -0.0667,  0.0464,  0.0322,  0.0964,\n",
              "         -0.0182, -0.0263, -0.0091,  0.0311,  0.0425,  0.0405,  0.0385,  0.0738,\n",
              "          0.0013,  0.0020,  0.0283, -0.1199])]"
            ]
          },
          "metadata": {},
          "execution_count": 28
        }
      ],
      "source": [
        "qa_pairs_test[0][0][0] #this prints the question of the first pair for the first question (should be the same as the previous output basically)"
      ]
    },
    {
      "cell_type": "code",
      "execution_count": 29,
      "metadata": {
        "id": "0osrD5ZFf1OY"
      },
      "outputs": [],
      "source": [
        "# getting the similarity scores for each question-answer pair and the values are concatenated to the embeddings we had\n",
        "def cosinet(qa_pairs):\n",
        "    new_qa_pairs = []\n",
        "    for i in tqdm(range(len(qa_pairs))):\n",
        "        one_question = []\n",
        "        # this is for each question\n",
        "        for j in range(len(qa_pairs[i])):\n",
        "            # this is for each question answer pair for that given question\n",
        "\n",
        "            new_question_embedding = []\n",
        "            for word in qa_pairs[i][j][0]:\n",
        "                max_similarity = 0\n",
        "                for answer_word in qa_pairs[i][j][1]:\n",
        "                    similarity = torch.cosine_similarity(word, answer_word, dim=0)\n",
        "                    if similarity > max_similarity:\n",
        "                        max_similarity = similarity\n",
        "                new_question_embedding.append(torch.cat((word, torch.Tensor([max_similarity]))))\n",
        "\n",
        "            new_answer_embedding = []\n",
        "            for word in qa_pairs[i][j][1]:\n",
        "                max_similarity = 0\n",
        "                for question_word in qa_pairs[i][j][0]:\n",
        "                    similarity = torch.cosine_similarity(word, question_word, dim=0)\n",
        "                    if similarity > max_similarity:\n",
        "                        max_similarity = similarity\n",
        "                new_answer_embedding.append(torch.cat((word, torch.Tensor([max_similarity]))))\n",
        "\n",
        "            one_question.append((new_question_embedding, new_answer_embedding))\n",
        "\n",
        "        new_qa_pairs.append(one_question)\n",
        "\n",
        "    return new_qa_pairs"
      ]
    },
    {
      "cell_type": "code",
      "execution_count": 30,
      "metadata": {
        "id": "hL7EdgTuf6x7",
        "colab": {
          "base_uri": "https://localhost:8080/"
        },
        "outputId": "b7401049-d2b1-4aa3-fd03-558e253d02e0"
      },
      "outputs": [
        {
          "output_type": "stream",
          "name": "stderr",
          "text": [
            "100%|██████████| 873/873 [01:32<00:00,  9.44it/s]\n",
            "100%|██████████| 243/243 [00:25<00:00,  9.37it/s]\n",
            "100%|██████████| 126/126 [00:12<00:00,  9.98it/s]\n"
          ]
        }
      ],
      "source": [
        "pp_train = cosinet(qa_pairs_train)\n",
        "pp_test = cosinet(qa_pairs_test)\n",
        "pp_val = cosinet(qa_pairs_val)"
      ]
    },
    {
      "cell_type": "code",
      "source": [
        "# so a given set will have a list of questions, and each question will have a list of question-answer pairs, the pairs will have the embeddings of the question and answer words concatenated with the similarity score\n",
        "# the side of the embeddings will be 301\n",
        "\n",
        "pp_test[0][0][0]"
      ],
      "metadata": {
        "colab": {
          "base_uri": "https://localhost:8080/"
        },
        "id": "thqOoT3FpRo3",
        "outputId": "54a539c7-55ed-426f-b0fb-b2b80f139c53"
      },
      "execution_count": 31,
      "outputs": [
        {
          "output_type": "execute_result",
          "data": {
            "text/plain": [
              "[tensor([-1.3980e-01, -1.1030e-01, -3.5900e-02,  1.8500e-02,  2.3000e-03,\n",
              "          2.4700e-02,  6.3900e-02, -6.6400e-02,  1.6940e-01, -3.5200e-02,\n",
              "         -3.7100e-02,  8.8200e-02, -8.8500e-02, -7.5500e-02,  9.3300e-02,\n",
              "          4.9000e-02,  6.8200e-02,  8.3300e-02,  1.0400e-02,  7.2100e-02,\n",
              "          3.2800e-02, -9.5000e-02,  1.0430e-01,  3.8900e-02,  9.5000e-03,\n",
              "         -6.8100e-02,  3.1300e-02,  4.0500e-02, -1.9900e-02,  6.1100e-02,\n",
              "         -5.8900e-02,  7.6200e-02,  7.8900e-02,  6.0900e-02, -2.2000e-03,\n",
              "          2.8600e-02,  5.6400e-02,  3.6300e-02, -1.6720e-01, -2.9800e-02,\n",
              "         -4.8600e-02, -5.0200e-02,  7.4000e-03,  3.8200e-02, -3.1800e-02,\n",
              "         -3.5600e-02,  5.8900e-02, -5.2000e-02, -2.6200e-02, -1.3750e-01,\n",
              "         -2.7600e-02,  8.2000e-03,  1.6500e-02,  1.2100e-02,  2.2300e-02,\n",
              "          1.7200e-02, -3.5900e-02, -3.4400e-02,  1.4500e-02, -9.6100e-02,\n",
              "         -1.6070e-01,  2.0400e-02, -1.0900e-01, -1.0000e-04, -7.6800e-02,\n",
              "          7.2800e-02,  3.1900e-02,  5.7600e-02,  1.0440e-01, -3.6600e-02,\n",
              "         -4.4000e-03, -3.8700e-02,  1.2220e-01, -8.2000e-03, -6.8900e-02,\n",
              "          8.4000e-02,  2.4000e-03,  2.0100e-02,  1.0500e-02, -1.1160e-01,\n",
              "         -2.2700e-02, -2.9000e-03, -7.1200e-02,  7.8400e-02,  5.9000e-03,\n",
              "          3.5400e-02,  1.2070e-01,  1.2700e-02,  3.4500e-02, -3.3500e-02,\n",
              "         -4.9900e-02, -5.5000e-03,  5.8100e-02,  1.7000e-03,  2.7100e-02,\n",
              "          4.0300e-02, -6.2200e-02,  5.7000e-02, -5.4600e-02, -3.5900e-02,\n",
              "         -1.8700e-02, -4.0900e-02,  8.7800e-02, -2.5300e-02, -1.6600e-02,\n",
              "          8.2200e-02,  4.8800e-02,  5.1600e-02,  3.9900e-02,  1.9500e-02,\n",
              "         -1.0000e-04,  1.1820e-01,  2.1100e-02,  2.3800e-02, -5.1800e-02,\n",
              "         -8.5100e-02,  4.5000e-02, -5.0000e-04,  6.5200e-02,  3.6400e-02,\n",
              "         -4.1000e-02,  5.8100e-02,  4.9200e-02,  1.6900e-02,  4.0500e-02,\n",
              "          1.1100e-02, -4.1500e-02,  4.0100e-02,  2.1200e-02,  3.8400e-02,\n",
              "         -8.5800e-02, -1.2840e-01,  2.5100e-02, -1.9900e-02, -5.5800e-02,\n",
              "         -1.1360e-01,  1.7100e-02,  1.0880e-01,  3.4600e-02,  7.6900e-02,\n",
              "          9.7100e-02, -2.4300e-02,  4.9500e-02,  1.3900e-02,  2.5600e-02,\n",
              "         -8.0000e-04,  6.6900e-02,  1.8400e-02,  3.0000e-02, -2.9400e-02,\n",
              "         -2.5800e-02, -4.6700e-02,  9.9600e-02, -7.0900e-02, -1.6000e-03,\n",
              "         -3.4900e-02, -4.7600e-02, -2.4100e-02,  8.7400e-02,  8.3600e-02,\n",
              "         -1.6200e-02, -6.3500e-02,  2.5700e-02,  7.0800e-02, -3.4900e-02,\n",
              "         -3.6100e-02, -4.8400e-02, -5.3700e-02, -6.5000e-02,  2.8800e-02,\n",
              "          2.7200e-02, -1.3000e-02, -1.6000e-03,  7.3000e-02, -5.5000e-03,\n",
              "          5.9300e-02,  9.5200e-02, -1.3400e-02,  1.1120e-01, -4.7500e-02,\n",
              "         -3.5700e-02, -1.5600e-02, -1.6200e-02, -9.6100e-02, -5.2000e-02,\n",
              "          4.0700e-02,  3.5200e-02, -2.3900e-02, -7.5400e-02, -8.1000e-03,\n",
              "         -3.0700e-02, -1.3450e-01,  6.6000e-03,  7.9900e-02,  1.3700e-02,\n",
              "         -7.7500e-02,  2.7800e-02, -3.8600e-02, -5.1200e-02,  9.3800e-02,\n",
              "          2.4000e-03, -3.3000e-02, -7.3100e-02, -5.6000e-02,  1.0100e-02,\n",
              "         -3.1300e-02, -4.5900e-02,  5.8400e-02,  8.4300e-02,  6.7300e-02,\n",
              "          2.1500e-02,  3.1000e-02,  7.7400e-02, -7.1400e-02,  5.2400e-02,\n",
              "         -3.1600e-02,  4.3700e-02,  3.1900e-02,  5.4500e-02,  1.8800e-02,\n",
              "         -1.7200e-02,  4.6800e-02,  1.0790e-01,  4.1300e-02, -1.0200e-02,\n",
              "          3.7200e-02, -4.4900e-02,  4.3300e-02, -2.1300e-02,  1.8700e-02,\n",
              "         -2.2800e-02, -4.4700e-02, -4.2500e-02, -1.3820e-01,  6.8000e-03,\n",
              "          1.3890e-01, -7.5600e-02, -3.8000e-03, -4.0600e-02,  2.7500e-02,\n",
              "         -2.6700e-02, -6.4100e-02,  1.0330e-01,  1.7000e-03, -1.4300e-02,\n",
              "         -9.2200e-02,  7.5000e-03,  3.6300e-02, -2.3800e-02,  4.7000e-02,\n",
              "         -2.5800e-02,  2.9500e-02, -6.2300e-02,  4.1800e-02,  8.8000e-03,\n",
              "         -9.7000e-03, -7.6100e-02, -5.8700e-02, -8.3000e-03, -4.8100e-02,\n",
              "         -5.7000e-03,  1.7800e-02,  4.4100e-02,  2.7500e-02, -1.4420e-01,\n",
              "          1.0560e-01, -2.8700e-02, -5.3400e-02,  7.1400e-02, -1.7700e-02,\n",
              "         -7.8800e-02,  5.2000e-03,  7.2300e-02,  4.4900e-02,  3.1400e-02,\n",
              "          2.4200e-02, -3.1800e-02,  7.7000e-03,  9.9000e-03, -5.3800e-02,\n",
              "         -7.0000e-04, -1.0100e-02,  6.3900e-02, -8.8000e-03,  3.6000e-03,\n",
              "         -6.6400e-02, -5.0700e-02, -8.5100e-02, -4.6300e-02, -5.9000e-02,\n",
              "         -3.8100e-02,  7.5000e-03,  7.0000e-04, -7.0000e-03,  2.5000e-03,\n",
              "          1.2300e-02, -3.4100e-02, -5.7700e-02,  1.7800e-02,  8.3700e-02,\n",
              "          4.7623e-01]),\n",
              " tensor([ 1.3910e-01,  4.7000e-02,  2.6100e-02, -7.1000e-03, -1.0690e-01,\n",
              "          8.2000e-02, -3.9700e-02,  8.0700e-02,  7.5600e-02, -5.0900e-02,\n",
              "         -5.9500e-02,  4.7900e-02, -1.4620e-01, -3.0300e-02,  1.3200e-02,\n",
              "         -1.6890e-01,  5.5000e-02, -1.0210e-01,  5.9500e-02,  4.6700e-02,\n",
              "         -1.6770e-01,  2.2900e-02,  2.8800e-02, -8.8100e-02, -3.2500e-02,\n",
              "         -2.8700e-02, -8.2100e-02,  4.0200e-02,  5.0000e-04, -4.2000e-03,\n",
              "         -4.0000e-03,  3.8000e-03, -5.9300e-02, -6.3800e-02, -5.4900e-02,\n",
              "          7.2000e-03,  4.2000e-03,  3.2900e-02, -8.0400e-02,  1.1860e-01,\n",
              "         -9.7700e-02,  1.6200e-02,  9.5000e-02, -1.1000e-02, -4.7000e-03,\n",
              "          1.0550e-01,  1.2350e-01,  1.0400e-02,  1.7500e-02, -4.9200e-02,\n",
              "         -8.8000e-03, -1.8900e-02, -4.3700e-02,  2.5600e-02,  1.2970e-01,\n",
              "         -7.5600e-02, -6.9800e-02, -4.1500e-02, -4.5900e-02, -9.8000e-03,\n",
              "          1.3200e-02, -7.8300e-02,  1.0610e-01, -6.0800e-02, -4.5700e-02,\n",
              "          1.1790e-01, -3.0600e-02, -8.3000e-03, -5.4900e-02,  1.9900e-02,\n",
              "          4.4300e-02, -8.7400e-02, -3.9500e-02, -1.5800e-02,  7.0700e-02,\n",
              "          1.1490e-01,  5.8900e-02, -5.7000e-02, -6.1900e-02,  4.0800e-02,\n",
              "         -2.5700e-02, -8.2100e-02,  1.4330e-01,  3.5100e-02,  1.1600e-02,\n",
              "          5.7500e-02, -7.0000e-04,  9.6700e-02, -7.9700e-02,  9.5900e-02,\n",
              "         -9.5200e-02, -1.5500e-02,  6.7500e-02, -5.1000e-02, -3.1500e-02,\n",
              "          2.8000e-02, -2.0700e-02, -3.8600e-02, -1.6600e-02, -1.0700e-02,\n",
              "         -5.4900e-02,  1.0100e-02, -4.6000e-02,  5.8100e-02, -4.2100e-02,\n",
              "          4.3500e-02,  4.1600e-02, -1.2180e-01,  9.2800e-02,  1.0640e-01,\n",
              "          1.2600e-02, -6.0700e-02, -9.2700e-02,  5.9500e-02, -7.4700e-02,\n",
              "          5.8000e-03, -3.7600e-02,  4.2100e-02,  1.6200e-02,  3.8800e-02,\n",
              "          7.1400e-02, -3.5700e-02, -1.1200e-02, -9.9600e-02, -3.7000e-02,\n",
              "          2.2000e-03, -4.1700e-02, -2.9700e-02, -1.2700e-02,  5.9000e-03,\n",
              "          4.5000e-02, -7.4000e-02,  2.9600e-02,  1.5630e-01, -1.2200e-02,\n",
              "          3.6500e-02, -3.5800e-02, -1.0280e-01, -1.0300e-02,  1.4000e-02,\n",
              "         -1.1400e-01, -1.0120e-01, -2.4500e-02, -4.2900e-02, -5.3800e-02,\n",
              "          8.9200e-02, -1.4600e-02, -9.3300e-02, -2.9700e-02,  5.1000e-03,\n",
              "         -7.3400e-02,  1.2860e-01,  6.8700e-02, -1.4500e-02,  1.6200e-02,\n",
              "         -4.4600e-02, -3.1000e-03, -6.8000e-03,  5.4000e-03,  3.0500e-02,\n",
              "          1.1200e-02,  5.0300e-02,  4.9300e-02,  1.3300e-02, -3.0000e-02,\n",
              "          5.3200e-02,  4.9800e-02, -4.0500e-02,  9.8900e-02,  4.4100e-02,\n",
              "         -6.4300e-02, -5.2600e-02, -3.7100e-02, -1.5500e-02,  2.8000e-02,\n",
              "          2.4400e-02,  6.5900e-02, -3.8100e-02,  1.8400e-02,  1.0600e-02,\n",
              "         -0.0000e+00, -2.5900e-02,  2.6900e-02, -1.2940e-01, -1.1650e-01,\n",
              "          8.4000e-03,  3.0000e-04, -8.6200e-02,  5.9600e-02, -1.2100e-02,\n",
              "          8.7000e-03, -5.3000e-03,  2.0100e-02,  3.4000e-03, -5.2800e-02,\n",
              "         -6.4400e-02, -1.5100e-01,  6.4500e-02,  8.3000e-03, -4.8400e-02,\n",
              "          5.5500e-02, -2.0900e-02, -2.4600e-02, -8.1200e-02,  2.5400e-02,\n",
              "         -4.1400e-02,  9.1400e-02,  5.9400e-02, -4.3000e-03, -4.1300e-02,\n",
              "         -4.0000e-04, -8.0000e-04,  1.0660e-01, -1.2000e-02, -1.8000e-02,\n",
              "         -2.5900e-02,  4.3000e-03,  9.9300e-02,  1.7800e-02, -6.9200e-02,\n",
              "         -9.6000e-03, -4.5600e-02, -4.3300e-02,  8.7000e-03, -3.5000e-03,\n",
              "          2.8300e-02,  1.0000e-04, -2.4100e-02,  6.6400e-02, -3.5600e-02,\n",
              "         -8.5000e-02, -2.9200e-02, -5.3800e-02, -3.1000e-03, -2.2000e-02,\n",
              "         -9.4200e-02, -3.1000e-03,  9.0000e-03,  1.7600e-02, -5.2300e-02,\n",
              "         -7.4500e-02, -2.0300e-02,  9.8000e-03,  1.9900e-02,  5.9300e-02,\n",
              "          6.5200e-02, -2.1800e-02,  1.6000e-03, -5.4400e-02,  6.7900e-02,\n",
              "          3.2700e-02, -1.0170e-01, -4.0100e-02,  2.7000e-03, -5.1600e-02,\n",
              "         -1.1700e-02,  7.8000e-03, -7.2700e-02, -2.1800e-02,  3.7000e-02,\n",
              "          5.9300e-02,  3.3400e-02,  7.9300e-02,  4.0200e-02,  4.4400e-02,\n",
              "         -5.7800e-02, -6.8400e-02, -8.1700e-02,  2.1700e-02,  2.7400e-02,\n",
              "          6.1800e-02, -6.9900e-02,  3.3400e-02,  2.3400e-02,  3.6100e-02,\n",
              "          5.2100e-02, -5.1200e-02, -3.2000e-03, -6.1800e-02, -2.3500e-02,\n",
              "         -1.8500e-02,  2.7000e-02,  6.0100e-02,  5.6000e-03,  2.4000e-02,\n",
              "          5.9000e-03,  1.6300e-02,  4.8000e-03, -6.4000e-03,  5.0000e-04,\n",
              "          1.3000e-03,  2.3300e-02, -3.6200e-02, -2.8700e-02, -4.2800e-02,\n",
              "         -5.3800e-02,  1.0800e-02,  6.6600e-02,  5.1000e-03,  1.2100e-02,\n",
              "          1.0000e+00]),\n",
              " tensor([ 5.1500e-02, -3.4300e-02, -8.0000e-03, -5.2000e-03, -4.4600e-02,\n",
              "          1.0050e-01, -3.9800e-02,  2.9300e-02,  4.4600e-02,  4.8700e-02,\n",
              "         -5.4400e-02,  1.4580e-01, -1.1430e-01,  2.5000e-02,  4.4000e-02,\n",
              "         -1.1700e-01,  7.9900e-02, -1.8000e-03, -5.0000e-03,  6.7800e-02,\n",
              "         -7.2000e-02, -9.0000e-04,  1.3000e-02, -4.9000e-03, -1.7900e-02,\n",
              "         -3.0600e-02, -1.8000e-02,  8.6100e-02,  3.4700e-02,  2.7800e-02,\n",
              "          7.6300e-02,  9.2000e-02, -3.3400e-02,  3.3500e-02, -1.3160e-01,\n",
              "         -1.3270e-01, -2.4000e-02,  3.8000e-03, -2.7200e-02,  7.5600e-02,\n",
              "          4.5900e-02,  2.4900e-02,  3.4300e-02, -2.5700e-02,  3.2600e-02,\n",
              "          2.1200e-02,  6.4300e-02, -1.7880e-01,  1.5600e-02, -5.1000e-03,\n",
              "          1.1000e-02,  3.7000e-02,  3.8800e-02,  4.3700e-02,  1.0470e-01,\n",
              "          7.5000e-02, -8.1700e-02, -9.0000e-03,  4.9200e-02,  1.4500e-02,\n",
              "         -2.9300e-02, -1.6720e-01, -6.3400e-02, -1.3680e-01, -1.6510e-01,\n",
              "          7.6300e-02,  7.0500e-02,  8.3800e-02,  4.6700e-02, -4.9700e-02,\n",
              "         -6.5700e-02, -5.0000e-03,  7.1900e-02, -6.1500e-02,  2.6800e-02,\n",
              "          6.2500e-02,  3.5800e-02,  1.2400e-02, -5.3000e-02,  4.4600e-02,\n",
              "         -1.4590e-01, -3.8300e-02, -3.3600e-02, -4.8600e-02, -5.8500e-02,\n",
              "          4.1400e-02,  1.0000e-04,  8.1200e-02,  8.7000e-03,  3.0000e-02,\n",
              "          6.0300e-02, -4.0400e-02,  1.9500e-02, -6.9600e-02,  2.9800e-02,\n",
              "          5.8000e-02,  4.1500e-02, -4.2000e-02, -2.9300e-02,  5.1500e-02,\n",
              "         -9.9000e-02, -2.1200e-02, -1.1940e-01,  4.9700e-02, -7.8100e-02,\n",
              "          4.7400e-02,  2.3100e-02, -3.1800e-02,  2.6600e-02,  1.5900e-02,\n",
              "          4.3400e-02, -1.5300e-02, -8.4900e-02, -6.0900e-02, -3.6100e-02,\n",
              "          6.0000e-03, -5.0300e-02,  7.2900e-02, -3.5200e-02,  4.6400e-02,\n",
              "          3.1700e-02,  4.9700e-02,  5.4600e-02, -3.8800e-02,  8.2000e-03,\n",
              "          7.4800e-02, -7.5000e-03, -5.0000e-04, -4.9600e-02,  7.4900e-02,\n",
              "         -1.3900e-02, -2.4100e-02,  6.6000e-02, -8.7900e-02, -2.8200e-02,\n",
              "          3.1600e-02, -9.2800e-02,  6.7400e-02, -8.5000e-02, -4.1100e-02,\n",
              "          3.8600e-02, -6.8500e-02,  1.2200e-02,  4.3400e-02,  4.0000e-02,\n",
              "          1.7970e-01, -2.5000e-03, -6.0200e-02,  3.9500e-02,  1.5000e-03,\n",
              "          9.7700e-02, -1.0250e-01,  2.0800e-02, -1.3900e-02,  2.7500e-02,\n",
              "          1.5400e-02, -5.0700e-02,  3.2300e-02,  3.9200e-02,  2.3000e-03,\n",
              "         -2.6300e-02,  5.6600e-02, -7.2000e-03,  8.2100e-02, -4.9800e-02,\n",
              "          3.6600e-02,  4.0000e-03,  2.9200e-02, -1.0060e-01,  2.2500e-02,\n",
              "         -2.2100e-02, -3.2500e-02,  4.0500e-02,  6.2000e-03, -3.8300e-02,\n",
              "          1.4140e-01, -6.8000e-03,  3.9400e-02, -1.8900e-02,  2.6800e-02,\n",
              "          6.0700e-02, -1.6500e-02,  5.8700e-02, -4.7000e-03,  3.4000e-02,\n",
              "         -3.5600e-02, -6.0300e-02,  1.0300e-02,  1.0730e-01,  6.9900e-02,\n",
              "          4.6200e-02, -3.4200e-02, -5.5800e-02,  3.1100e-02,  6.9800e-02,\n",
              "         -4.1400e-02,  7.7600e-02,  7.0600e-02,  8.3000e-03, -5.2200e-02,\n",
              "         -2.3000e-03, -7.0000e-02,  4.0200e-02, -9.9000e-03,  3.7100e-02,\n",
              "          5.6800e-02,  7.1100e-02, -2.9000e-02, -2.5900e-02,  6.0000e-03,\n",
              "         -8.6000e-03,  3.9400e-02, -9.8700e-02, -8.4400e-02,  2.3200e-02,\n",
              "         -1.2510e-01, -3.5000e-02, -1.6000e-03, -5.7400e-02, -1.1390e-01,\n",
              "         -7.5000e-03, -3.2300e-02, -1.4540e-01, -1.8100e-02,  8.6400e-02,\n",
              "          1.3000e-03, -5.1900e-02,  2.4600e-02,  8.5400e-02, -5.1900e-02,\n",
              "         -2.1600e-02,  7.9200e-02, -3.8100e-02,  1.0540e-01,  3.1800e-02,\n",
              "          1.4400e-02,  3.5100e-02,  4.5000e-03, -9.5000e-03,  3.6700e-02,\n",
              "         -4.2700e-02,  2.5800e-02,  5.5600e-02, -7.7000e-03, -8.1800e-02,\n",
              "          7.8000e-03, -4.3800e-02, -1.1900e-02,  4.9900e-02, -1.3700e-02,\n",
              "         -1.7000e-02, -1.9200e-02,  5.5400e-02, -3.4400e-02,  4.5400e-02,\n",
              "         -3.2200e-02, -4.6200e-02,  1.0170e-01, -3.9100e-02,  2.9500e-02,\n",
              "          7.4300e-02,  6.2500e-02, -1.7500e-02,  2.2000e-02,  4.1000e-02,\n",
              "          4.4200e-02,  1.2260e-01,  2.8700e-02,  9.6900e-02, -2.0500e-02,\n",
              "          7.7000e-03, -4.8300e-02,  4.7000e-02,  2.8000e-03, -6.5300e-02,\n",
              "          3.1200e-02,  1.3600e-02,  3.4200e-02, -9.6400e-02,  3.5000e-02,\n",
              "         -3.8200e-02,  1.3300e-02, -4.9500e-02,  4.4000e-03, -6.2100e-02,\n",
              "          3.0100e-02,  7.2000e-03,  3.2000e-03, -7.5800e-02,  8.0200e-02,\n",
              "          6.7400e-02, -5.1000e-03, -8.7000e-03, -5.6000e-03,  4.1900e-02,\n",
              "         -6.9000e-03,  6.4700e-02,  3.4900e-02, -1.1200e-02, -1.6900e-02,\n",
              "          4.2717e-01]),\n",
              " tensor([-6.1900e-02, -9.8000e-02, -4.2000e-03,  8.8000e-03, -1.9000e-03,\n",
              "          6.6300e-02,  1.3000e-02,  6.3300e-02,  1.1400e-01,  2.0700e-02,\n",
              "         -6.5500e-02,  1.0790e-01, -1.6030e-01, -1.4840e-01,  1.1780e-01,\n",
              "          7.3600e-02,  5.2100e-02,  6.0500e-02,  4.5500e-02, -1.8000e-03,\n",
              "          9.7800e-02, -1.9300e-02,  2.7700e-02, -8.6400e-02,  6.0500e-02,\n",
              "         -8.4100e-02,  5.8300e-02,  6.8900e-02,  3.8600e-02,  6.5200e-02,\n",
              "         -9.4900e-02, -3.4600e-02,  1.0000e-03, -2.2800e-02, -6.2000e-02,\n",
              "         -5.3800e-02,  1.9300e-02,  4.2900e-02, -8.5600e-02, -5.1000e-03,\n",
              "         -6.4400e-02, -2.6900e-02, -1.3400e-02,  4.2300e-02, -2.9900e-02,\n",
              "         -7.3000e-03,  6.7700e-02, -1.0000e-02, -1.1710e-01, -2.7800e-02,\n",
              "          1.8400e-02,  8.0000e-04, -2.6200e-02, -1.3300e-02,  1.4000e-02,\n",
              "          5.5200e-02,  9.1000e-02, -8.6000e-03,  5.1900e-02, -4.2400e-02,\n",
              "         -1.5100e-01, -3.2600e-02, -8.7700e-02, -8.5000e-03,  7.0500e-02,\n",
              "         -3.5400e-02,  2.8200e-02, -3.4200e-02,  9.0000e-03, -3.4300e-02,\n",
              "         -5.0800e-02, -1.2400e-02, -3.4400e-02, -2.5000e-02, -9.9000e-03,\n",
              "          4.0000e-03, -2.6200e-02, -4.6800e-02, -2.7600e-02, -6.0800e-02,\n",
              "         -4.8700e-02,  5.3300e-02,  2.4800e-02,  1.3000e-03, -7.6400e-02,\n",
              "          1.6600e-02, -3.5500e-02, -4.4800e-02,  3.9700e-02, -1.2700e-02,\n",
              "          5.0200e-02,  3.2600e-02,  3.1400e-02,  2.0600e-02, -1.9800e-02,\n",
              "         -2.2600e-02, -7.8100e-02,  5.8000e-03, -1.0900e-01,  2.1500e-02,\n",
              "         -1.1050e-01,  1.7400e-02,  7.6000e-02,  4.3600e-02, -7.9600e-02,\n",
              "         -5.1700e-02,  2.5600e-02, -1.5800e-02,  2.9400e-02, -6.0000e-02,\n",
              "         -1.2200e-02, -3.2000e-03,  3.8700e-02, -3.5500e-02,  1.6700e-02,\n",
              "          1.0730e-01, -1.9500e-02, -7.3100e-02,  6.1400e-02, -3.6500e-02,\n",
              "         -3.8800e-02,  2.4900e-02,  8.0100e-02, -5.0000e-04,  1.4600e-02,\n",
              "         -6.6900e-02,  2.8000e-03,  7.2000e-03, -3.5800e-02,  2.1500e-02,\n",
              "         -1.1750e-01, -5.8000e-03, -2.0000e-03, -2.5800e-02,  3.0600e-02,\n",
              "          2.6700e-02, -4.8200e-02, -2.8900e-02,  5.5000e-03, -4.1000e-03,\n",
              "          5.1000e-03, -5.6000e-02, -8.1100e-02,  8.2200e-02, -1.3340e-01,\n",
              "         -7.4000e-03,  1.5000e-02,  2.0300e-02,  9.0000e-03,  3.1800e-02,\n",
              "         -4.1000e-03, -1.3200e-01, -3.0500e-02,  5.5300e-02, -1.1830e-01,\n",
              "         -2.4000e-02, -6.2600e-02,  6.2300e-02,  5.1800e-02,  5.5700e-02,\n",
              "          5.1000e-02, -8.7900e-02,  8.0000e-03,  5.1200e-02,  5.7100e-02,\n",
              "         -7.6200e-02,  9.8000e-03, -3.6300e-02, -1.4100e-02, -5.9900e-02,\n",
              "         -7.3000e-02, -7.7500e-02, -1.8200e-02, -3.2000e-02, -2.8000e-03,\n",
              "          6.4200e-02, -3.1500e-02, -2.2000e-02, -1.0000e-02, -1.6200e-02,\n",
              "         -3.1100e-02, -5.9800e-02,  1.1200e-02,  2.6500e-02,  9.1900e-02,\n",
              "         -3.2400e-02,  1.1750e-01, -2.2700e-02,  1.2440e-01, -8.0000e-03,\n",
              "         -3.7800e-02, -6.0000e-02, -2.3900e-02,  4.3000e-02, -2.5000e-02,\n",
              "         -4.7500e-02,  4.2200e-02,  1.0660e-01,  4.0400e-02, -5.6000e-03,\n",
              "          5.6000e-03, -3.0700e-02,  4.8000e-03,  3.5000e-02,  4.9800e-02,\n",
              "          8.9100e-02, -4.1000e-02,  8.6500e-02, -3.5300e-02,  3.0400e-02,\n",
              "         -2.4800e-02, -5.4900e-02, -1.0800e-02, -4.4500e-02,  6.0200e-02,\n",
              "          1.9400e-02, -1.4700e-01,  7.2500e-02,  8.1100e-02,  5.3000e-03,\n",
              "          2.2000e-03,  7.2100e-02,  4.0400e-02,  3.7300e-02,  1.1560e-01,\n",
              "         -6.5700e-02, -9.1400e-02,  5.6100e-02,  1.5060e-01,  5.4200e-02,\n",
              "         -1.0190e-01,  2.6000e-02,  4.7000e-03, -1.9000e-03,  2.0300e-02,\n",
              "          9.0000e-03, -5.9800e-02,  4.8300e-02, -4.1200e-02, -1.6560e-01,\n",
              "         -4.2600e-02,  4.0900e-02,  1.2000e-02,  1.3700e-02, -5.7100e-02,\n",
              "          9.9100e-02,  1.7300e-02,  4.4900e-02,  7.7700e-02,  2.0900e-02,\n",
              "         -5.2400e-02, -5.9900e-02, -2.1000e-03,  4.0500e-02, -2.7000e-02,\n",
              "         -2.3000e-03, -2.3400e-02, -4.3800e-02, -1.4200e-02, -1.1100e-02,\n",
              "          1.2940e-01,  9.4000e-03,  2.9000e-03,  1.1250e-01, -4.4200e-02,\n",
              "         -3.7100e-02,  7.7700e-02,  1.1270e-01,  2.4000e-03, -5.6000e-02,\n",
              "          2.2500e-02, -1.6000e-03, -6.1100e-02,  1.6320e-01,  4.2000e-03,\n",
              "         -2.1500e-02,  2.3100e-02, -2.5900e-02,  8.1900e-02,  2.1000e-02,\n",
              "         -2.1200e-02,  3.4000e-03, -1.1000e-02, -6.6000e-03, -4.2300e-02,\n",
              "          1.2700e-02, -9.1100e-02, -4.0300e-02, -9.2500e-02,  6.4000e-03,\n",
              "         -5.3300e-02,  9.4700e-02, -3.0300e-02,  7.4700e-02,  7.4600e-02,\n",
              "          2.3600e-02,  3.6400e-02,  8.8300e-02,  7.3400e-02, -1.5500e-02,\n",
              "          1.0000e+00]),\n",
              " tensor([ 4.5900e-02, -1.5500e-02, -1.3400e-02,  3.8900e-02, -9.2000e-03,\n",
              "          1.0330e-01, -1.0900e-01,  3.1300e-02,  9.6200e-02, -3.1000e-02,\n",
              "          1.9300e-02, -2.4900e-02, -8.2900e-02,  1.9600e-02,  2.0000e-04,\n",
              "         -1.0400e-02,  3.6900e-02,  2.8500e-02,  1.4440e-01, -2.1600e-02,\n",
              "         -6.3700e-02,  2.6000e-02,  5.7000e-02, -3.9000e-03, -1.1970e-01,\n",
              "          7.4000e-02, -5.0600e-02,  7.6700e-02, -1.8450e-01,  4.4800e-02,\n",
              "          6.6700e-02, -4.8000e-02,  7.9300e-02,  5.2800e-02, -6.0400e-02,\n",
              "         -1.0230e-01, -1.1000e-02, -5.0000e-02, -9.6000e-02,  2.8000e-03,\n",
              "          4.3400e-02, -4.0000e-04,  7.1400e-02, -1.8000e-02,  5.8900e-02,\n",
              "          1.4930e-01,  5.4500e-02,  1.0000e-03,  7.9200e-02,  4.5900e-02,\n",
              "          1.0230e-01,  8.4900e-02,  1.0020e-01, -7.0000e-04, -9.5000e-02,\n",
              "         -1.3000e-03, -1.0300e-02, -3.7000e-02, -2.3000e-02, -4.5400e-02,\n",
              "         -2.5700e-02,  1.0470e-01,  6.5000e-03, -6.5400e-02, -1.5970e-01,\n",
              "         -4.9700e-02, -1.2660e-01,  4.2700e-02, -4.3700e-02,  4.0100e-02,\n",
              "          2.6400e-02,  6.6300e-02,  7.1900e-02,  2.9800e-02, -3.2000e-03,\n",
              "          1.0000e-03,  4.5800e-02,  7.0700e-02, -5.2800e-02,  4.9500e-02,\n",
              "         -4.0000e-04,  9.0000e-03, -8.7000e-02, -1.5600e-01, -7.2700e-02,\n",
              "         -3.8600e-02,  1.1600e-01,  9.0700e-02, -5.5700e-02, -7.8800e-02,\n",
              "          6.0000e-02, -1.3430e-01,  5.1100e-02, -2.1700e-02,  6.2500e-02,\n",
              "         -4.0600e-02, -4.5000e-03,  1.5000e-02,  3.3200e-02,  8.0200e-02,\n",
              "         -7.0900e-02, -8.8100e-02, -6.3000e-03,  1.0810e-01,  2.2500e-02,\n",
              "         -7.7000e-03, -9.8400e-02,  2.6100e-02, -5.9200e-02,  2.1000e-03,\n",
              "          2.3400e-02,  3.5000e-02,  1.8400e-02, -2.0700e-02,  3.9500e-02,\n",
              "          6.5000e-03, -3.8600e-02,  4.6700e-02, -2.1300e-02,  1.1300e-02,\n",
              "         -1.0200e-02, -3.5200e-02,  3.6900e-02, -1.8700e-02,  4.8100e-02,\n",
              "          1.5970e-01,  7.6600e-02,  6.3300e-02, -5.3500e-02,  8.9000e-03,\n",
              "          5.0500e-02,  6.8000e-02,  5.9300e-02, -1.0300e-01, -2.8900e-02,\n",
              "          1.2100e-02, -5.8000e-02,  1.1800e-02,  3.5600e-02,  1.0300e-02,\n",
              "          1.3510e-01,  3.3500e-02, -6.1500e-02,  2.4500e-02,  2.0300e-02,\n",
              "         -1.2950e-01, -6.3000e-02, -1.1400e-02, -3.3600e-02,  3.4900e-02,\n",
              "          7.6600e-02, -9.0400e-02, -9.7800e-02, -8.6100e-02,  4.7500e-02,\n",
              "          4.4500e-02, -6.8000e-03, -5.7000e-02, -1.1500e-02,  3.4400e-02,\n",
              "          2.2800e-02,  5.2300e-02, -1.5300e-02, -5.5900e-02,  2.5300e-02,\n",
              "         -5.1800e-02,  1.3100e-02,  7.2600e-02, -4.1600e-02,  7.5400e-02,\n",
              "          4.4800e-02,  2.4600e-02, -4.8700e-02,  9.1600e-02,  5.1000e-03,\n",
              "          4.2500e-02,  6.2400e-02, -5.0900e-02, -7.6000e-02,  6.5000e-03,\n",
              "          3.0000e-02, -5.5400e-02, -1.2960e-01,  7.5300e-02,  3.6900e-02,\n",
              "          2.3600e-02,  2.0800e-02,  8.0700e-02,  4.0300e-02, -4.6800e-02,\n",
              "          1.3600e-02, -3.3800e-02, -4.0800e-02, -3.6800e-02,  2.3700e-02,\n",
              "         -3.2400e-02, -4.8000e-02,  6.6100e-02,  1.3420e-01,  2.0800e-02,\n",
              "          1.3300e-02,  4.2000e-03,  1.1100e-02, -7.9000e-02, -3.4200e-02,\n",
              "          2.1900e-02, -9.2500e-02, -7.8100e-02, -1.0000e-04,  3.6200e-02,\n",
              "          2.2800e-02, -2.7800e-02, -2.2800e-02, -4.9600e-02,  1.4600e-02,\n",
              "          3.4200e-02,  1.6100e-02, -2.3000e-03,  7.3800e-02,  4.5500e-02,\n",
              "         -4.4800e-02,  1.1470e-01, -1.2130e-01,  4.9000e-02,  1.2500e-02,\n",
              "         -7.7000e-03, -2.8700e-02,  2.3700e-02,  8.0000e-04,  3.5000e-02,\n",
              "          2.4900e-02,  3.3900e-02,  6.8200e-02,  6.5900e-02,  4.4700e-02,\n",
              "          5.3000e-02,  2.0300e-02,  2.0500e-02, -4.5700e-02,  1.9000e-03,\n",
              "          2.2500e-02, -4.7200e-02,  4.1600e-02,  1.4500e-02,  1.0500e-02,\n",
              "         -6.8000e-03,  8.7000e-03,  7.6300e-02,  5.5300e-02, -1.8100e-02,\n",
              "         -5.9500e-02,  3.5700e-02,  4.8500e-02, -6.5000e-03,  1.5500e-02,\n",
              "         -4.6200e-02, -9.1000e-03,  4.0900e-02,  3.8100e-02, -2.0200e-02,\n",
              "          1.0300e-01, -7.6000e-03, -9.6800e-02,  2.4900e-02,  3.3200e-02,\n",
              "          4.6000e-03,  1.8200e-02,  2.0000e-02,  3.8700e-02,  4.0700e-02,\n",
              "         -2.7800e-02, -4.6400e-02,  2.8200e-02, -9.5000e-03,  2.7900e-02,\n",
              "          3.3400e-02, -7.1100e-02,  2.5700e-02,  5.9700e-02, -7.2000e-03,\n",
              "         -2.0500e-02, -8.2100e-02, -2.3200e-02,  3.7700e-02, -4.3300e-02,\n",
              "         -3.8400e-02,  7.5300e-02, -7.4300e-02, -1.0040e-01, -1.4000e-03,\n",
              "          4.1000e-02,  5.0000e-04, -1.3600e-02,  3.8000e-03, -7.5500e-02,\n",
              "         -3.5900e-02, -2.5200e-02,  6.5600e-02, -2.3900e-02, -3.4800e-02,\n",
              "          6.3439e-01]),\n",
              " tensor([-1.4580e-01, -1.8120e-01, -2.5500e-02,  1.3070e-01,  1.0390e-01,\n",
              "          3.3500e-02, -7.2000e-03, -6.0000e-03,  1.8680e-01, -1.2320e-01,\n",
              "         -2.6900e-02,  6.6700e-02, -1.9460e-01, -9.6000e-02, -6.0000e-03,\n",
              "          5.6100e-02,  1.7600e-02, -4.0300e-02,  6.7500e-02, -3.1400e-02,\n",
              "          4.0300e-02,  8.4000e-03,  2.4900e-02,  4.4300e-02,  5.4200e-02,\n",
              "         -7.0000e-02,  4.5700e-02,  4.0000e-02,  1.6800e-02, -1.1000e-02,\n",
              "         -1.9000e-03,  3.6200e-02,  9.7500e-02,  4.8000e-03, -1.5300e-02,\n",
              "          2.9000e-02, -2.5300e-02,  9.4000e-03, -7.2100e-02, -5.1600e-02,\n",
              "         -2.7000e-02,  1.7500e-02,  1.9800e-02,  8.9300e-02, -1.8500e-02,\n",
              "          2.6900e-02,  8.5700e-02, -3.1900e-02,  1.9500e-02, -2.4100e-02,\n",
              "         -3.4300e-02,  1.8100e-02,  4.2900e-02,  7.9800e-02, -6.3800e-02,\n",
              "          1.3200e-02, -1.5400e-02,  8.6000e-03, -3.2200e-02, -9.4000e-03,\n",
              "         -1.1650e-01, -9.6000e-03, -5.1000e-02,  2.9800e-02, -2.6900e-02,\n",
              "          7.9500e-02,  7.1900e-02,  2.1400e-02,  2.4600e-02,  3.1400e-02,\n",
              "         -2.0000e-04, -5.1200e-02, -1.0700e-02, -1.7300e-02,  2.0400e-02,\n",
              "          2.2600e-02,  1.1000e-03,  5.9400e-02,  4.5400e-02, -8.0400e-02,\n",
              "          3.1600e-02,  4.0000e-04, -7.4000e-03, -2.9000e-03, -1.0900e-02,\n",
              "         -2.6400e-02,  3.0000e-02,  3.5300e-02,  2.2600e-02, -3.9200e-02,\n",
              "          2.9400e-02,  6.4400e-02, -3.8600e-02,  2.4800e-02, -6.4700e-02,\n",
              "          5.0500e-02, -2.0000e-04, -6.1700e-02, -6.2300e-02, -5.1200e-02,\n",
              "         -1.4230e-01,  7.3400e-02,  2.3700e-02,  1.6600e-02,  5.9600e-02,\n",
              "          1.5040e-01,  4.5500e-02,  2.5100e-02,  4.6100e-02, -1.3500e-02,\n",
              "          4.4900e-02,  4.7300e-02,  1.4500e-02,  1.8600e-02, -3.1400e-02,\n",
              "         -2.1400e-02,  2.2500e-02,  6.7600e-02,  1.2500e-02,  8.4100e-02,\n",
              "         -1.7100e-02,  8.2100e-02,  3.1400e-02, -3.1400e-02, -5.4200e-02,\n",
              "         -8.5000e-03, -3.4800e-02, -1.3800e-02,  6.3100e-02,  9.2000e-03,\n",
              "         -1.2400e-02, -2.1300e-02,  1.0210e-01, -3.7900e-02, -5.0400e-02,\n",
              "         -4.9700e-02,  2.4600e-02,  8.4300e-02, -5.1200e-02, -4.1700e-02,\n",
              "          1.9400e-02,  3.1500e-02,  5.1400e-02,  7.1000e-02, -9.4600e-02,\n",
              "          4.0600e-02, -3.4000e-03,  2.0600e-02, -2.6800e-02, -2.1000e-02,\n",
              "         -5.0000e-04,  3.1100e-02,  3.8100e-02, -2.8400e-02,  3.0900e-02,\n",
              "         -8.4000e-03, -5.7900e-02,  1.6100e-02, -8.3000e-03,  2.7200e-02,\n",
              "          2.5300e-02,  7.3500e-02, -1.6400e-02, -3.4000e-02, -1.4000e-03,\n",
              "          2.9800e-02, -1.0060e-01, -1.0600e-02, -4.6400e-02,  6.2300e-02,\n",
              "          2.4200e-02,  6.8500e-02,  4.2800e-02,  2.1900e-02,  2.2000e-03,\n",
              "         -5.6000e-02,  6.6200e-02, -9.4000e-03,  4.1500e-02,  5.6500e-02,\n",
              "          9.6000e-03, -4.0700e-02, -3.5300e-02, -5.8600e-02, -7.0500e-02,\n",
              "         -2.1000e-03, -0.0000e+00, -3.8100e-02, -2.5900e-02, -3.3500e-02,\n",
              "         -4.2000e-02, -4.7500e-02,  3.3000e-02,  6.6400e-02, -7.3900e-02,\n",
              "          3.3900e-02,  6.4700e-02, -3.1000e-02,  4.2000e-03,  6.4000e-02,\n",
              "         -5.2900e-02,  1.7700e-02, -2.3400e-02, -6.1600e-02,  4.9500e-02,\n",
              "         -3.8500e-02, -1.2960e-01, -2.5100e-02, -1.5000e-03,  3.1000e-02,\n",
              "         -1.3600e-02, -3.0400e-02, -7.7000e-03, -9.0000e-03,  6.4000e-03,\n",
              "         -2.5700e-02,  8.3400e-02, -9.0000e-04,  2.6300e-02, -4.2500e-02,\n",
              "          2.8800e-02, -1.3400e-02, -6.3600e-02,  3.7200e-02, -2.9700e-02,\n",
              "         -1.7000e-03, -1.2280e-01,  6.2000e-03, -7.0600e-02,  8.0000e-03,\n",
              "         -1.1100e-02, -1.4080e-01,  5.4800e-02,  4.7000e-03,  9.9000e-02,\n",
              "          7.0800e-02, -7.9100e-02, -1.6400e-02, -4.4900e-02, -2.6400e-02,\n",
              "         -5.0300e-02, -6.9000e-03, -6.8900e-02, -9.2100e-02, -3.6000e-02,\n",
              "         -7.1000e-02,  8.6100e-02, -3.7000e-03, -1.7800e-02,  5.9200e-02,\n",
              "          1.5300e-02, -3.3900e-02,  8.7200e-02,  1.5000e-02, -1.3800e-02,\n",
              "          3.1400e-02, -6.7100e-02, -4.8500e-02, -8.9900e-02, -2.5200e-02,\n",
              "          1.7800e-02, -9.4500e-02,  1.0100e-02, -4.4400e-02, -2.0500e-01,\n",
              "          2.1500e-02,  6.6900e-02, -7.9600e-02, -5.7500e-02, -3.7600e-02,\n",
              "          3.6900e-02,  1.0360e-01, -8.3400e-02,  7.2500e-02,  8.0900e-02,\n",
              "          5.0200e-02, -1.4400e-02,  3.4000e-03,  1.7500e-02, -9.1300e-02,\n",
              "         -9.4800e-02,  1.1300e-02,  7.1100e-02,  6.1900e-02,  3.3800e-02,\n",
              "          3.7000e-02,  1.1700e-01, -3.7400e-02, -1.6950e-01,  2.3600e-02,\n",
              "         -1.5300e-02, -3.0300e-02,  1.4830e-01, -5.3400e-02,  2.7900e-02,\n",
              "          9.2400e-02, -4.6900e-02, -1.5330e-01, -2.4700e-02, -4.9900e-02,\n",
              "          1.0000e+00]),\n",
              " tensor([-6.3300e-02, -1.0840e-01, -3.8100e-02,  1.3950e-01, -3.4100e-02,\n",
              "         -4.7000e-03,  2.2900e-02,  6.3200e-02,  1.1070e-01, -1.1300e-02,\n",
              "         -1.3080e-01,  1.0430e-01, -1.9370e-01, -2.1700e-02,  1.0240e-01,\n",
              "          3.7800e-02,  1.5400e-02, -2.6300e-02, -6.1900e-02, -9.1000e-03,\n",
              "          8.8100e-02, -3.2300e-02, -3.1300e-02, -7.0200e-02,  8.8100e-02,\n",
              "         -9.9700e-02, -1.3800e-02,  7.5800e-02,  6.3800e-02, -3.1800e-02,\n",
              "         -4.1300e-02,  6.5100e-02,  6.3400e-02, -7.1600e-02,  3.6000e-03,\n",
              "          1.9600e-02, -2.3000e-03, -2.9400e-02, -9.7200e-02, -7.5500e-02,\n",
              "         -3.7700e-02,  2.7600e-02, -1.6900e-02,  9.0000e-02,  1.9400e-02,\n",
              "          5.2100e-02,  6.2900e-02, -3.3000e-02, -3.3300e-02,  2.7900e-02,\n",
              "         -4.4500e-02, -5.4300e-02, -4.0000e-04,  1.0100e-02,  3.7700e-02,\n",
              "          6.2000e-02, -7.2100e-02,  3.5200e-02, -2.6300e-02,  3.0000e-04,\n",
              "         -9.8700e-02,  9.1000e-03, -2.0900e-02, -1.8800e-02,  9.2000e-03,\n",
              "          1.1800e-02,  1.0330e-01, -2.6100e-02,  2.2200e-02,  5.1100e-02,\n",
              "         -5.6600e-02, -2.4200e-02, -8.3000e-03,  1.1600e-02,  1.4200e-02,\n",
              "          3.0200e-02, -1.7600e-02,  2.0300e-02, -2.5000e-03, -3.3200e-02,\n",
              "          4.0000e-03,  9.4000e-03,  1.0700e-02, -7.0600e-02,  7.3600e-02,\n",
              "          7.7600e-02,  3.1000e-03,  9.1800e-02, -9.0000e-03,  2.6900e-02,\n",
              "         -2.1300e-02,  4.7800e-02,  3.5400e-02, -1.4000e-02, -8.7600e-02,\n",
              "          5.8400e-02, -1.6200e-02, -1.1200e-02, -4.7600e-02, -6.0000e-03,\n",
              "         -7.4400e-02,  2.7100e-02,  7.3600e-02,  1.9400e-02, -1.4700e-02,\n",
              "          4.7900e-02,  2.8700e-02, -1.0000e-02,  9.3000e-03,  2.4500e-02,\n",
              "          7.3500e-02,  9.7000e-03,  3.9200e-02, -4.6000e-03,  3.7500e-02,\n",
              "          5.7000e-03,  1.4100e-02,  7.3100e-02, -7.9000e-03,  8.8100e-02,\n",
              "         -7.8300e-02,  1.1300e-01,  3.0000e-02,  2.3600e-02, -1.4900e-02,\n",
              "         -5.2200e-02, -2.8500e-02,  1.3800e-02,  4.7400e-02, -3.6900e-02,\n",
              "         -9.9800e-02, -8.9400e-02, -4.8900e-02,  1.4800e-02,  1.6500e-02,\n",
              "          5.0000e-04, -2.5600e-02,  4.4800e-02, -6.7000e-03,  4.5300e-02,\n",
              "         -3.9200e-02, -7.8900e-02,  9.1800e-02,  1.0220e-01, -5.1100e-02,\n",
              "          5.9100e-02,  4.4000e-03,  2.0500e-02,  6.1800e-02,  1.8800e-02,\n",
              "          6.8000e-03, -3.8000e-02,  4.4600e-02,  5.2800e-02,  1.2600e-02,\n",
              "         -4.3900e-02, -4.8600e-02,  1.5700e-02, -5.6300e-02,  6.9000e-03,\n",
              "          1.0300e-02,  4.2000e-03,  4.7200e-02,  7.2500e-02,  3.4800e-02,\n",
              "          2.0700e-02, -9.1900e-02, -3.7400e-02, -4.4000e-02,  7.2000e-02,\n",
              "          6.9000e-03, -2.5100e-02, -3.5700e-02, -1.5000e-02,  5.8600e-02,\n",
              "          1.1300e-01,  2.0600e-02, -5.7000e-02,  1.1430e-01,  1.2900e-01,\n",
              "          4.9900e-02,  3.5900e-02, -7.8400e-02, -7.5000e-02,  5.9400e-02,\n",
              "         -7.0100e-02,  4.5000e-03,  4.5900e-02, -4.9000e-02,  2.8200e-02,\n",
              "         -6.9200e-02,  1.7900e-02,  4.7600e-02, -9.3800e-02, -2.9700e-02,\n",
              "         -7.3400e-02,  1.0650e-01,  9.7900e-02,  2.2100e-02,  7.8300e-02,\n",
              "         -3.7600e-02,  6.8700e-02, -3.1600e-02, -5.1900e-02,  2.8300e-02,\n",
              "         -2.2200e-02, -3.0800e-02, -6.9100e-02,  8.9600e-02,  1.5100e-02,\n",
              "          7.2000e-03, -2.3000e-02,  7.6800e-02,  6.0500e-02,  1.6100e-02,\n",
              "         -5.2000e-02,  8.3800e-02,  1.1770e-01,  3.3500e-02, -3.1800e-02,\n",
              "         -6.3800e-02,  3.5700e-02,  6.9100e-02,  4.0200e-02, -6.4400e-02,\n",
              "          3.2700e-02, -3.1300e-02,  4.4000e-02, -1.0610e-01, -3.0400e-02,\n",
              "          3.2100e-02, -6.6000e-03,  5.6500e-02, -1.8900e-02,  9.0000e-02,\n",
              "          2.9900e-02, -4.1300e-02,  5.6800e-02, -1.3840e-01,  3.1700e-02,\n",
              "         -8.9000e-03, -4.8100e-02, -5.4900e-02, -1.1890e-01, -5.6800e-02,\n",
              "         -2.1300e-02,  8.7600e-02,  1.3200e-01, -5.0300e-02,  8.7400e-02,\n",
              "         -2.0200e-02, -1.1350e-01,  8.5600e-02,  2.0900e-02,  1.0700e-02,\n",
              "         -1.1710e-01,  3.7700e-02, -5.6300e-02,  4.5000e-02,  2.7400e-02,\n",
              "         -3.5800e-02,  1.8400e-02,  6.4700e-02,  4.8000e-03, -8.1100e-02,\n",
              "         -1.1000e-02, -5.4400e-02, -5.9100e-02,  1.7000e-03, -9.1000e-02,\n",
              "          1.0720e-01,  5.1100e-02, -8.4800e-02, -1.3400e-02,  1.0400e-02,\n",
              "          1.2400e-02,  1.7900e-02, -3.7000e-03,  3.4200e-02,  4.1000e-03,\n",
              "         -1.1280e-01, -7.0000e-03,  1.0630e-01, -6.0200e-02, -2.0800e-02,\n",
              "         -7.9900e-02,  7.9300e-02, -2.5300e-02,  3.8800e-02,  9.1000e-03,\n",
              "         -1.3400e-01,  5.4600e-02, -5.0700e-02, -9.2700e-02,  6.7000e-03,\n",
              "          7.2700e-02,  6.2100e-02,  3.2000e-03, -4.8600e-02,  5.6100e-02,\n",
              "          1.0000e+00]),\n",
              " tensor([-0.0471, -0.1114,  0.0311,  0.0861, -0.0393,  0.0915,  0.0066, -0.0188,\n",
              "          0.0953,  0.0088, -0.0476,  0.1718, -0.1570, -0.0432,  0.0229,  0.0272,\n",
              "         -0.0059,  0.0108, -0.0121, -0.0375,  0.0290, -0.0204,  0.0312,  0.1104,\n",
              "          0.0430, -0.0385, -0.0189,  0.0622, -0.0093,  0.0541, -0.0154,  0.1187,\n",
              "          0.0440,  0.0353,  0.0527, -0.0580, -0.0424, -0.0009, -0.0238,  0.0354,\n",
              "         -0.0842,  0.0091,  0.0264,  0.0312, -0.0320,  0.0476,  0.0777, -0.0645,\n",
              "          0.0252, -0.0713,  0.0384,  0.0291,  0.0602,  0.0624,  0.0543,  0.0398,\n",
              "         -0.0199, -0.0142,  0.0473, -0.0478, -0.1064, -0.0311,  0.0199, -0.0118,\n",
              "         -0.0411,  0.0822,  0.0539,  0.0769, -0.0032, -0.0433,  0.0096,  0.0020,\n",
              "          0.0404, -0.0503,  0.0160,  0.0472, -0.0092,  0.0197,  0.0477, -0.0639,\n",
              "         -0.0731, -0.0085, -0.0379,  0.0227, -0.0202,  0.0059, -0.0247,  0.0599,\n",
              "         -0.0328,  0.0402,  0.0112, -0.0647,  0.0006,  0.0509,  0.0338,  0.0858,\n",
              "          0.0604, -0.0269, -0.0352, -0.0312, -0.0585,  0.0467,  0.0004,  0.0540,\n",
              "         -0.0267,  0.1577, -0.0350,  0.0686,  0.0436,  0.0756,  0.0607,  0.0495,\n",
              "         -0.0955, -0.0128, -0.0602,  0.0358, -0.0410,  0.0262,  0.0226,  0.0227,\n",
              "          0.0714,  0.0639,  0.0432, -0.0033,  0.0208,  0.0246,  0.0274, -0.1274,\n",
              "         -0.0313,  0.0037, -0.0841,  0.0500, -0.0343, -0.0037, -0.0024, -0.0691,\n",
              "         -0.0797,  0.0735, -0.0874, -0.0438, -0.0541,  0.0257, -0.0257,  0.0056,\n",
              "          0.0597,  0.0668, -0.0305,  0.0092,  0.0193, -0.0686,  0.0300, -0.1340,\n",
              "          0.0168,  0.0234, -0.0150,  0.0044,  0.0126,  0.0055, -0.0222,  0.0616,\n",
              "          0.1049,  0.0253, -0.0269, -0.0096, -0.1215, -0.0141, -0.0231, -0.0060,\n",
              "         -0.0487,  0.0592, -0.0203,  0.0377, -0.0299,  0.0072, -0.0769,  0.1504,\n",
              "          0.0006,  0.1571, -0.0012,  0.1242, -0.0435, -0.0423, -0.0651,  0.0738,\n",
              "          0.0007,  0.0265, -0.0345,  0.0305, -0.0493, -0.0266,  0.0132, -0.0046,\n",
              "          0.0289,  0.0457, -0.0144,  0.0319,  0.0437,  0.0158,  0.0628,  0.0554,\n",
              "         -0.0584,  0.0154,  0.0822, -0.0089, -0.0042, -0.1402,  0.0092, -0.1281,\n",
              "         -0.0114,  0.0788, -0.0204,  0.0024, -0.1338,  0.0827,  0.1177, -0.0764,\n",
              "         -0.0582, -0.0201,  0.0141,  0.0048, -0.0180, -0.0281, -0.1128,  0.0545,\n",
              "          0.1037,  0.0307, -0.0605,  0.0098, -0.0185, -0.1369,  0.0042,  0.0178,\n",
              "          0.0713,  0.1004,  0.0517, -0.0190, -0.0355,  0.0321,  0.0468, -0.0321,\n",
              "          0.0070, -0.0349,  0.0318, -0.0254, -0.1162, -0.0379, -0.0028, -0.0508,\n",
              "         -0.0194,  0.0308, -0.0499,  0.0827,  0.0345, -0.0576, -0.0326,  0.1072,\n",
              "          0.0694,  0.0266, -0.0486,  0.0128,  0.0213, -0.0917,  0.0077,  0.0016,\n",
              "         -0.0354,  0.0252, -0.0372, -0.0346, -0.0122, -0.1227, -0.0617, -0.0099,\n",
              "         -0.0024, -0.0742, -0.1420,  0.0194, -0.1348,  0.0459, -0.1586, -0.0775,\n",
              "          0.0377, -0.0302, -0.0020,  0.0684, -0.0667,  0.0464,  0.0322,  0.0964,\n",
              "         -0.0182, -0.0263, -0.0091,  0.0311,  0.0425,  0.0405,  0.0385,  0.0738,\n",
              "          0.0013,  0.0020,  0.0283, -0.1199,  0.3210])]"
            ]
          },
          "metadata": {},
          "execution_count": 31
        }
      ]
    },
    {
      "cell_type": "code",
      "source": [
        "def make_tensors(data):\n",
        "    new_data = []\n",
        "    for i in tqdm(range(len(data))):\n",
        "        one_question = []\n",
        "        for j in range(len(data[i])):\n",
        "            one_pair = []\n",
        "            if (len(data[i][j][0]) == 0) or (len(data[i][j][1]) == 0):\n",
        "                continue\n",
        "            one_pair.append(torch.stack(data[i][j][0]))\n",
        "            one_pair.append(torch.stack(data[i][j][1]))\n",
        "\n",
        "            one_question.append(one_pair)\n",
        "        new_data.append(one_question)\n",
        "\n",
        "    return new_data"
      ],
      "metadata": {
        "id": "z5YvujsMxyQX"
      },
      "execution_count": 32,
      "outputs": []
    },
    {
      "cell_type": "code",
      "source": [
        "train_tensors = make_tensors(pp_train)\n",
        "test_tensors = make_tensors(pp_test)\n",
        "val_tensors = make_tensors(pp_val)"
      ],
      "metadata": {
        "colab": {
          "base_uri": "https://localhost:8080/"
        },
        "id": "LzD14nI6xzp_",
        "outputId": "e898b22a-883b-47d4-f7ac-49ae922e052d"
      },
      "execution_count": 33,
      "outputs": [
        {
          "output_type": "stream",
          "name": "stderr",
          "text": [
            "100%|██████████| 873/873 [00:00<00:00, 1329.47it/s]\n",
            "100%|██████████| 243/243 [00:00<00:00, 1334.19it/s]\n",
            "100%|██████████| 126/126 [00:00<00:00, 2158.76it/s]\n"
          ]
        }
      ]
    },
    {
      "cell_type": "code",
      "source": [
        "test_tensors[0]"
      ],
      "metadata": {
        "colab": {
          "base_uri": "https://localhost:8080/"
        },
        "id": "qC0tOIBG40ml",
        "outputId": "1fd39c10-e4a4-4bc8-9129-d6882d260215"
      },
      "execution_count": 34,
      "outputs": [
        {
          "output_type": "execute_result",
          "data": {
            "text/plain": [
              "[[tensor([[-0.1398, -0.1103, -0.0359,  ...,  0.0178,  0.0837,  0.4762],\n",
              "          [ 0.1391,  0.0470,  0.0261,  ...,  0.0051,  0.0121,  1.0000],\n",
              "          [ 0.0515, -0.0343, -0.0080,  ..., -0.0112, -0.0169,  0.4272],\n",
              "          ...,\n",
              "          [-0.1458, -0.1812, -0.0255,  ..., -0.0247, -0.0499,  1.0000],\n",
              "          [-0.0633, -0.1084, -0.0381,  ..., -0.0486,  0.0561,  1.0000],\n",
              "          [-0.0471, -0.1114,  0.0311,  ...,  0.0283, -0.1199,  0.3210]]),\n",
              "  tensor([[ 0.1391,  0.0470,  0.0261,  ...,  0.0051,  0.0121,  1.0000],\n",
              "          [ 0.0190, -0.0280, -0.0534,  ..., -0.0256, -0.0483,  0.6290],\n",
              "          [-0.1458, -0.1812, -0.0255,  ..., -0.0247, -0.0499,  1.0000],\n",
              "          ...,\n",
              "          [ 0.0393, -0.1047, -0.0501,  ..., -0.0437,  0.0565,  0.4233],\n",
              "          [-0.0545, -0.0659, -0.0843,  ..., -0.0925, -0.0163,  0.6022],\n",
              "          [ 0.1415,  0.0348,  0.0214,  ...,  0.0144, -0.0320,  0.7585]])],\n",
              " [tensor([[-0.1398, -0.1103, -0.0359,  ...,  0.0178,  0.0837,  0.4202],\n",
              "          [ 0.1391,  0.0470,  0.0261,  ...,  0.0051,  0.0121,  1.0000],\n",
              "          [ 0.0515, -0.0343, -0.0080,  ..., -0.0112, -0.0169,  0.3386],\n",
              "          ...,\n",
              "          [-0.1458, -0.1812, -0.0255,  ..., -0.0247, -0.0499,  1.0000],\n",
              "          [-0.0633, -0.1084, -0.0381,  ..., -0.0486,  0.0561,  1.0000],\n",
              "          [-0.0471, -0.1114,  0.0311,  ...,  0.0283, -0.1199,  0.3210]]),\n",
              "  tensor([[-6.3300e-02, -1.0840e-01, -3.8100e-02,  ..., -4.8600e-02,\n",
              "            5.6100e-02,  1.0000e+00],\n",
              "          [-8.5700e-02, -3.7400e-02, -1.9460e-01,  ..., -4.6900e-02,\n",
              "           -1.0000e-04,  1.3471e-01],\n",
              "          [ 1.3910e-01,  4.7000e-02,  2.6100e-02,  ...,  5.1000e-03,\n",
              "            1.2100e-02,  1.0000e+00],\n",
              "          ...,\n",
              "          [-1.1150e-01, -1.2590e-01, -2.4100e-02,  ..., -8.8900e-02,\n",
              "           -3.2800e-02,  3.6621e-01],\n",
              "          [-3.7600e-02,  3.4900e-02, -1.1010e-01,  ...,  6.6000e-03,\n",
              "           -4.8000e-03,  1.5068e-01],\n",
              "          [-5.1400e-02, -3.9800e-02, -1.6300e-01,  ..., -9.0000e-03,\n",
              "            2.2900e-02,  3.6898e-02]])],\n",
              " [tensor([[-0.1398, -0.1103, -0.0359,  ...,  0.0178,  0.0837,  0.4202],\n",
              "          [ 0.1391,  0.0470,  0.0261,  ...,  0.0051,  0.0121,  0.6829],\n",
              "          [ 0.0515, -0.0343, -0.0080,  ..., -0.0112, -0.0169,  0.4747],\n",
              "          ...,\n",
              "          [-0.1458, -0.1812, -0.0255,  ..., -0.0247, -0.0499,  1.0000],\n",
              "          [-0.0633, -0.1084, -0.0381,  ..., -0.0486,  0.0561,  1.0000],\n",
              "          [-0.0471, -0.1114,  0.0311,  ...,  0.0283, -0.1199,  0.3210]]),\n",
              "  tensor([[-0.0291, -0.0755,  0.0083,  ..., -0.0396, -0.0122,  0.3939],\n",
              "          [-0.0633, -0.1084, -0.0381,  ..., -0.0486,  0.0561,  1.0000],\n",
              "          [ 0.0190, -0.0280, -0.0534,  ..., -0.0256, -0.0483,  0.6290],\n",
              "          ...,\n",
              "          [-0.0840, -0.1130, -0.0375,  ..., -0.0473, -0.0148,  0.3718],\n",
              "          [-0.0901, -0.1074, -0.0513,  ..., -0.0376,  0.0536,  0.5747],\n",
              "          [-0.0540, -0.0324, -0.1083,  ..., -0.0591,  0.0132,  0.1274]])],\n",
              " [tensor([[-0.1398, -0.1103, -0.0359,  ...,  0.0178,  0.0837,  0.4369],\n",
              "          [ 0.1391,  0.0470,  0.0261,  ...,  0.0051,  0.0121,  1.0000],\n",
              "          [ 0.0515, -0.0343, -0.0080,  ..., -0.0112, -0.0169,  0.4272],\n",
              "          ...,\n",
              "          [-0.1458, -0.1812, -0.0255,  ..., -0.0247, -0.0499,  0.4426],\n",
              "          [-0.0633, -0.1084, -0.0381,  ..., -0.0486,  0.0561,  1.0000],\n",
              "          [-0.0471, -0.1114,  0.0311,  ...,  0.0283, -0.1199,  0.3471]]),\n",
              "  tensor([[ 0.1391,  0.0470,  0.0261,  ...,  0.0051,  0.0121,  1.0000],\n",
              "          [ 0.1125, -0.0396,  0.0050,  ..., -0.0522, -0.0669,  0.6344],\n",
              "          [-0.0547, -0.1029, -0.0495,  ..., -0.0033, -0.0589,  0.4890],\n",
              "          ...,\n",
              "          [-0.1011, -0.0806, -0.0092,  ..., -0.0122, -0.0257,  0.4200],\n",
              "          [-0.0650,  0.1637, -0.1400,  ...,  0.0464,  0.0406,  0.0829],\n",
              "          [-0.0018,  0.0249, -0.1155,  ...,  0.0136,  0.0079,  0.1463]])],\n",
              " [tensor([[-0.1398, -0.1103, -0.0359,  ...,  0.0178,  0.0837,  0.4493],\n",
              "          [ 0.1391,  0.0470,  0.0261,  ...,  0.0051,  0.0121,  0.2558],\n",
              "          [ 0.0515, -0.0343, -0.0080,  ..., -0.0112, -0.0169,  0.5560],\n",
              "          ...,\n",
              "          [-0.1458, -0.1812, -0.0255,  ..., -0.0247, -0.0499,  0.3981],\n",
              "          [-0.0633, -0.1084, -0.0381,  ..., -0.0486,  0.0561,  0.4651],\n",
              "          [-0.0471, -0.1114,  0.0311,  ...,  0.0283, -0.1199,  0.3386]]),\n",
              "  tensor([[-0.0872, -0.1272,  0.0183,  ...,  0.0270, -0.0181,  0.5938],\n",
              "          [-0.1318, -0.0720, -0.1154,  ...,  0.0418, -0.0494,  0.2653],\n",
              "          [-0.0076, -0.0838, -0.0202,  ..., -0.0799, -0.1149,  0.5560],\n",
              "          ...,\n",
              "          [-0.0920, -0.0804, -0.0052,  ...,  0.0252,  0.0449,  0.4651],\n",
              "          [-0.0660, -0.0508, -0.1627,  ...,  0.0195, -0.0066,  0.0632],\n",
              "          [-0.0340,  0.0020, -0.0945,  ..., -0.0077,  0.0832,  0.1623]])],\n",
              " [tensor([[-0.1398, -0.1103, -0.0359,  ...,  0.0178,  0.0837,  0.5008],\n",
              "          [ 0.1391,  0.0470,  0.0261,  ...,  0.0051,  0.0121,  1.0000],\n",
              "          [ 0.0515, -0.0343, -0.0080,  ..., -0.0112, -0.0169,  0.6937],\n",
              "          ...,\n",
              "          [-0.1458, -0.1812, -0.0255,  ..., -0.0247, -0.0499,  1.0000],\n",
              "          [-0.0633, -0.1084, -0.0381,  ..., -0.0486,  0.0561,  1.0000],\n",
              "          [-0.0471, -0.1114,  0.0311,  ...,  0.0283, -0.1199,  0.3386]]),\n",
              "  tensor([[-0.1293, -0.1208, -0.0270,  ...,  0.0183,  0.0400,  0.5008],\n",
              "          [-0.1449, -0.1127, -0.0642,  ...,  0.0402,  0.0719,  0.3532],\n",
              "          [ 0.1391,  0.0470,  0.0261,  ...,  0.0051,  0.0121,  1.0000],\n",
              "          ...,\n",
              "          [ 0.0934, -0.0249,  0.0600,  ..., -0.0551,  0.0174,  0.1410],\n",
              "          [-0.0028, -0.0987,  0.0109,  ...,  0.0118,  0.0463,  0.0425],\n",
              "          [-0.0311, -0.0617, -0.0527,  ..., -0.0029, -0.0092,  0.0948]])]]"
            ]
          },
          "metadata": {},
          "execution_count": 34
        }
      ]
    },
    {
      "cell_type": "code",
      "source": [
        "from sklearn.preprocessing import normalize\n",
        "# from sklearn.preprocessing import StandardScaler\n",
        "# scaler = StandardScaler()"
      ],
      "metadata": {
        "id": "QUE7Mxzw3LN-"
      },
      "execution_count": 35,
      "outputs": []
    },
    {
      "cell_type": "code",
      "source": [
        "def get_labels(data):\n",
        "    labels = []\n",
        "    bin_labels = []\n",
        "    for datum in tqdm(data):\n",
        "        bin_labels.append(datum[\"labels\"])\n",
        "        label = np.array(datum[\"labels\"])\n",
        "        label = normalize([label])\n",
        "        # label = scaler.fit_transform(label)\n",
        "        label = torch.Tensor(label)\n",
        "        label = label.view(label.size(1))\n",
        "        labels.append(label)\n",
        "    return labels, bin_labels\n",
        "\n",
        "labels_train, blabels_train = get_labels(train)\n",
        "labels_test, blabels_test = get_labels(test)\n",
        "labels_val, blabels_val = get_labels(val)"
      ],
      "metadata": {
        "colab": {
          "base_uri": "https://localhost:8080/"
        },
        "id": "AYJ_jwoQpq5K",
        "outputId": "77e89ec3-3a17-4593-f146-97d2ce7f431a"
      },
      "execution_count": 43,
      "outputs": [
        {
          "output_type": "stream",
          "name": "stderr",
          "text": [
            "100%|██████████| 873/873 [00:00<00:00, 7299.15it/s]\n",
            "100%|██████████| 243/243 [00:00<00:00, 5513.00it/s]\n",
            "100%|██████████| 126/126 [00:00<00:00, 6807.27it/s]\n"
          ]
        }
      ]
    },
    {
      "cell_type": "code",
      "source": [
        "labels_test[3]"
      ],
      "metadata": {
        "colab": {
          "base_uri": "https://localhost:8080/"
        },
        "id": "8MUNHKrTqAwW",
        "outputId": "c1b44e99-af15-4774-8dc5-3628146e1f31"
      },
      "execution_count": 37,
      "outputs": [
        {
          "output_type": "execute_result",
          "data": {
            "text/plain": [
              "tensor([0.0000, 0.5000, 0.5000, 0.5000, 0.5000, 0.0000, 0.0000, 0.0000, 0.0000,\n",
              "        0.0000, 0.0000, 0.0000, 0.0000, 0.0000, 0.0000, 0.0000, 0.0000, 0.0000,\n",
              "        0.0000, 0.0000, 0.0000, 0.0000])"
            ]
          },
          "metadata": {},
          "execution_count": 37
        }
      ]
    },
    {
      "cell_type": "code",
      "source": [
        "blabels_test[3]"
      ],
      "metadata": {
        "colab": {
          "base_uri": "https://localhost:8080/"
        },
        "id": "h4gSmdNJbfem",
        "outputId": "427f7210-9b76-4de2-836a-d30b48d5edf4"
      },
      "execution_count": 44,
      "outputs": [
        {
          "output_type": "execute_result",
          "data": {
            "text/plain": [
              "[0, 1, 1, 1, 1, 0, 0, 0, 0, 0, 0, 0, 0, 0, 0, 0, 0, 0, 0, 0, 0, 0]"
            ]
          },
          "metadata": {},
          "execution_count": 44
        }
      ]
    },
    {
      "cell_type": "code",
      "source": [
        "# here make a model which takes a given question and answer pair and then for that pair, it creates a cnn encoding for the question and the answer separately, and then concatenates the two encodings and then passes it through a linear layer to get the final output\n",
        "# then the model does the point-wise multiplication of the output of the question and answer words along with the difference and concatenates them together to be the final output\n",
        "# input dim - 301 for each word of the question and answer\n",
        "class questionEncoder(nn.Module):\n",
        "    def __init__(self, embed_dim, output_dim, kernel_size):\n",
        "        super(questionEncoder, self).__init__()\n",
        "        self.convl = nn.Conv1d(embed_dim, output_dim, kernel_size)\n",
        "        self.global_pool = nn.AdaptiveMaxPool1d(1)\n",
        "\n",
        "    def forward(self, x):\n",
        "        x = x.unsqueeze(0)\n",
        "        x = x.permute(0, 2, 1)\n",
        "        # print(\"question\", x.size())\n",
        "        x = F.relu(self.convl(x))\n",
        "        x = self.global_pool(x)\n",
        "        x = x.view(x.size(0), -1)\n",
        "        # print(x.size())\n",
        "        return x\n",
        "\n",
        "class answerEncoder(nn.Module):\n",
        "    def __init__(self, embed_dim, output_dim, kernel_size):\n",
        "        super(answerEncoder, self).__init__()\n",
        "        self.convl = nn.Conv1d(embed_dim, output_dim, kernel_size)\n",
        "        self.global_pool = nn.AdaptiveMaxPool1d(1)\n",
        "\n",
        "    def forward(self, x):\n",
        "        x = x.unsqueeze(0)\n",
        "        x = x.permute(0, 2, 1)\n",
        "        # print(\"answer\", x.size())\n",
        "        x = F.relu(self.convl(x))\n",
        "        x = self.global_pool(x)\n",
        "        x = x.view(x.size(0), -1)\n",
        "        # print(x.size())\n",
        "        return x"
      ],
      "metadata": {
        "id": "-1okwN3iqqYH"
      },
      "execution_count": 38,
      "outputs": []
    },
    {
      "cell_type": "code",
      "source": [
        "# here make a model which takes a given question and all the possible answer pairs for that question\n",
        "# then the model uses the encoder model to get the encodings for the question and the answer pairs\n",
        "# then the model takes each of the encodings and passes it into a birnn layer\n",
        "# the resulting contextual representation from the birnn is then passed to the feed forward layer to get the final output\n",
        "\n",
        "class ASS(nn.Module):\n",
        "    def __init__(self, questionEncoder, answerEncoder, hidden_dim, output_dim):\n",
        "        super(ASS, self).__init__()\n",
        "        self.questionEncoder = questionEncoder\n",
        "        self.answerEncoder = answerEncoder\n",
        "        self.hidden_dim = hidden_dim\n",
        "        self.rnn = nn.RNN(hidden_dim * 2, hidden_dim, bidirectional=True)\n",
        "        self.fc = nn.Linear(hidden_dim * 2, output_dim)\n",
        "        self.final_output = nn.LogSoftmax(dim = 0)\n",
        "\n",
        "    def forward(self, all_pairs):\n",
        "        # all_pairs is a list of question-answer pairs\n",
        "        # each question-answer pair is a tuple of question and answer\n",
        "        # each question and answer is a list of embeddings\n",
        "\n",
        "        # getting the question and answer encodings\n",
        "        question_encodings = []\n",
        "        answer_encodings = []\n",
        "\n",
        "        for i in range(len(all_pairs)):\n",
        "            question_encodings.append(self.questionEncoder(all_pairs[i][0]))\n",
        "            answer_encodings.append(self.answerEncoder(all_pairs[i][1]))\n",
        "\n",
        "        # computing the final encodings\n",
        "        final_encodings = []\n",
        "\n",
        "        for i in range(len(all_pairs)):\n",
        "            # each question and answer encoding is a tensor of shape (batch_size, hidden_dim)\n",
        "            # for each of the pairs, we need to compute the point-wise multiplication of the question and answer encodings along with the difference\n",
        "            # then we concatenate the two tensors to get the final encoding\n",
        "\n",
        "            # computing the point-wise multiplication of the question and answer encodings\n",
        "            mul_encodings = torch.mul(question_encodings[i], answer_encodings[i])\n",
        "            diff_encodings = torch.sub(question_encodings[i], answer_encodings[i])\n",
        "\n",
        "            # concatenating the two tensors\n",
        "            concat_encodings = torch.cat((mul_encodings, diff_encodings), dim=1)\n",
        "            concat_encodings = torch.squeeze(concat_encodings)\n",
        "            final_encodings.append(concat_encodings)\n",
        "\n",
        "        final_encodings = torch.stack(final_encodings)\n",
        "\n",
        "        # passing the final encodings through the rnn layer\n",
        "        # final encodings is of shape (no_of_pairs, hidden_dim * 2)\n",
        "        h0 = torch.zeros(2, self.hidden_dim)\n",
        "        rnn_output, hidden = self.rnn(final_encodings, h0)\n",
        "        # rnn_output is of shape (no_of_pairs, hidden_dim * 2)\n",
        "        # hidden is of shape (2, no_of_pairs, hidden_dim)\n",
        "        # we need to pass the output of the rnn layer through the feed forward layer to get the final output\n",
        "        output = self.fc(rnn_output)\n",
        "        # output is of shape (no_of_pairs, output_dim)\n",
        "        return self.final_output(output)"
      ],
      "metadata": {
        "id": "k97fajzErFOa"
      },
      "execution_count": 39,
      "outputs": []
    },
    {
      "cell_type": "code",
      "source": [
        "questionEncoderModel = questionEncoder(301, 300, 5)\n",
        "answerEncoderModel = answerEncoder(301, 300, 5)\n",
        "\n",
        "model = ASS(questionEncoderModel, answerEncoderModel, 300, 1)\n",
        "\n",
        "# loss = nn.CrossEntropyLoss()\n",
        "kl_loss = nn.KLDivLoss(reduction=\"batchmean\")\n",
        "\n",
        "optimizer = torch.optim.Adam(model.parameters(), lr=0.001)"
      ],
      "metadata": {
        "id": "wsj62QmkrHPa"
      },
      "execution_count": 68,
      "outputs": []
    },
    {
      "cell_type": "code",
      "source": [
        "# training the model along with validation\n",
        "epochs = 10\n",
        "map_scores = []\n",
        "mrr_scores = []\n",
        "train_loss = []\n",
        "val_loss = []\n",
        "test_losses = []\n",
        "\n",
        "min_loss = float('inf')\n",
        "\n",
        "for epoch in range(epochs):\n",
        "    print(\"Epoch: \", epoch)\n",
        "    model.train()\n",
        "    epoch_train_loss = 0\n",
        "    for i in tqdm(range(len(train_tensors))):\n",
        "        # getting the inputs and labels\n",
        "        inputs = train_tensors[i]\n",
        "        labels = labels_train[i]\n",
        "\n",
        "        # zeroing the gradients\n",
        "        optimizer.zero_grad()\n",
        "\n",
        "        # getting the outputs\n",
        "        outputs = model(inputs)\n",
        "        # print(\"outputs before sq\", outputs.shape)\n",
        "        outputs = outputs.view(outputs.size(0))\n",
        "\n",
        "        # print(i)\n",
        "        # print(\"outputs\", outputs)\n",
        "        # print(outputs.shape)\n",
        "        # print(\"labels\", labels)\n",
        "        # print(labels.shape)\n",
        "\n",
        "        # getting the loss\n",
        "        loss_val = kl_loss(outputs, labels)\n",
        "\n",
        "        # backpropagating the loss\n",
        "        loss_val.backward()\n",
        "\n",
        "        # updating the parameters\n",
        "        optimizer.step()\n",
        "\n",
        "        # adding the loss\n",
        "        epoch_train_loss += loss_val.item()\n",
        "        # print(loss_val.item())\n",
        "\n",
        "    print(\"Epoch train loss: \", epoch_train_loss/len(train_tensors))\n",
        "    train_loss.append(epoch_train_loss/len(train_tensors))\n",
        "\n",
        "    # validation\n",
        "    model.eval()\n",
        "    epoch_val_loss = 0\n",
        "    with torch.no_grad():\n",
        "        for i in tqdm(range(len(val_tensors))):\n",
        "            # getting the inputs and labels\n",
        "            inputs = val_tensors[i]\n",
        "            labels = labels_val[i]\n",
        "\n",
        "            # getting the outputs\n",
        "            outputs = model(inputs)\n",
        "            outputs = outputs.view(outputs.size(0))\n",
        "\n",
        "            # getting the loss\n",
        "            loss_val = kl_loss(outputs, labels)\n",
        "\n",
        "            # adding the loss\n",
        "            epoch_val_loss += loss_val.item()\n",
        "\n",
        "        print(\"Epoch val loss: \", epoch_val_loss/len(val_tensors))\n",
        "        val_loss.append(epoch_val_loss/len(val_tensors))\n",
        "\n",
        "        if(val_loss[-1] < min_loss):\n",
        "          torch.save(model.state_dict(), \"untransformermodel.pt\")\n",
        "\n",
        "    # testing the model\n",
        "    model.eval()\n",
        "    test_loss = 0\n",
        "    predictions = []\n",
        "\n",
        "    with torch.no_grad():\n",
        "        for i in tqdm(range(len(test_tensors))):\n",
        "            # getting the inputs and labels\n",
        "            inputs = test_tensors[i]\n",
        "            labels = labels_test[i]\n",
        "\n",
        "            # getting the outputs\n",
        "            outputs = model(inputs)\n",
        "            outputs = outputs.view(outputs.size(0))\n",
        "            predictions.append(outputs)\n",
        "\n",
        "            # getting the loss\n",
        "            loss_val = kl_loss(outputs, labels)\n",
        "\n",
        "            # printing the loss\n",
        "            test_loss += loss_val.item()\n",
        "\n",
        "        print(\"Test loss: \", test_loss/len(test_tensors))\n",
        "        test_losses.append(test_loss/len(test_tensors))\n",
        "\n",
        "\n",
        "    from sklearn.metrics import label_ranking_average_precision_score\n",
        "    net_map_score = 0\n",
        "    net_mrr_score = 0\n",
        "\n",
        "    for i in tqdm(range(len(predictions))):\n",
        "      pred = torch.exp(predictions[i]).numpy()\n",
        "      gold = np.array(blabels_test[i])\n",
        "\n",
        "      map_score = label_ranking_average_precision_score([gold], [pred])\n",
        "      net_map_score += map_score\n",
        "\n",
        "      new_pred = []\n",
        "      for i, val in enumerate(pred):\n",
        "        new_pred.append((i, val))\n",
        "      new_pred.sort(key=lambda x:x[1], reverse=True)\n",
        "\n",
        "      rr = 0\n",
        "      for i, data in enumerate(new_pred):\n",
        "        if gold[data[0]] == 1:\n",
        "          rr = 1/(i+1)\n",
        "          break\n",
        "\n",
        "      net_mrr_score += rr\n",
        "\n",
        "    print(\"MAP :\", net_map_score/len(predictions))\n",
        "    map_scores.append(net_map_score/len(predictions))\n",
        "\n",
        "    print(\"MRR :\", net_mrr_score/len(predictions))\n",
        "    mrr_scores.append(net_mrr_score/len(predictions))"
      ],
      "metadata": {
        "colab": {
          "base_uri": "https://localhost:8080/"
        },
        "id": "iu6USjgmrJLm",
        "outputId": "e802d1c8-cd8e-401b-9319-1fb01667815f"
      },
      "execution_count": 69,
      "outputs": [
        {
          "output_type": "stream",
          "name": "stdout",
          "text": [
            "Epoch:  0\n"
          ]
        },
        {
          "output_type": "stream",
          "name": "stderr",
          "text": [
            "100%|██████████| 873/873 [00:45<00:00, 19.32it/s]\n"
          ]
        },
        {
          "output_type": "stream",
          "name": "stdout",
          "text": [
            "Epoch train loss:  0.20571725028230972\n"
          ]
        },
        {
          "output_type": "stream",
          "name": "stderr",
          "text": [
            "100%|██████████| 126/126 [00:01<00:00, 88.65it/s] \n"
          ]
        },
        {
          "output_type": "stream",
          "name": "stdout",
          "text": [
            "Epoch val loss:  0.1904641098328053\n"
          ]
        },
        {
          "output_type": "stream",
          "name": "stderr",
          "text": [
            "100%|██████████| 243/243 [00:03<00:00, 76.00it/s]\n"
          ]
        },
        {
          "output_type": "stream",
          "name": "stdout",
          "text": [
            "Test loss:  0.19778817033571472\n"
          ]
        },
        {
          "output_type": "stream",
          "name": "stderr",
          "text": [
            "100%|██████████| 243/243 [00:00<00:00, 772.45it/s]\n"
          ]
        },
        {
          "output_type": "stream",
          "name": "stdout",
          "text": [
            "MAP : 0.6853266773561177\n",
            "MRR : 0.7011581702140888\n",
            "Epoch:  1\n"
          ]
        },
        {
          "output_type": "stream",
          "name": "stderr",
          "text": [
            "100%|██████████| 873/873 [00:46<00:00, 18.83it/s]\n"
          ]
        },
        {
          "output_type": "stream",
          "name": "stdout",
          "text": [
            "Epoch train loss:  0.15287931627883106\n"
          ]
        },
        {
          "output_type": "stream",
          "name": "stderr",
          "text": [
            "100%|██████████| 126/126 [00:02<00:00, 60.85it/s]\n"
          ]
        },
        {
          "output_type": "stream",
          "name": "stdout",
          "text": [
            "Epoch val loss:  0.17259400388750706\n"
          ]
        },
        {
          "output_type": "stream",
          "name": "stderr",
          "text": [
            "100%|██████████| 243/243 [00:03<00:00, 60.91it/s]\n"
          ]
        },
        {
          "output_type": "stream",
          "name": "stdout",
          "text": [
            "Test loss:  0.1872827439480787\n"
          ]
        },
        {
          "output_type": "stream",
          "name": "stderr",
          "text": [
            "100%|██████████| 243/243 [00:00<00:00, 1270.69it/s]\n"
          ]
        },
        {
          "output_type": "stream",
          "name": "stdout",
          "text": [
            "MAP : 0.6997549725506031\n",
            "MRR : 0.7164720774621525\n",
            "Epoch:  2\n"
          ]
        },
        {
          "output_type": "stream",
          "name": "stderr",
          "text": [
            "100%|██████████| 873/873 [00:44<00:00, 19.73it/s]\n"
          ]
        },
        {
          "output_type": "stream",
          "name": "stdout",
          "text": [
            "Epoch train loss:  0.10954210131382427\n"
          ]
        },
        {
          "output_type": "stream",
          "name": "stderr",
          "text": [
            "100%|██████████| 126/126 [00:01<00:00, 86.04it/s] \n"
          ]
        },
        {
          "output_type": "stream",
          "name": "stdout",
          "text": [
            "Epoch val loss:  0.1760413828193296\n"
          ]
        },
        {
          "output_type": "stream",
          "name": "stderr",
          "text": [
            "100%|██████████| 243/243 [00:03<00:00, 61.19it/s]\n"
          ]
        },
        {
          "output_type": "stream",
          "name": "stdout",
          "text": [
            "Test loss:  0.2097656139406582\n"
          ]
        },
        {
          "output_type": "stream",
          "name": "stderr",
          "text": [
            "100%|██████████| 243/243 [00:00<00:00, 854.53it/s]\n"
          ]
        },
        {
          "output_type": "stream",
          "name": "stdout",
          "text": [
            "MAP : 0.6685078423274062\n",
            "MRR : 0.6858289521070929\n",
            "Epoch:  3\n"
          ]
        },
        {
          "output_type": "stream",
          "name": "stderr",
          "text": [
            "100%|██████████| 873/873 [00:44<00:00, 19.53it/s]\n"
          ]
        },
        {
          "output_type": "stream",
          "name": "stdout",
          "text": [
            "Epoch train loss:  0.0823201231695001\n"
          ]
        },
        {
          "output_type": "stream",
          "name": "stderr",
          "text": [
            "100%|██████████| 126/126 [00:01<00:00, 87.44it/s] \n"
          ]
        },
        {
          "output_type": "stream",
          "name": "stdout",
          "text": [
            "Epoch val loss:  0.1830288422093468\n"
          ]
        },
        {
          "output_type": "stream",
          "name": "stderr",
          "text": [
            "100%|██████████| 243/243 [00:02<00:00, 81.81it/s]\n"
          ]
        },
        {
          "output_type": "stream",
          "name": "stdout",
          "text": [
            "Test loss:  0.19559447513102773\n"
          ]
        },
        {
          "output_type": "stream",
          "name": "stderr",
          "text": [
            "100%|██████████| 243/243 [00:00<00:00, 1193.29it/s]\n"
          ]
        },
        {
          "output_type": "stream",
          "name": "stdout",
          "text": [
            "MAP : 0.7099888360506318\n",
            "MRR : 0.7272368329668385\n",
            "Epoch:  4\n"
          ]
        },
        {
          "output_type": "stream",
          "name": "stderr",
          "text": [
            "100%|██████████| 873/873 [00:44<00:00, 19.57it/s]\n"
          ]
        },
        {
          "output_type": "stream",
          "name": "stdout",
          "text": [
            "Epoch train loss:  0.06906889144952762\n"
          ]
        },
        {
          "output_type": "stream",
          "name": "stderr",
          "text": [
            "100%|██████████| 126/126 [00:01<00:00, 86.23it/s] \n"
          ]
        },
        {
          "output_type": "stream",
          "name": "stdout",
          "text": [
            "Epoch val loss:  0.19570726786679143\n"
          ]
        },
        {
          "output_type": "stream",
          "name": "stderr",
          "text": [
            "100%|██████████| 243/243 [00:03<00:00, 70.23it/s]\n"
          ]
        },
        {
          "output_type": "stream",
          "name": "stdout",
          "text": [
            "Test loss:  0.20720239122187226\n"
          ]
        },
        {
          "output_type": "stream",
          "name": "stderr",
          "text": [
            "100%|██████████| 243/243 [00:00<00:00, 863.44it/s]\n"
          ]
        },
        {
          "output_type": "stream",
          "name": "stdout",
          "text": [
            "MAP : 0.6981059298161696\n",
            "MRR : 0.713671666696358\n",
            "Epoch:  5\n"
          ]
        },
        {
          "output_type": "stream",
          "name": "stderr",
          "text": [
            "100%|██████████| 873/873 [00:48<00:00, 17.97it/s]\n"
          ]
        },
        {
          "output_type": "stream",
          "name": "stdout",
          "text": [
            "Epoch train loss:  0.0646415156220256\n"
          ]
        },
        {
          "output_type": "stream",
          "name": "stderr",
          "text": [
            "100%|██████████| 126/126 [00:01<00:00, 84.90it/s]\n"
          ]
        },
        {
          "output_type": "stream",
          "name": "stdout",
          "text": [
            "Epoch val loss:  0.18833086275174984\n"
          ]
        },
        {
          "output_type": "stream",
          "name": "stderr",
          "text": [
            "100%|██████████| 243/243 [00:02<00:00, 81.21it/s]\n"
          ]
        },
        {
          "output_type": "stream",
          "name": "stdout",
          "text": [
            "Test loss:  0.19749251111960178\n"
          ]
        },
        {
          "output_type": "stream",
          "name": "stderr",
          "text": [
            "100%|██████████| 243/243 [00:00<00:00, 1194.24it/s]\n"
          ]
        },
        {
          "output_type": "stream",
          "name": "stdout",
          "text": [
            "MAP : 0.6993078068693591\n",
            "MRR : 0.7152177592193697\n",
            "Epoch:  6\n"
          ]
        },
        {
          "output_type": "stream",
          "name": "stderr",
          "text": [
            "100%|██████████| 873/873 [00:47<00:00, 18.44it/s]\n"
          ]
        },
        {
          "output_type": "stream",
          "name": "stdout",
          "text": [
            "Epoch train loss:  0.04915066656154447\n"
          ]
        },
        {
          "output_type": "stream",
          "name": "stderr",
          "text": [
            "100%|██████████| 126/126 [00:02<00:00, 47.81it/s]\n"
          ]
        },
        {
          "output_type": "stream",
          "name": "stdout",
          "text": [
            "Epoch val loss:  0.20730743079588543\n"
          ]
        },
        {
          "output_type": "stream",
          "name": "stderr",
          "text": [
            "100%|██████████| 243/243 [00:03<00:00, 64.40it/s]\n"
          ]
        },
        {
          "output_type": "stream",
          "name": "stdout",
          "text": [
            "Test loss:  0.20600955666810564\n"
          ]
        },
        {
          "output_type": "stream",
          "name": "stderr",
          "text": [
            "100%|██████████| 243/243 [00:00<00:00, 1272.16it/s]\n"
          ]
        },
        {
          "output_type": "stream",
          "name": "stdout",
          "text": [
            "MAP : 0.670272432618231\n",
            "MRR : 0.6836495616385153\n",
            "Epoch:  7\n"
          ]
        },
        {
          "output_type": "stream",
          "name": "stderr",
          "text": [
            "100%|██████████| 873/873 [00:45<00:00, 19.31it/s]\n"
          ]
        },
        {
          "output_type": "stream",
          "name": "stdout",
          "text": [
            "Epoch train loss:  0.05585094567773054\n"
          ]
        },
        {
          "output_type": "stream",
          "name": "stderr",
          "text": [
            "100%|██████████| 126/126 [00:01<00:00, 87.34it/s] \n"
          ]
        },
        {
          "output_type": "stream",
          "name": "stdout",
          "text": [
            "Epoch val loss:  0.19803030439837288\n"
          ]
        },
        {
          "output_type": "stream",
          "name": "stderr",
          "text": [
            "100%|██████████| 243/243 [00:02<00:00, 81.90it/s]\n"
          ]
        },
        {
          "output_type": "stream",
          "name": "stdout",
          "text": [
            "Test loss:  0.20849382717859666\n"
          ]
        },
        {
          "output_type": "stream",
          "name": "stderr",
          "text": [
            "100%|██████████| 243/243 [00:00<00:00, 1288.22it/s]\n"
          ]
        },
        {
          "output_type": "stream",
          "name": "stdout",
          "text": [
            "MAP : 0.6824412215820168\n",
            "MRR : 0.6994155707118671\n",
            "Epoch:  8\n"
          ]
        },
        {
          "output_type": "stream",
          "name": "stderr",
          "text": [
            "100%|██████████| 873/873 [00:45<00:00, 19.17it/s]\n"
          ]
        },
        {
          "output_type": "stream",
          "name": "stdout",
          "text": [
            "Epoch train loss:  0.0454101541541278\n"
          ]
        },
        {
          "output_type": "stream",
          "name": "stderr",
          "text": [
            "100%|██████████| 126/126 [00:02<00:00, 56.44it/s]\n"
          ]
        },
        {
          "output_type": "stream",
          "name": "stdout",
          "text": [
            "Epoch val loss:  0.21979675460020118\n"
          ]
        },
        {
          "output_type": "stream",
          "name": "stderr",
          "text": [
            "100%|██████████| 243/243 [00:03<00:00, 70.04it/s]\n"
          ]
        },
        {
          "output_type": "stream",
          "name": "stdout",
          "text": [
            "Test loss:  0.21803086275246675\n"
          ]
        },
        {
          "output_type": "stream",
          "name": "stderr",
          "text": [
            "100%|██████████| 243/243 [00:00<00:00, 1159.53it/s]\n"
          ]
        },
        {
          "output_type": "stream",
          "name": "stdout",
          "text": [
            "MAP : 0.7154446020048827\n",
            "MRR : 0.7338028321254298\n",
            "Epoch:  9\n"
          ]
        },
        {
          "output_type": "stream",
          "name": "stderr",
          "text": [
            "100%|██████████| 873/873 [00:45<00:00, 19.26it/s]\n"
          ]
        },
        {
          "output_type": "stream",
          "name": "stdout",
          "text": [
            "Epoch train loss:  0.03771652565049479\n"
          ]
        },
        {
          "output_type": "stream",
          "name": "stderr",
          "text": [
            "100%|██████████| 126/126 [00:01<00:00, 88.03it/s] \n"
          ]
        },
        {
          "output_type": "stream",
          "name": "stdout",
          "text": [
            "Epoch val loss:  0.23499900895082632\n"
          ]
        },
        {
          "output_type": "stream",
          "name": "stderr",
          "text": [
            "100%|██████████| 243/243 [00:03<00:00, 80.21it/s]\n"
          ]
        },
        {
          "output_type": "stream",
          "name": "stdout",
          "text": [
            "Test loss:  0.24625626858275157\n"
          ]
        },
        {
          "output_type": "stream",
          "name": "stderr",
          "text": [
            "100%|██████████| 243/243 [00:00<00:00, 1244.53it/s]"
          ]
        },
        {
          "output_type": "stream",
          "name": "stdout",
          "text": [
            "MAP : 0.7210497850523842\n",
            "MRR : 0.736898378256403\n"
          ]
        },
        {
          "output_type": "stream",
          "name": "stderr",
          "text": [
            "\n"
          ]
        }
      ]
    },
    {
      "cell_type": "code",
      "source": [
        "import matplotlib.pyplot as plt\n",
        "\n",
        "plt.plot(map_scores)\n",
        "plt.xlabel(\"Epoch\")\n",
        "plt.ylabel(\"MAP_Scores\")\n",
        "plt.show()"
      ],
      "metadata": {
        "colab": {
          "base_uri": "https://localhost:8080/",
          "height": 449
        },
        "id": "ukukajGcpJtT",
        "outputId": "b43f8bfd-7b4f-40f2-b4f8-c7342d9cd3f3"
      },
      "execution_count": 72,
      "outputs": [
        {
          "output_type": "display_data",
          "data": {
            "text/plain": [
              "<Figure size 640x480 with 1 Axes>"
            ],
            "image/png": "[encoded data removed]"
          },
          "metadata": {}
        }
      ]
    },
    {
      "cell_type": "code",
      "source": [
        "plt.plot(mrr_scores)\n",
        "plt.xlabel(\"Epoch\")\n",
        "plt.ylabel(\"MRR_Scores\")\n",
        "plt.show()"
      ],
      "metadata": {
        "colab": {
          "base_uri": "https://localhost:8080/",
          "height": 449
        },
        "id": "aMDVjLEdplfZ",
        "outputId": "0fb7363c-fe65-4264-9ad5-0ab89e14d1fd"
      },
      "execution_count": 73,
      "outputs": [
        {
          "output_type": "display_data",
          "data": {
            "text/plain": [
              "<Figure size 640x480 with 1 Axes>"
            ],
            "image/png": "[encoded data removed]"
          },
          "metadata": {}
        }
      ]
    },
    {
      "cell_type": "code",
      "source": [
        "plt.plot(train_loss)\n",
        "plt.xlabel(\"Epoch\")\n",
        "plt.ylabel(\"Train Loss\")\n",
        "plt.show()"
      ],
      "metadata": {
        "colab": {
          "base_uri": "https://localhost:8080/",
          "height": 449
        },
        "id": "5ZZeQxGLpp_p",
        "outputId": "74a3a884-cf4a-40ae-8d3b-6fb8878595a8"
      },
      "execution_count": 74,
      "outputs": [
        {
          "output_type": "display_data",
          "data": {
            "text/plain": [
              "<Figure size 640x480 with 1 Axes>"
            ],
            "image/png": "[encoded data removed]"
          },
          "metadata": {}
        }
      ]
    },
    {
      "cell_type": "code",
      "source": [
        "plt.plot(val_loss)\n",
        "plt.xlabel(\"Epoch\")\n",
        "plt.ylabel(\"Val Loss\")\n",
        "plt.show()"
      ],
      "metadata": {
        "colab": {
          "base_uri": "https://localhost:8080/",
          "height": 449
        },
        "id": "PYfgdG-0puhM",
        "outputId": "0304d23b-ba1b-448d-ba1b-6e9c9eba6c56"
      },
      "execution_count": 75,
      "outputs": [
        {
          "output_type": "display_data",
          "data": {
            "text/plain": [
              "<Figure size 640x480 with 1 Axes>"
            ],
            "image/png": "[encoded data removed]"
          },
          "metadata": {}
        }
      ]
    },
    {
      "cell_type": "code",
      "source": [
        "plt.plot(test_losses)\n",
        "plt.xlabel(\"Epoch\")\n",
        "plt.ylabel(\"Test Loss\")\n",
        "plt.show()"
      ],
      "metadata": {
        "colab": {
          "base_uri": "https://localhost:8080/",
          "height": 449
        },
        "id": "oZmMNjNapynp",
        "outputId": "fdde78b4-d2f5-418c-9867-4d801a8624e4"
      },
      "execution_count": 76,
      "outputs": [
        {
          "output_type": "display_data",
          "data": {
            "text/plain": [
              "<Figure size 640x480 with 1 Axes>"
            ],
            "image/png": "[encoded data removed]"
          },
          "metadata": {}
        }
      ]
    }
  ],
  "metadata": {
    "colab": {
      "provenance": []
    },
    "kernelspec": {
      "display_name": "Python 3",
      "name": "python3"
    },
    "language_info": {
      "name": "python"
    }
  },
  "nbformat": 4,
  "nbformat_minor": 0
}