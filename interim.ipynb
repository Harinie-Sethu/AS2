{
 "cells": [
  {
   "attachments": {},
   "cell_type": "markdown",
   "metadata": {},
   "source": [
    "# AS2\n",
    "# Answer Sentence Selection\n",
    "\n",
    "__Team Members:__   \n",
    "Kapil Rajesh,  Srija Mukhopadyay, Harinie Sivaramasethu  \n"
   ]
  },
  {
   "attachments": {},
   "cell_type": "markdown",
   "metadata": {},
   "source": [
    "## Description:\n",
    "As part of the study, we investigated numerous methodologies, and this paper details the datasets we utilised, our approaches, our conclusions, and next steps. We will also go through our committed deadlines as outlined in the project overview.\n",
    "\n",
    "## Approach:\n",
    "We have performed exploratory data anlaysis to identify any patterns and applied tokenization by ensuring we filter noise in the data and finally we applied embeddings to convert text to meaningful representation.  \n",
    "\n",
    "And then we applied normalized cosine similarity to derive the similarity scores. The predicted scores are evaluated with pearson correlation against actual scores.\n",
    "\n",
    "## Exploratory Data Analysis(EDA):\n",
    "Dataset downloaded from hugging face repo originally extracted from STS Benchmark and the data available at this location: https://huggingface.co/datasets/wiki_qa\n",
    "\n",
    "## Tokenization:\n",
    "As part of tokenization, the following preprocessing processes were used:\n",
    "\n",
    "- Remove punctuation\n",
    "- Replace numbers with num tag\n",
    "- Use Lower case\n",
    "- Used Applied Lemmatization\n",
    "- Used Applied Stemming\n",
    "- Unknown treatment by replacing all words with frequency count 0 and 1 with unk tag\n",
    "- The length of the sentences was considerably decreased after using the preceding preparation processes.\n",
    "\n",
    "\n",
    "\n",
    "Maximum length of sentence in training data before preprocessing : \n",
    "Maximum length of sentence in training data after preprocessing : \n",
    "\n"
   ]
  },
  {
   "cell_type": "code",
   "execution_count": null,
   "metadata": {},
   "outputs": [],
   "source": []
  }
 ],
 "metadata": {
  "language_info": {
   "name": "python"
  },
  "orig_nbformat": 4
 },
 "nbformat": 4,
 "nbformat_minor": 2
}
